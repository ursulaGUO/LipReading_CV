{
  "cells": [
    {
      "cell_type": "markdown",
      "metadata": {
        "id": "TBFXQGKYUc4X"
      },
      "source": [
        "##### Copyright 2022 The TensorFlow Authors."
      ]
    },
    {
      "cell_type": "code",
      "execution_count": null,
      "metadata": {
        "cellView": "form",
        "id": "1z4xy2gTUc4a"
      },
      "outputs": [],
      "source": [
        "#@title Licensed under the Apache License, Version 2.0 (the \"License\");\n",
        "# you may not use this file except in compliance with the License.\n",
        "# You may obtain a copy of the License at\n",
        "#\n",
        "# https://www.apache.org/licenses/LICENSE-2.0\n",
        "#\n",
        "# Unless required by applicable law or agreed to in writing, software\n",
        "# distributed under the License is distributed on an \"AS IS\" BASIS,\n",
        "# WITHOUT WARRANTIES OR CONDITIONS OF ANY KIND, either express or implied.\n",
        "# See the License for the specific language governing permissions and\n",
        "# limitations under the License."
      ]
    },
    {
      "cell_type": "markdown",
      "metadata": {
        "id": "KwQtSOz0VrVX"
      },
      "source": [
        "<table class=\"tfo-notebook-buttons\" align=\"left\">\n",
        "  <td>\n",
        "    <a target=\"_blank\" href=\"https://www.tensorflow.org/tutorials/video/video_classification\"><img src=\"https://www.tensorflow.org/images/tf_logo_32px.png\" />View on TensorFlow.org</a>\n",
        "  </td>\n",
        "  <td>\n",
        "    <a target=\"_blank\" href=\"https://colab.research.google.com/github/tensorflow/docs/blob/master/site/en/tutorials/video/video_classification.ipynb\"><img src=\"https://www.tensorflow.org/images/colab_logo_32px.png\" />Run in Google Colab</a>\n",
        "  </td>\n",
        "  <td>\n",
        "    <a target=\"_blank\" href=\"https://github.com/tensorflow/docs/blob/master/site/en/tutorials/video/video_classification.ipynb\"><img src=\"https://www.tensorflow.org/images/GitHub-Mark-32px.png\" />View source on GitHub</a>\n",
        "  </td>\n",
        "  <td>\n",
        "    <a href=\"https://storage.googleapis.com/tensorflow_docs/docs/site/en/tutorials/video/video_classification.ipynb\"><img src=\"https://www.tensorflow.org/images/download_logo_32px.png\" />Download notebook</a>\n",
        "  </td>\n",
        "</table>"
      ]
    },
    {
      "cell_type": "markdown",
      "metadata": {
        "id": "L2MHy42s5wl6"
      },
      "source": [
        "# Video classification with a 3D convolutional neural network\n",
        "\n",
        "This tutorial demonstrates training a 3D convolutional neural network (CNN) for video classification using the [UCF101](https://www.crcv.ucf.edu/data/UCF101.php) action recognition dataset. A 3D CNN uses a three-dimensional filter to perform convolutions. The kernel is able to slide in three directions, whereas in a 2D CNN it can slide in two dimensions. The model is based on the work published in [A Closer Look at Spatiotemporal Convolutions for Action Recognition](https://arxiv.org/abs/1711.11248v3) by D. Tran et al. (2017).  In this tutorial, you will:\n",
        "\n",
        "* Build an input pipeline\n",
        "* Build a 3D convolutional neural network model with residual connections using Keras functional API\n",
        "* Train the model\n",
        "* Evaluate and test the model\n",
        "\n",
        "This video classification tutorial is the second part in a series of TensorFlow video tutorials. Here are the other three tutorials:\n",
        "\n",
        "- [Load video data](https://www.tensorflow.org/tutorials/load_data/video): This tutorial explains much of the code used in this document.\n",
        "- [MoViNet for streaming action recognition](https://www.tensorflow.org/hub/tutorials/movinet): Get familiar with the MoViNet models that are available on TF Hub.\n",
        "- [Transfer learning for video classification with MoViNet](https://www.tensorflow.org/tutorials/video/transfer_learning_with_movinet): This tutorial explains how to use a pre-trained video classification model trained on a different dataset with the UCF-101 dataset."
      ]
    },
    {
      "cell_type": "markdown",
      "metadata": {
        "id": "_Ih_df2q0kw4"
      },
      "source": [
        "## Setup\n",
        "\n",
        "Begin by installing and importing some necessary libraries, including:\n",
        "[remotezip](https://github.com/gtsystem/python-remotezip) to inspect the contents of a ZIP file, [tqdm](https://github.com/tqdm/tqdm) to use a progress bar, [OpenCV](https://opencv.org/) to process video files, [einops](https://github.com/arogozhnikov/einops/tree/master/docs) for performing more complex tensor operations, and [`tensorflow_docs`](https://github.com/tensorflow/docs/tree/master/tools/tensorflow_docs) for embedding data in a Jupyter notebook."
      ]
    },
    {
      "cell_type": "code",
      "execution_count": null,
      "metadata": {
        "colab": {
          "base_uri": "https://localhost:8080/"
        },
        "id": "KEbL4Mwi01PV",
        "outputId": "057f922a-58af-4d6e-c5e8-73bdaefbac85"
      },
      "outputs": [],
      "source": [
        "!pip install remotezip tqdm opencv-python einops\n",
        "!pip install -U tensorflow keras"
      ]
    },
    {
      "cell_type": "code",
      "execution_count": 1,
      "metadata": {
        "id": "gg0otuqb0hIf"
      },
      "outputs": [],
      "source": [
        "import tqdm\n",
        "import random\n",
        "import pathlib\n",
        "import itertools\n",
        "import collections\n",
        "\n",
        "import cv2\n",
        "import einops\n",
        "import numpy as np\n",
        "import remotezip as rz\n",
        "import seaborn as sns\n",
        "import matplotlib.pyplot as plt\n",
        "\n",
        "import tensorflow as tf\n",
        "import tensorflow.keras as keras\n",
        "from tensorflow.keras import layers"
      ]
    },
    {
      "cell_type": "markdown",
      "metadata": {
        "id": "Ctk9A57-6ABq"
      },
      "source": [
        "## Load and preprocess video data\n",
        "\n",
        "The hidden cell below defines helper functions to download a slice of data from the UCF-101 dataset, and load it into a `tf.data.Dataset`. You can learn more about the specific preprocessing steps in the [Loading video data tutorial](../load_data/video.ipynb), which walks you through this code in more detail.\n",
        "\n",
        "The `FrameGenerator` class at the end of the hidden block is the most important utility here. It creates an iterable object that can feed data into the TensorFlow data pipeline. Specifically, this class contains a Python generator that loads the video frames along with its encoded label. The generator (`__call__`) function yields the frame array produced by `frames_from_video_file` and a one-hot encoded vector of the label associated with the set of frames."
      ]
    },
    {
      "cell_type": "code",
      "execution_count": 2,
      "metadata": {
        "id": "nB2aOTU35r9_"
      },
      "outputs": [],
      "source": [
        "#@title\n",
        "\n",
        "def list_files_per_class(zip_url):\n",
        "  \"\"\"\n",
        "    List the files in each class of the dataset given the zip URL.\n",
        "\n",
        "    Args:\n",
        "      zip_url: URL from which the files can be unzipped.\n",
        "\n",
        "    Return:\n",
        "      files: List of files in each of the classes.\n",
        "  \"\"\"\n",
        "  files = []\n",
        "  with rz.RemoteZip(URL) as zip:\n",
        "    for zip_info in zip.infolist():\n",
        "      files.append(zip_info.filename)\n",
        "  return files\n",
        "\n",
        "def get_class(fname):\n",
        "  \"\"\"\n",
        "    Retrieve the name of the class given a filename.\n",
        "\n",
        "    Args:\n",
        "      fname: Name of the file in the UCF101 dataset.\n",
        "\n",
        "    Return:\n",
        "      Class that the file belongs to.\n",
        "  \"\"\"\n",
        "  return fname.split('_')[-3]\n",
        "\n",
        "def get_files_per_class(files):\n",
        "  \"\"\"\n",
        "    Retrieve the files that belong to each class.\n",
        "\n",
        "    Args:\n",
        "      files: List of files in the dataset.\n",
        "\n",
        "    Return:\n",
        "      Dictionary of class names (key) and files (values).\n",
        "  \"\"\"\n",
        "  files_for_class = collections.defaultdict(list)\n",
        "  for fname in files:\n",
        "    class_name = get_class(fname)\n",
        "    files_for_class[class_name].append(fname)\n",
        "  return files_for_class\n",
        "\n",
        "def download_from_zip(zip_url, to_dir, file_names):\n",
        "  \"\"\"\n",
        "    Download the contents of the zip file from the zip URL.\n",
        "\n",
        "    Args:\n",
        "      zip_url: Zip URL containing data.\n",
        "      to_dir: Directory to download data to.\n",
        "      file_names: Names of files to download.\n",
        "  \"\"\"\n",
        "  with rz.RemoteZip(zip_url) as zip:\n",
        "    for fn in tqdm.tqdm(file_names):\n",
        "      class_name = get_class(fn)\n",
        "      zip.extract(fn, str(to_dir / class_name))\n",
        "      unzipped_file = to_dir / class_name / fn\n",
        "\n",
        "      fn = pathlib.Path(fn).parts[-1]\n",
        "      output_file = to_dir / class_name / fn\n",
        "      unzipped_file.rename(output_file,)\n",
        "\n",
        "def split_class_lists(files_for_class, count):\n",
        "  \"\"\"\n",
        "    Returns the list of files belonging to a subset of data as well as the remainder of\n",
        "    files that need to be downloaded.\n",
        "\n",
        "    Args:\n",
        "      files_for_class: Files belonging to a particular class of data.\n",
        "      count: Number of files to download.\n",
        "\n",
        "    Return:\n",
        "      split_files: Files belonging to the subset of data.\n",
        "      remainder: Dictionary of the remainder of files that need to be downloaded.\n",
        "  \"\"\"\n",
        "  split_files = []\n",
        "  remainder = {}\n",
        "  for cls in files_for_class:\n",
        "    split_files.extend(files_for_class[cls][:count])\n",
        "    remainder[cls] = files_for_class[cls][count:]\n",
        "  return split_files, remainder\n",
        "\n",
        "def download_ufc_101_subset(zip_url, num_classes, splits, download_dir):\n",
        "  \"\"\"\n",
        "    Download a subset of the UFC101 dataset and split them into various parts, such as\n",
        "    training, validation, and test.\n",
        "\n",
        "    Args:\n",
        "      zip_url: Zip URL containing data.\n",
        "      num_classes: Number of labels.\n",
        "      splits: Dictionary specifying the training, validation, test, etc. (key) division of data\n",
        "              (value is number of files per split).\n",
        "      download_dir: Directory to download data to.\n",
        "\n",
        "    Return:\n",
        "      dir: Posix path of the resulting directories containing the splits of data.\n",
        "  \"\"\"\n",
        "  files = list_files_per_class(zip_url)\n",
        "  for f in files:\n",
        "    tokens = f.split('/')\n",
        "    if len(tokens) <= 2:\n",
        "      files.remove(f) # Remove that item from the list if it does not have a filename\n",
        "\n",
        "  files_for_class = get_files_per_class(files)\n",
        "\n",
        "  classes = list(files_for_class.keys())[:num_classes]\n",
        "\n",
        "  for cls in classes:\n",
        "    new_files_for_class = files_for_class[cls]\n",
        "    random.shuffle(new_files_for_class)\n",
        "    files_for_class[cls] = new_files_for_class\n",
        "\n",
        "  # Only use the number of classes you want in the dictionary\n",
        "  files_for_class = {x: files_for_class[x] for x in list(files_for_class)[:num_classes]}\n",
        "\n",
        "  dirs = {}\n",
        "  for split_name, split_count in splits.items():\n",
        "    print(split_name, \":\")\n",
        "    split_dir = download_dir / split_name\n",
        "    split_files, files_for_class = split_class_lists(files_for_class, split_count)\n",
        "    download_from_zip(zip_url, split_dir, split_files)\n",
        "    dirs[split_name] = split_dir\n",
        "\n",
        "  return dirs\n",
        "\n",
        "def format_frames(frame, output_size):\n",
        "  \"\"\"\n",
        "    Pad and resize an image from a video.\n",
        "\n",
        "    Args:\n",
        "      frame: Image that needs to resized and padded.\n",
        "      output_size: Pixel size of the output frame image.\n",
        "\n",
        "    Return:\n",
        "      Formatted frame with padding of specified output size.\n",
        "  \"\"\"\n",
        "  if frame is None:\n",
        "      return None\n",
        "  frame = tf.image.convert_image_dtype(frame, tf.float32)\n",
        "  frame = tf.image.resize(frame, output_size)\n",
        "  return frame\n",
        "\n",
        "\n",
        "def frames_from_video_file(video_path, n_frames, output_size = (224,224), frame_step = 15):\n",
        "  \"\"\"\n",
        "    Creates frames from each video file present for each category.\n",
        "\n",
        "    Args:\n",
        "      video_path: File path to the video.\n",
        "      n_frames: Number of frames to be created per video file.\n",
        "      output_size: Pixel size of the output frame image.\n",
        "\n",
        "    Return:\n",
        "      An NumPy array of frames in the shape of (n_frames, height, width, channels).\n",
        "  \"\"\"\n",
        "  # Read each video frame by frame\n",
        "  result = []\n",
        "  src = cv2.VideoCapture(str(video_path))\n",
        "\n",
        "  video_length = src.get(cv2.CAP_PROP_FRAME_COUNT)\n",
        "\n",
        "  need_length = 1 + (n_frames - 1) * frame_step\n",
        "\n",
        "  if need_length > video_length:\n",
        "    start = 0\n",
        "  else:\n",
        "    max_start = video_length - need_length\n",
        "    start = random.randint(0, int(max_start) + 1)\n",
        "\n",
        "  src.set(cv2.CAP_PROP_POS_FRAMES, start)\n",
        "  # ret is a boolean indicating whether read was successful, frame is the image itself\n",
        "  ret, frame = src.read()\n",
        "  if not ret:\n",
        "    print(f\" Could not read frame in video: {video_path}\")\n",
        "  result.append(format_frames(frame, output_size))\n",
        "\n",
        "  for _ in range(n_frames - 1):\n",
        "    for _ in range(frame_step):\n",
        "      ret, frame = src.read()\n",
        "    if ret:\n",
        "      frame = format_frames(frame, output_size)\n",
        "      result.append(frame)\n",
        "    else:\n",
        "      result.append(np.zeros_like(result[0]))\n",
        "  src.release()\n",
        "  result = np.array(result)[..., [2, 1, 0]]\n",
        "\n",
        "  return result\n",
        "\n",
        "class FrameGenerator:\n",
        "  def __init__(self, path, n_frames, training = False):\n",
        "    \"\"\" Returns a set of frames with their associated label.\n",
        "\n",
        "      Args:\n",
        "        path: Video file paths.\n",
        "        n_frames: Number of frames.\n",
        "        training: Boolean to determine if training dataset is being created.\n",
        "    \"\"\"\n",
        "    self.path = path\n",
        "    self.n_frames = n_frames\n",
        "    self.training = training\n",
        "    self.class_names = sorted(set(p.name for p in self.path.iterdir() if p.is_dir()))\n",
        "    self.class_ids_for_name = dict((name, idx) for idx, name in enumerate(self.class_names))\n",
        "\n",
        "  def get_files_and_class_names(self):\n",
        "    video_paths = list(self.path.glob('*/*.mp4'))\n",
        "    classes = [p.parent.name for p in video_paths]\n",
        "    return video_paths, classes\n",
        "\n",
        "  def __call__(self):\n",
        "    video_paths, classes = self.get_files_and_class_names()\n",
        "\n",
        "    pairs = list(zip(video_paths, classes))\n",
        "\n",
        "    if self.training:\n",
        "      random.shuffle(pairs)\n",
        "\n",
        "    for path, name in pairs:\n",
        "      video_frames = frames_from_video_file(path, self.n_frames)\n",
        "      if video_frames is None or len(video_frames) < self.n_frames:\n",
        "        print(f\" Skipping video: {path} (Invalid or too few frames)\")\n",
        "        continue\n",
        "      label = self.class_ids_for_name[name] # Encode labels\n",
        "      yield video_frames, label"
      ]
    },
    {
      "cell_type": "code",
      "execution_count": 3,
      "metadata": {},
      "outputs": [
        {
          "name": "stderr",
          "output_type": "stream",
          "text": [
            "2025-04-23 16:35:18.867604: I metal_plugin/src/device/metal_device.cc:1154] Metal device set to: Apple M3 Pro\n",
            "2025-04-23 16:35:18.867679: I metal_plugin/src/device/metal_device.cc:296] systemMemory: 18.00 GB\n",
            "2025-04-23 16:35:18.867690: I metal_plugin/src/device/metal_device.cc:313] maxCacheSize: 6.00 GB\n",
            "WARNING: All log messages before absl::InitializeLog() is called are written to STDERR\n",
            "I0000 00:00:1745444118.868902 14897971 pluggable_device_factory.cc:305] Could not identify NUMA node of platform GPU ID 0, defaulting to 0. Your kernel may not have been built with NUMA support.\n",
            "I0000 00:00:1745444118.868979 14897971 pluggable_device_factory.cc:271] Created TensorFlow device (/job:localhost/replica:0/task:0/device:GPU:0 with 0 MB memory) -> physical PluggableDevice (device: 0, name: METAL, pci bus id: <undefined>)\n"
          ]
        }
      ],
      "source": [
        "n_frames = 10\n",
        "batch_size = 32\n",
        "\n",
        "train_path = pathlib.Path('/Users/blag/Documents/UChicago MS/2025 Spring/Computer Vision with DL/LipReading_CV/data/video1')\n",
        "\n",
        "output_signature = (tf.TensorSpec(shape = (None, None, None, 3), dtype = tf.float32),\n",
        "                    tf.TensorSpec(shape = (), dtype = tf.int16))\n",
        "\n",
        "train_ds = tf.data.Dataset.from_generator(FrameGenerator(train_path, n_frames, training=True),\n",
        "                                          output_signature = output_signature)\n",
        "\n",
        "\n",
        "# Batch the data\n",
        "train_ds = train_ds.batch(batch_size)\n",
        "\n",
        "val_ds = train_ds\n",
        "test_ds = train_ds\n"
      ]
    },
    {
      "cell_type": "markdown",
      "metadata": {},
      "source": [
        "## DON'T RUN BELOW"
      ]
    },
    {
      "cell_type": "code",
      "execution_count": null,
      "metadata": {
        "colab": {
          "base_uri": "https://localhost:8080/"
        },
        "id": "OYY7PkdJFM4Z",
        "outputId": "fae7104d-dbb8-4437-cbb5-02dc266d5742"
      },
      "outputs": [],
      "source": [
        "URL = 'https://storage.googleapis.com/thumos14_files/UCF101_videos.zip'\n",
        "download_dir = pathlib.Path('./UCF101_subset/')\n",
        "subset_paths = download_ufc_101_subset(URL,\n",
        "                        num_classes = 10,\n",
        "                        splits = {\"train\": 30, \"val\": 10, \"test\": 10},\n",
        "                        download_dir = download_dir)"
      ]
    },
    {
      "cell_type": "markdown",
      "metadata": {
        "id": "C0O3ttIzpFZJ"
      },
      "source": [
        "Create the training, validation, and test sets (`train_ds`, `val_ds`, and `test_ds`)."
      ]
    },
    {
      "cell_type": "markdown",
      "metadata": {},
      "source": [
        "## DON'T RUN BELOW"
      ]
    },
    {
      "cell_type": "code",
      "execution_count": null,
      "metadata": {
        "cellView": "form",
        "id": "lq86IyGDJjTX"
      },
      "outputs": [],
      "source": [
        "n_frames = 10\n",
        "batch_size = 8\n",
        "\n",
        "output_signature = (tf.TensorSpec(shape = (None, None, None, 3), dtype = tf.float32),\n",
        "                    tf.TensorSpec(shape = (), dtype = tf.int16))\n",
        "\n",
        "train_ds = tf.data.Dataset.from_generator(FrameGenerator(subset_paths['train'], n_frames, training=True),\n",
        "                                          output_signature = output_signature)\n",
        "\n",
        "\n",
        "# Batch the data\n",
        "train_ds = train_ds.batch(batch_size)\n",
        "\n",
        "val_ds = tf.data.Dataset.from_generator(FrameGenerator(subset_paths['val'], n_frames),\n",
        "                                        output_signature = output_signature)\n",
        "val_ds = val_ds.batch(batch_size)\n",
        "\n",
        "test_ds = tf.data.Dataset.from_generator(FrameGenerator(subset_paths['test'], n_frames),\n",
        "                                         output_signature = output_signature)\n",
        "\n",
        "test_ds = test_ds.batch(batch_size)"
      ]
    },
    {
      "cell_type": "markdown",
      "metadata": {
        "id": "nzogoGA4pQW0"
      },
      "source": [
        "## Create the model\n",
        "\n",
        "The following 3D convolutional neural network model is based off the paper [A Closer Look at Spatiotemporal Convolutions for Action Recognition](https://arxiv.org/abs/1711.11248v3) by D. Tran et al. (2017). The paper compares several versions of 3D ResNets. Instead of operating on a single image with dimensions `(height, width)`, like standard ResNets, these operate on video volume `(time, height, width)`. The most obvious approach to this problem would be replace each 2D convolution (`layers.Conv2D`) with a 3D convolution (`layers.Conv3D`).\n",
        "\n",
        "This tutorial uses a (2 + 1)D convolution with [residual connections](https://arxiv.org/abs/1512.03385). The (2 + 1)D convolution allows for the decomposition of the spatial and temporal dimensions, therefore creating two separate steps. An advantage of this approach is that factorizing the convolutions into spatial and temporal dimensions saves parameters.\n",
        "\n",
        "For each output location a 3D convolution combines all the vectors from a 3D patch of the volume to create one vector in the output volume.\n",
        "\n",
        "![3D convolutions](https://www.tensorflow.org/images/tutorials/video/3DCNN.png)\n",
        "\n",
        "This operation is takes `time * height * width * channels` inputs and produces `channels` outputs (assuming the number of input and output channels are the same. So a 3D convolution layer with a kernel size of `(3 x 3 x 3)` would need a weight-matrix with `27 * channels ** 2` entries. The reference paper found that a more effective & efficient approach was to factorize the convolution. Instead of a single 3D convolution to process the time and space dimensions, they proposed a \\\"(2+1)D\\\" convolution which processes the space and time dimensions separately. The figure below shows the factored spatial and temporal convolutions of a (2 + 1)D convolution.\n",
        "\n",
        "![(2+1)D convolutions](https://www.tensorflow.org/images/tutorials/video/2plus1CNN.png)\n",
        "\n",
        "The main advantage of this approach is that it reduces the number of parameters. In the (2 + 1)D convolution the spatial convolution takes in data of the shape `(1, width, height)`, while the temporal convolution takes in data of the shape `(time, 1, 1)`. For example, a (2 + 1)D convolution with kernel size `(3 x 3 x 3)` would need weight matrices of size `(9 * channels**2) + (3 * channels**2)`, less than half as many as the full 3D convolution. This tutorial implements (2 + 1)D ResNet18, where each convolution in the resnet is replaced by a (2+1)D convolution."
      ]
    },
    {
      "cell_type": "code",
      "execution_count": 4,
      "metadata": {
        "id": "GZcB_7dg-EZJ"
      },
      "outputs": [],
      "source": [
        "# Define the dimensions of one frame in the set of frames created\n",
        "HEIGHT = 224\n",
        "WIDTH = 224"
      ]
    },
    {
      "cell_type": "code",
      "execution_count": 5,
      "metadata": {
        "id": "yD_sDIBlNu7K"
      },
      "outputs": [],
      "source": [
        "class Conv2Plus1D(keras.layers.Layer):\n",
        "  def __init__(self, filters, kernel_size, padding):\n",
        "    \"\"\"\n",
        "      A sequence of convolutional layers that first apply the convolution operation over the\n",
        "      spatial dimensions, and then the temporal dimension.\n",
        "    \"\"\"\n",
        "    super().__init__()\n",
        "    self.seq = keras.Sequential([\n",
        "        # Spatial decomposition\n",
        "        layers.Conv3D(filters=filters,\n",
        "                      kernel_size=(1, kernel_size[1], kernel_size[2]),\n",
        "                      padding=padding),\n",
        "        # Temporal decomposition\n",
        "        layers.Conv3D(filters=filters,\n",
        "                      kernel_size=(kernel_size[0], 1, 1),\n",
        "                      padding=padding)\n",
        "        ])\n",
        "\n",
        "  def call(self, x):\n",
        "    return self.seq(x)"
      ]
    },
    {
      "cell_type": "markdown",
      "metadata": {
        "id": "I-fCAddqEORZ"
      },
      "source": [
        "A ResNet model is made from a sequence of residual blocks.\n",
        "A residual block has two branches. The main branch performs the calculation, but is difficult for gradients to flow through.\n",
        "The residual branch bypasses the main calculation and mostly just adds the input to the output of the main branch.\n",
        "Gradients flow easily through this branch.\n",
        "Therefore, an easy path from the loss function to any of the residual block's main branch will be present.\n",
        "This avoids the vanishing gradient problem.\n",
        "\n",
        "Create the main branch of the residual block with the following class. In contrast to the standard ResNet structure this uses the custom `Conv2Plus1D` layer instead of `layers.Conv2D`."
      ]
    },
    {
      "cell_type": "code",
      "execution_count": 6,
      "metadata": {
        "id": "tjxAKHwn6mTJ"
      },
      "outputs": [],
      "source": [
        "class ResidualMain(keras.layers.Layer):\n",
        "  \"\"\"\n",
        "    Residual block of the model with convolution, layer normalization, and the\n",
        "    activation function, ReLU.\n",
        "  \"\"\"\n",
        "  def __init__(self, filters, kernel_size):\n",
        "    super().__init__()\n",
        "    self.seq = keras.Sequential([\n",
        "        Conv2Plus1D(filters=filters,\n",
        "                    kernel_size=kernel_size,\n",
        "                    padding='same'),\n",
        "        layers.LayerNormalization(),\n",
        "        layers.ReLU(),\n",
        "        Conv2Plus1D(filters=filters,\n",
        "                    kernel_size=kernel_size,\n",
        "                    padding='same'),\n",
        "        layers.LayerNormalization()\n",
        "    ])\n",
        "\n",
        "  def call(self, x):\n",
        "    return self.seq(x)"
      ]
    },
    {
      "cell_type": "markdown",
      "metadata": {
        "id": "CevmZ9qsdpWC"
      },
      "source": [
        "To add the residual branch to the main branch it needs to have the same size. The `Project` layer below deals with cases where the number of channels is changed on the branch. In particular, a sequence of densely-connected layer followed by normalization is added.  "
      ]
    },
    {
      "cell_type": "code",
      "execution_count": 8,
      "metadata": {
        "id": "znrk5BrL6kuq"
      },
      "outputs": [],
      "source": [
        "class Project(keras.layers.Layer):\n",
        "  \"\"\"\n",
        "    Project certain dimensions of the tensor as the data is passed through different\n",
        "    sized filters and downsampled.\n",
        "  \"\"\"\n",
        "  def __init__(self, units):\n",
        "    super().__init__()\n",
        "    self.seq = keras.Sequential([\n",
        "        layers.Dense(units),\n",
        "        layers.LayerNormalization()\n",
        "    ])\n",
        "\n",
        "  def call(self, x):\n",
        "    return self.seq(x)"
      ]
    },
    {
      "cell_type": "markdown",
      "metadata": {
        "id": "S8zycXGvfnak"
      },
      "source": [
        "Use `add_residual_block` to introduce a skip connection between the layers of the model."
      ]
    },
    {
      "cell_type": "code",
      "execution_count": 9,
      "metadata": {
        "id": "urjVgqvw-TlB"
      },
      "outputs": [],
      "source": [
        "def add_residual_block(input, filters, kernel_size):\n",
        "  \"\"\"\n",
        "    Add residual blocks to the model. If the last dimensions of the input data\n",
        "    and filter size does not match, project it such that last dimension matches.\n",
        "  \"\"\"\n",
        "  out = ResidualMain(filters,\n",
        "                     kernel_size)(input)\n",
        "\n",
        "  res = input\n",
        "  # Using the Keras functional APIs, project the last dimension of the tensor to\n",
        "  # match the new filter size\n",
        "  if out.shape[-1] != input.shape[-1]:\n",
        "    res = Project(out.shape[-1])(res)\n",
        "\n",
        "  return layers.add([res, out])"
      ]
    },
    {
      "cell_type": "markdown",
      "metadata": {
        "id": "bozog_0hFKrD"
      },
      "source": [
        "Resizing the video is necessary to perform downsampling of the data. In particular, downsampling the video frames allow for the model to examine specific parts of frames to detect patterns that may be specific to a certain action. Through downsampling, non-essential information can be discarded. Moreoever, resizing the video will allow for dimensionality reduction and therefore faster processing through the model."
      ]
    },
    {
      "cell_type": "code",
      "execution_count": 10,
      "metadata": {
        "id": "lQOWuc2I-QqK"
      },
      "outputs": [],
      "source": [
        "class ResizeVideo(keras.layers.Layer):\n",
        "  def __init__(self, height, width):\n",
        "    super().__init__()\n",
        "    self.height = height\n",
        "    self.width = width\n",
        "    self.resizing_layer = layers.Resizing(self.height, self.width)\n",
        "\n",
        "  def call(self, video):\n",
        "    \"\"\"\n",
        "      Use the einops library to resize the tensor.\n",
        "\n",
        "      Args:\n",
        "        video: Tensor representation of the video, in the form of a set of frames.\n",
        "\n",
        "      Return:\n",
        "        A downsampled size of the video according to the new height and width it should be resized to.\n",
        "    \"\"\"\n",
        "    # b stands for batch size, t stands for time, h stands for height,\n",
        "    # w stands for width, and c stands for the number of channels.\n",
        "    old_shape = einops.parse_shape(video, 'b t h w c')\n",
        "    images = einops.rearrange(video, 'b t h w c -> (b t) h w c')\n",
        "    images = self.resizing_layer(images)\n",
        "    videos = einops.rearrange(\n",
        "        images, '(b t) h w c -> b t h w c',\n",
        "        t = old_shape['t'])\n",
        "    return videos"
      ]
    },
    {
      "cell_type": "markdown",
      "metadata": {
        "id": "Z9IqzCq--Uu9"
      },
      "source": [
        "Use the [Keras functional API](https://www.tensorflow.org/guide/keras/functional) to build the residual network."
      ]
    },
    {
      "cell_type": "code",
      "execution_count": 11,
      "metadata": {
        "id": "_bROfh_K-Wxs"
      },
      "outputs": [],
      "source": [
        "input_shape = (None, 10, HEIGHT, WIDTH, 3)\n",
        "input = layers.Input(shape=(input_shape[1:]))\n",
        "x = input\n",
        "\n",
        "x = Conv2Plus1D(filters=16, kernel_size=(3, 7, 7), padding='same')(x)\n",
        "x = layers.BatchNormalization()(x)\n",
        "x = layers.ReLU()(x)\n",
        "x = ResizeVideo(HEIGHT // 2, WIDTH // 2)(x)\n",
        "\n",
        "# Block 1\n",
        "x = add_residual_block(x, 16, (3, 3, 3))\n",
        "x = ResizeVideo(HEIGHT // 4, WIDTH // 4)(x)\n",
        "\n",
        "# Block 2\n",
        "x = add_residual_block(x, 32, (3, 3, 3))\n",
        "x = ResizeVideo(HEIGHT // 8, WIDTH // 8)(x)\n",
        "\n",
        "# Block 3\n",
        "x = add_residual_block(x, 64, (3, 3, 3))\n",
        "x = ResizeVideo(HEIGHT // 16, WIDTH // 16)(x)\n",
        "\n",
        "# Block 4\n",
        "x = add_residual_block(x, 128, (3, 3, 3))\n",
        "\n",
        "x = layers.GlobalAveragePooling3D()(x)\n",
        "x = layers.Flatten()(x)\n",
        "x = layers.Dense(10)(x)\n",
        "\n",
        "model = keras.Model(input, x)"
      ]
    },
    {
      "cell_type": "code",
      "execution_count": 12,
      "metadata": {
        "id": "TiO0WylG-ZHM"
      },
      "outputs": [],
      "source": [
        "frames, label = next(iter(train_ds))\n",
        "model.build(frames)"
      ]
    },
    {
      "cell_type": "code",
      "execution_count": 13,
      "metadata": {
        "colab": {
          "base_uri": "https://localhost:8080/",
          "height": 1000
        },
        "id": "GAsKrM8r-bKM",
        "outputId": "5e79ca74-caf3-4c32-b442-5c3a9be21a42"
      },
      "outputs": [
        {
          "name": "stdout",
          "output_type": "stream",
          "text": [
            "You must install graphviz (see instructions at https://graphviz.gitlab.io/download/) for `plot_model` to work.\n"
          ]
        }
      ],
      "source": [
        "# Visualize the model\n",
        "keras.utils.plot_model(model, expand_nested=True, dpi=60, show_shapes=True)"
      ]
    },
    {
      "cell_type": "markdown",
      "metadata": {
        "id": "1yvJJPnY-dMP"
      },
      "source": [
        "## Train the model\n",
        "\n",
        "For this tutorial, choose the `tf.keras.optimizers.Adam` optimizer and the `tf.keras.losses.SparseCategoricalCrossentropy` loss function. Use the `metrics` argument to the view the accuracy of the model performance at every step."
      ]
    },
    {
      "cell_type": "code",
      "execution_count": 14,
      "metadata": {
        "id": "ejrbyebDp2tA"
      },
      "outputs": [],
      "source": [
        "model.compile(loss = keras.losses.SparseCategoricalCrossentropy(from_logits=True),\n",
        "              optimizer = keras.optimizers.Adam(learning_rate = 0.0001),\n",
        "              metrics = ['accuracy'])"
      ]
    },
    {
      "cell_type": "markdown",
      "metadata": {
        "id": "nZT1Xlx9stP2"
      },
      "source": [
        "Train the model for 50 epoches with the Keras `Model.fit` method.\n",
        "\n",
        "Note: This example model is trained on fewer data points (300 training and 100 validation examples) to keep training time reasonable for this tutorial. Moreover, this example model may take over one hour to train."
      ]
    },
    {
      "cell_type": "code",
      "execution_count": 15,
      "metadata": {
        "colab": {
          "base_uri": "https://localhost:8080/"
        },
        "id": "VMrMUl2hOqMs",
        "outputId": "8f252eb2-01e6-4b77-ee20-8164278a7118"
      },
      "outputs": [
        {
          "name": "stdout",
          "output_type": "stream",
          "text": [
            "Epoch 1/50\n"
          ]
        },
        {
          "name": "stderr",
          "output_type": "stream",
          "text": [
            "2025-04-23 16:35:55.585560: I tensorflow/core/grappler/optimizers/custom_graph_optimizer_registry.cc:117] Plugin optimizer for device_type GPU is enabled.\n",
            "OpenCV: Couldn't read video stream from file \"/Users/blag/Documents/UChicago MS/2025 Spring/Computer Vision with DL/LipReading_CV/data/video1/an/209.mp4\"\n"
          ]
        },
        {
          "name": "stdout",
          "output_type": "stream",
          "text": [
            " Could not read frame in video: /Users/blag/Documents/UChicago MS/2025 Spring/Computer Vision with DL/LipReading_CV/data/video1/an/209.mp4\n",
            " Skipping video: /Users/blag/Documents/UChicago MS/2025 Spring/Computer Vision with DL/LipReading_CV/data/video1/an/209.mp4 (Invalid or too few frames)\n",
            "      1/Unknown \u001b[1m19s\u001b[0m 19s/step - accuracy: 0.0000e+00 - loss: 0.0000e+00"
          ]
        },
        {
          "name": "stderr",
          "output_type": "stream",
          "text": [
            "OpenCV: Couldn't read video stream from file \"/Users/blag/Documents/UChicago MS/2025 Spring/Computer Vision with DL/LipReading_CV/data/video1/of/300.mp4\"\n"
          ]
        },
        {
          "name": "stdout",
          "output_type": "stream",
          "text": [
            " Could not read frame in video: /Users/blag/Documents/UChicago MS/2025 Spring/Computer Vision with DL/LipReading_CV/data/video1/of/300.mp4\n",
            " Skipping video: /Users/blag/Documents/UChicago MS/2025 Spring/Computer Vision with DL/LipReading_CV/data/video1/of/300.mp4 (Invalid or too few frames)\n",
            "      3/Unknown \u001b[1m45s\u001b[0m 13s/step - accuracy: 0.0000e+00 - loss: 0.0000e+00 Could not read frame in video: /Users/blag/Documents/UChicago MS/2025 Spring/Computer Vision with DL/LipReading_CV/data/video1/of/960.mp4\n",
            " Skipping video: /Users/blag/Documents/UChicago MS/2025 Spring/Computer Vision with DL/LipReading_CV/data/video1/of/960.mp4 (Invalid or too few frames)\n",
            " Could not read frame in video: /Users/blag/Documents/UChicago MS/2025 Spring/Computer Vision with DL/LipReading_CV/data/video1/of/1547.mp4\n",
            " Skipping video: /Users/blag/Documents/UChicago MS/2025 Spring/Computer Vision with DL/LipReading_CV/data/video1/of/1547.mp4 (Invalid or too few frames)\n",
            " Could not read frame in video: /Users/blag/Documents/UChicago MS/2025 Spring/Computer Vision with DL/LipReading_CV/data/video1/to/1164.mp4\n",
            " Skipping video: /Users/blag/Documents/UChicago MS/2025 Spring/Computer Vision with DL/LipReading_CV/data/video1/to/1164.mp4 (Invalid or too few frames)\n"
          ]
        },
        {
          "name": "stderr",
          "output_type": "stream",
          "text": [
            "OpenCV: Couldn't read video stream from file \"/Users/blag/Documents/UChicago MS/2025 Spring/Computer Vision with DL/LipReading_CV/data/video1/of/960.mp4\"\n",
            "OpenCV: Couldn't read video stream from file \"/Users/blag/Documents/UChicago MS/2025 Spring/Computer Vision with DL/LipReading_CV/data/video1/of/1547.mp4\"\n",
            "OpenCV: Couldn't read video stream from file \"/Users/blag/Documents/UChicago MS/2025 Spring/Computer Vision with DL/LipReading_CV/data/video1/to/1164.mp4\"\n"
          ]
        },
        {
          "name": "stdout",
          "output_type": "stream",
          "text": [
            "      9/Unknown \u001b[1m119s\u001b[0m 13s/step - accuracy: 0.0000e+00 - loss: 0.0063"
          ]
        },
        {
          "name": "stderr",
          "output_type": "stream",
          "text": [
            "OpenCV: Couldn't read video stream from file \"/Users/blag/Documents/UChicago MS/2025 Spring/Computer Vision with DL/LipReading_CV/data/video1/an/616.mp4\"\n"
          ]
        },
        {
          "name": "stdout",
          "output_type": "stream",
          "text": [
            " Could not read frame in video: /Users/blag/Documents/UChicago MS/2025 Spring/Computer Vision with DL/LipReading_CV/data/video1/an/616.mp4\n",
            " Skipping video: /Users/blag/Documents/UChicago MS/2025 Spring/Computer Vision with DL/LipReading_CV/data/video1/an/616.mp4 (Invalid or too few frames)\n",
            "     10/Unknown \u001b[1m132s\u001b[0m 13s/step - accuracy: 0.0000e+00 - loss: 0.0082"
          ]
        },
        {
          "name": "stderr",
          "output_type": "stream",
          "text": [
            "OpenCV: Couldn't read video stream from file \"/Users/blag/Documents/UChicago MS/2025 Spring/Computer Vision with DL/LipReading_CV/data/video1/in/751.mp4\"\n"
          ]
        },
        {
          "name": "stdout",
          "output_type": "stream",
          "text": [
            " Could not read frame in video: /Users/blag/Documents/UChicago MS/2025 Spring/Computer Vision with DL/LipReading_CV/data/video1/in/751.mp4\n",
            " Skipping video: /Users/blag/Documents/UChicago MS/2025 Spring/Computer Vision with DL/LipReading_CV/data/video1/in/751.mp4 (Invalid or too few frames)\n",
            "     11/Unknown \u001b[1m146s\u001b[0m 13s/step - accuracy: 0.0000e+00 - loss: 0.0095"
          ]
        },
        {
          "name": "stderr",
          "output_type": "stream",
          "text": [
            "OpenCV: Couldn't read video stream from file \"/Users/blag/Documents/UChicago MS/2025 Spring/Computer Vision with DL/LipReading_CV/data/video1/of/770.mp4\"\n"
          ]
        },
        {
          "name": "stdout",
          "output_type": "stream",
          "text": [
            " Could not read frame in video: /Users/blag/Documents/UChicago MS/2025 Spring/Computer Vision with DL/LipReading_CV/data/video1/of/770.mp4\n",
            " Skipping video: /Users/blag/Documents/UChicago MS/2025 Spring/Computer Vision with DL/LipReading_CV/data/video1/of/770.mp4 (Invalid or too few frames)\n",
            "     16/Unknown \u001b[1m210s\u001b[0m 13s/step - accuracy: 0.0000e+00 - loss: 0.0145"
          ]
        },
        {
          "name": "stderr",
          "output_type": "stream",
          "text": [
            "OpenCV: Couldn't read video stream from file \"/Users/blag/Documents/UChicago MS/2025 Spring/Computer Vision with DL/LipReading_CV/data/video1/of/681.mp4\"\n"
          ]
        },
        {
          "name": "stdout",
          "output_type": "stream",
          "text": [
            " Could not read frame in video: /Users/blag/Documents/UChicago MS/2025 Spring/Computer Vision with DL/LipReading_CV/data/video1/of/681.mp4\n",
            " Skipping video: /Users/blag/Documents/UChicago MS/2025 Spring/Computer Vision with DL/LipReading_CV/data/video1/of/681.mp4 (Invalid or too few frames)\n",
            "     18/Unknown \u001b[1m236s\u001b[0m 13s/step - accuracy: 0.0000e+00 - loss: 0.0154"
          ]
        },
        {
          "name": "stderr",
          "output_type": "stream",
          "text": [
            "OpenCV: Couldn't read video stream from file \"/Users/blag/Documents/UChicago MS/2025 Spring/Computer Vision with DL/LipReading_CV/data/video1/or/1177.mp4\"\n"
          ]
        },
        {
          "name": "stdout",
          "output_type": "stream",
          "text": [
            " Could not read frame in video: /Users/blag/Documents/UChicago MS/2025 Spring/Computer Vision with DL/LipReading_CV/data/video1/or/1177.mp4\n",
            " Skipping video: /Users/blag/Documents/UChicago MS/2025 Spring/Computer Vision with DL/LipReading_CV/data/video1/or/1177.mp4 (Invalid or too few frames)\n",
            "     19/Unknown \u001b[1m248s\u001b[0m 13s/step - accuracy: 0.0000e+00 - loss: 0.0157"
          ]
        },
        {
          "name": "stderr",
          "output_type": "stream",
          "text": [
            "OpenCV: Couldn't read video stream from file \"/Users/blag/Documents/UChicago MS/2025 Spring/Computer Vision with DL/LipReading_CV/data/video1/of/1114.mp4\"\n"
          ]
        },
        {
          "name": "stdout",
          "output_type": "stream",
          "text": [
            " Could not read frame in video: /Users/blag/Documents/UChicago MS/2025 Spring/Computer Vision with DL/LipReading_CV/data/video1/of/1114.mp4\n",
            " Skipping video: /Users/blag/Documents/UChicago MS/2025 Spring/Computer Vision with DL/LipReading_CV/data/video1/of/1114.mp4 (Invalid or too few frames)\n",
            "     20/Unknown \u001b[1m261s\u001b[0m 13s/step - accuracy: 0.0000e+00 - loss: 0.0160"
          ]
        },
        {
          "name": "stderr",
          "output_type": "stream",
          "text": [
            "OpenCV: Couldn't read video stream from file \"/Users/blag/Documents/UChicago MS/2025 Spring/Computer Vision with DL/LipReading_CV/data/video1/at/934.mp4\"\n"
          ]
        },
        {
          "name": "stdout",
          "output_type": "stream",
          "text": [
            " Could not read frame in video: /Users/blag/Documents/UChicago MS/2025 Spring/Computer Vision with DL/LipReading_CV/data/video1/at/934.mp4\n",
            " Skipping video: /Users/blag/Documents/UChicago MS/2025 Spring/Computer Vision with DL/LipReading_CV/data/video1/at/934.mp4 (Invalid or too few frames)\n"
          ]
        },
        {
          "name": "stderr",
          "output_type": "stream",
          "text": [
            "OpenCV: Couldn't read video stream from file \"/Users/blag/Documents/UChicago MS/2025 Spring/Computer Vision with DL/LipReading_CV/data/video1/10/1283.mp4\"\n"
          ]
        },
        {
          "name": "stdout",
          "output_type": "stream",
          "text": [
            " Could not read frame in video: /Users/blag/Documents/UChicago MS/2025 Spring/Computer Vision with DL/LipReading_CV/data/video1/10/1283.mp4\n",
            " Skipping video: /Users/blag/Documents/UChicago MS/2025 Spring/Computer Vision with DL/LipReading_CV/data/video1/10/1283.mp4 (Invalid or too few frames)\n",
            "     22/Unknown \u001b[1m286s\u001b[0m 13s/step - accuracy: 0.0000e+00 - loss: 0.0162 Could not read frame in video: /Users/blag/Documents/UChicago MS/2025 Spring/Computer Vision with DL/LipReading_CV/data/video1/of/1441.mp4\n",
            " Skipping video: /Users/blag/Documents/UChicago MS/2025 Spring/Computer Vision with DL/LipReading_CV/data/video1/of/1441.mp4 (Invalid or too few frames)\n"
          ]
        },
        {
          "name": "stderr",
          "output_type": "stream",
          "text": [
            "OpenCV: Couldn't read video stream from file \"/Users/blag/Documents/UChicago MS/2025 Spring/Computer Vision with DL/LipReading_CV/data/video1/of/1441.mp4\"\n",
            "OpenCV: Couldn't read video stream from file \"/Users/blag/Documents/UChicago MS/2025 Spring/Computer Vision with DL/LipReading_CV/data/video1/of/482.mp4\"\n"
          ]
        },
        {
          "name": "stdout",
          "output_type": "stream",
          "text": [
            " Could not read frame in video: /Users/blag/Documents/UChicago MS/2025 Spring/Computer Vision with DL/LipReading_CV/data/video1/of/482.mp4\n",
            " Skipping video: /Users/blag/Documents/UChicago MS/2025 Spring/Computer Vision with DL/LipReading_CV/data/video1/of/482.mp4 (Invalid or too few frames)\n",
            "     24/Unknown \u001b[1m311s\u001b[0m 13s/step - accuracy: 0.0000e+00 - loss: 0.0163"
          ]
        },
        {
          "name": "stderr",
          "output_type": "stream",
          "text": [
            "OpenCV: Couldn't read video stream from file \"/Users/blag/Documents/UChicago MS/2025 Spring/Computer Vision with DL/LipReading_CV/data/video1/of/1680.mp4\"\n"
          ]
        },
        {
          "name": "stdout",
          "output_type": "stream",
          "text": [
            " Could not read frame in video: /Users/blag/Documents/UChicago MS/2025 Spring/Computer Vision with DL/LipReading_CV/data/video1/of/1680.mp4\n",
            " Skipping video: /Users/blag/Documents/UChicago MS/2025 Spring/Computer Vision with DL/LipReading_CV/data/video1/of/1680.mp4 (Invalid or too few frames)\n",
            "     26/Unknown \u001b[1m337s\u001b[0m 13s/step - accuracy: 0.0000e+00 - loss: 0.0165"
          ]
        },
        {
          "name": "stderr",
          "output_type": "stream",
          "text": [
            "OpenCV: Couldn't read video stream from file \"/Users/blag/Documents/UChicago MS/2025 Spring/Computer Vision with DL/LipReading_CV/data/video1/of/1145.mp4\"\n"
          ]
        },
        {
          "name": "stdout",
          "output_type": "stream",
          "text": [
            " Could not read frame in video: /Users/blag/Documents/UChicago MS/2025 Spring/Computer Vision with DL/LipReading_CV/data/video1/of/1145.mp4\n",
            " Skipping video: /Users/blag/Documents/UChicago MS/2025 Spring/Computer Vision with DL/LipReading_CV/data/video1/of/1145.mp4 (Invalid or too few frames)\n"
          ]
        },
        {
          "name": "stderr",
          "output_type": "stream",
          "text": [
            "OpenCV: Couldn't read video stream from file \"/Users/blag/Documents/UChicago MS/2025 Spring/Computer Vision with DL/LipReading_CV/data/video1/if/766.mp4\"\n",
            "OpenCV: Couldn't read video stream from file \"/Users/blag/Documents/UChicago MS/2025 Spring/Computer Vision with DL/LipReading_CV/data/video1/in/1717.mp4\"\n"
          ]
        },
        {
          "name": "stdout",
          "output_type": "stream",
          "text": [
            " Could not read frame in video: /Users/blag/Documents/UChicago MS/2025 Spring/Computer Vision with DL/LipReading_CV/data/video1/if/766.mp4\n",
            " Skipping video: /Users/blag/Documents/UChicago MS/2025 Spring/Computer Vision with DL/LipReading_CV/data/video1/if/766.mp4 (Invalid or too few frames)\n",
            " Could not read frame in video: /Users/blag/Documents/UChicago MS/2025 Spring/Computer Vision with DL/LipReading_CV/data/video1/in/1717.mp4\n",
            " Skipping video: /Users/blag/Documents/UChicago MS/2025 Spring/Computer Vision with DL/LipReading_CV/data/video1/in/1717.mp4 (Invalid or too few frames)\n",
            "     28/Unknown \u001b[1m362s\u001b[0m 13s/step - accuracy: 0.0000e+00 - loss: 0.0167"
          ]
        },
        {
          "name": "stderr",
          "output_type": "stream",
          "text": [
            "OpenCV: Couldn't read video stream from file \"/Users/blag/Documents/UChicago MS/2025 Spring/Computer Vision with DL/LipReading_CV/data/video1/an/686.mp4\"\n"
          ]
        },
        {
          "name": "stdout",
          "output_type": "stream",
          "text": [
            " Could not read frame in video: /Users/blag/Documents/UChicago MS/2025 Spring/Computer Vision with DL/LipReading_CV/data/video1/an/686.mp4\n",
            " Skipping video: /Users/blag/Documents/UChicago MS/2025 Spring/Computer Vision with DL/LipReading_CV/data/video1/an/686.mp4 (Invalid or too few frames)\n",
            "     30/Unknown \u001b[1m387s\u001b[0m 13s/step - accuracy: 0.0000e+00 - loss: 0.0169"
          ]
        },
        {
          "name": "stderr",
          "output_type": "stream",
          "text": [
            "OpenCV: Couldn't read video stream from file \"/Users/blag/Documents/UChicago MS/2025 Spring/Computer Vision with DL/LipReading_CV/data/video1/i/1251.mp4\"\n"
          ]
        },
        {
          "name": "stdout",
          "output_type": "stream",
          "text": [
            " Could not read frame in video: /Users/blag/Documents/UChicago MS/2025 Spring/Computer Vision with DL/LipReading_CV/data/video1/i/1251.mp4\n",
            " Skipping video: /Users/blag/Documents/UChicago MS/2025 Spring/Computer Vision with DL/LipReading_CV/data/video1/i/1251.mp4 (Invalid or too few frames)\n"
          ]
        },
        {
          "name": "stderr",
          "output_type": "stream",
          "text": [
            "OpenCV: Couldn't read video stream from file \"/Users/blag/Documents/UChicago MS/2025 Spring/Computer Vision with DL/LipReading_CV/data/video1/to/1181.mp4\"\n",
            "OpenCV: Couldn't read video stream from file \"/Users/blag/Documents/UChicago MS/2025 Spring/Computer Vision with DL/LipReading_CV/data/video1/of/802.mp4\"\n"
          ]
        },
        {
          "name": "stdout",
          "output_type": "stream",
          "text": [
            " Could not read frame in video: /Users/blag/Documents/UChicago MS/2025 Spring/Computer Vision with DL/LipReading_CV/data/video1/to/1181.mp4\n",
            " Skipping video: /Users/blag/Documents/UChicago MS/2025 Spring/Computer Vision with DL/LipReading_CV/data/video1/to/1181.mp4 (Invalid or too few frames)\n",
            " Could not read frame in video: /Users/blag/Documents/UChicago MS/2025 Spring/Computer Vision with DL/LipReading_CV/data/video1/of/802.mp4\n",
            " Skipping video: /Users/blag/Documents/UChicago MS/2025 Spring/Computer Vision with DL/LipReading_CV/data/video1/of/802.mp4 (Invalid or too few frames)\n",
            "     32/Unknown \u001b[1m411s\u001b[0m 13s/step - accuracy: 0.0000e+00 - loss: 0.0171"
          ]
        },
        {
          "name": "stderr",
          "output_type": "stream",
          "text": [
            "OpenCV: Couldn't read video stream from file \"/Users/blag/Documents/UChicago MS/2025 Spring/Computer Vision with DL/LipReading_CV/data/video1/to/1414.mp4\"\n"
          ]
        },
        {
          "name": "stdout",
          "output_type": "stream",
          "text": [
            " Could not read frame in video: /Users/blag/Documents/UChicago MS/2025 Spring/Computer Vision with DL/LipReading_CV/data/video1/to/1414.mp4\n",
            " Skipping video: /Users/blag/Documents/UChicago MS/2025 Spring/Computer Vision with DL/LipReading_CV/data/video1/to/1414.mp4 (Invalid or too few frames)\n",
            "     35/Unknown \u001b[1m448s\u001b[0m 13s/step - accuracy: 0.0000e+00 - loss: 0.0171"
          ]
        },
        {
          "name": "stderr",
          "output_type": "stream",
          "text": [
            "OpenCV: Couldn't read video stream from file \"/Users/blag/Documents/UChicago MS/2025 Spring/Computer Vision with DL/LipReading_CV/data/video1/of/474.mp4\"\n",
            "OpenCV: Couldn't read video stream from file \"/Users/blag/Documents/UChicago MS/2025 Spring/Computer Vision with DL/LipReading_CV/data/video1/of/584.mp4\"\n"
          ]
        },
        {
          "name": "stdout",
          "output_type": "stream",
          "text": [
            " Could not read frame in video: /Users/blag/Documents/UChicago MS/2025 Spring/Computer Vision with DL/LipReading_CV/data/video1/of/474.mp4\n",
            " Skipping video: /Users/blag/Documents/UChicago MS/2025 Spring/Computer Vision with DL/LipReading_CV/data/video1/of/474.mp4 (Invalid or too few frames)\n",
            " Could not read frame in video: /Users/blag/Documents/UChicago MS/2025 Spring/Computer Vision with DL/LipReading_CV/data/video1/of/584.mp4\n",
            " Skipping video: /Users/blag/Documents/UChicago MS/2025 Spring/Computer Vision with DL/LipReading_CV/data/video1/of/584.mp4 (Invalid or too few frames)\n",
            "     45/Unknown \u001b[1m574s\u001b[0m 13s/step - accuracy: 4.0429e-04 - loss: 0.0175"
          ]
        },
        {
          "name": "stderr",
          "output_type": "stream",
          "text": [
            "OpenCV: Couldn't read video stream from file \"/Users/blag/Documents/UChicago MS/2025 Spring/Computer Vision with DL/LipReading_CV/data/video1/to/1370.mp4\"\n"
          ]
        },
        {
          "name": "stdout",
          "output_type": "stream",
          "text": [
            " Could not read frame in video: /Users/blag/Documents/UChicago MS/2025 Spring/Computer Vision with DL/LipReading_CV/data/video1/to/1370.mp4\n",
            " Skipping video: /Users/blag/Documents/UChicago MS/2025 Spring/Computer Vision with DL/LipReading_CV/data/video1/to/1370.mp4 (Invalid or too few frames)\n",
            "     47/Unknown \u001b[1m599s\u001b[0m 13s/step - accuracy: 4.7289e-04 - loss: 0.0176"
          ]
        },
        {
          "name": "stderr",
          "output_type": "stream",
          "text": [
            "OpenCV: Couldn't read video stream from file \"/Users/blag/Documents/UChicago MS/2025 Spring/Computer Vision with DL/LipReading_CV/data/video1/at/656.mp4\"\n"
          ]
        },
        {
          "name": "stdout",
          "output_type": "stream",
          "text": [
            " Could not read frame in video: /Users/blag/Documents/UChicago MS/2025 Spring/Computer Vision with DL/LipReading_CV/data/video1/at/656.mp4\n",
            " Skipping video: /Users/blag/Documents/UChicago MS/2025 Spring/Computer Vision with DL/LipReading_CV/data/video1/at/656.mp4 (Invalid or too few frames)\n",
            "     48/Unknown \u001b[1m612s\u001b[0m 13s/step - accuracy: 5.1729e-04 - loss: 0.0176"
          ]
        },
        {
          "name": "stderr",
          "output_type": "stream",
          "text": [
            "OpenCV: Couldn't read video stream from file \"/Users/blag/Documents/UChicago MS/2025 Spring/Computer Vision with DL/LipReading_CV/data/video1/to/1568.mp4\"\n",
            "OpenCV: Couldn't read video stream from file \"/Users/blag/Documents/UChicago MS/2025 Spring/Computer Vision with DL/LipReading_CV/data/video1/it/873.mp4\"\n"
          ]
        },
        {
          "name": "stdout",
          "output_type": "stream",
          "text": [
            " Could not read frame in video: /Users/blag/Documents/UChicago MS/2025 Spring/Computer Vision with DL/LipReading_CV/data/video1/to/1568.mp4\n",
            " Skipping video: /Users/blag/Documents/UChicago MS/2025 Spring/Computer Vision with DL/LipReading_CV/data/video1/to/1568.mp4 (Invalid or too few frames)\n",
            " Could not read frame in video: /Users/blag/Documents/UChicago MS/2025 Spring/Computer Vision with DL/LipReading_CV/data/video1/it/873.mp4\n",
            " Skipping video: /Users/blag/Documents/UChicago MS/2025 Spring/Computer Vision with DL/LipReading_CV/data/video1/it/873.mp4 (Invalid or too few frames)\n"
          ]
        },
        {
          "name": "stderr",
          "output_type": "stream",
          "text": [
            "OpenCV: Couldn't read video stream from file \"/Users/blag/Documents/UChicago MS/2025 Spring/Computer Vision with DL/LipReading_CV/data/video1/of/1122.mp4\"\n"
          ]
        },
        {
          "name": "stdout",
          "output_type": "stream",
          "text": [
            " Could not read frame in video: /Users/blag/Documents/UChicago MS/2025 Spring/Computer Vision with DL/LipReading_CV/data/video1/of/1122.mp4\n",
            " Skipping video: /Users/blag/Documents/UChicago MS/2025 Spring/Computer Vision with DL/LipReading_CV/data/video1/of/1122.mp4 (Invalid or too few frames)\n",
            "     49/Unknown \u001b[1m624s\u001b[0m 13s/step - accuracy: 5.5880e-04 - loss: 0.0177"
          ]
        },
        {
          "name": "stderr",
          "output_type": "stream",
          "text": [
            "OpenCV: Couldn't read video stream from file \"/Users/blag/Documents/UChicago MS/2025 Spring/Computer Vision with DL/LipReading_CV/data/video1/we/1452.mp4\"\n"
          ]
        },
        {
          "name": "stdout",
          "output_type": "stream",
          "text": [
            " Could not read frame in video: /Users/blag/Documents/UChicago MS/2025 Spring/Computer Vision with DL/LipReading_CV/data/video1/we/1452.mp4\n",
            " Skipping video: /Users/blag/Documents/UChicago MS/2025 Spring/Computer Vision with DL/LipReading_CV/data/video1/we/1452.mp4 (Invalid or too few frames)\n"
          ]
        },
        {
          "name": "stderr",
          "output_type": "stream",
          "text": [
            "OpenCV: Couldn't read video stream from file \"/Users/blag/Documents/UChicago MS/2025 Spring/Computer Vision with DL/LipReading_CV/data/video1/of/810.mp4\"\n"
          ]
        },
        {
          "name": "stdout",
          "output_type": "stream",
          "text": [
            " Could not read frame in video: /Users/blag/Documents/UChicago MS/2025 Spring/Computer Vision with DL/LipReading_CV/data/video1/of/810.mp4\n",
            " Skipping video: /Users/blag/Documents/UChicago MS/2025 Spring/Computer Vision with DL/LipReading_CV/data/video1/of/810.mp4 (Invalid or too few frames)\n",
            "     53/Unknown \u001b[1m668s\u001b[0m 12s/step - accuracy: 7.5686e-04 - loss: 0.0179"
          ]
        },
        {
          "name": "stderr",
          "output_type": "stream",
          "text": [
            "2025-04-23 16:47:02.553817: I tensorflow/core/framework/local_rendezvous.cc:407] Local rendezvous is aborting with status: OUT_OF_RANGE: End of sequence\n",
            "\t [[{{node IteratorGetNext}}]]\n",
            "2025-04-23 16:47:02.554373: I tensorflow/core/framework/local_rendezvous.cc:407] Local rendezvous is aborting with status: OUT_OF_RANGE: End of sequence\n",
            "\t [[{{node IteratorGetNext}}]]\n",
            "\t [[StatefulPartitionedCall/functional_16_1/residual_main_2_1/sequential_10_1/conv2_plus1d_5_1/sequential_8_1/conv3d_10_1/convolution/ReadVariableOp/_377]]\n",
            "2025-04-23 16:47:02.554382: I tensorflow/core/framework/local_rendezvous.cc:426] Local rendezvous recv item cancelled. Key hash: 11675831570925028498\n",
            "2025-04-23 16:47:02.554386: I tensorflow/core/framework/local_rendezvous.cc:426] Local rendezvous recv item cancelled. Key hash: 15074135823805251711\n",
            "2025-04-23 16:47:02.554387: I tensorflow/core/framework/local_rendezvous.cc:426] Local rendezvous recv item cancelled. Key hash: 10674461637518034260\n",
            "2025-04-23 16:47:02.554391: I tensorflow/core/framework/local_rendezvous.cc:426] Local rendezvous recv item cancelled. Key hash: 908130241843295061\n",
            "2025-04-23 16:47:02.554392: I tensorflow/core/framework/local_rendezvous.cc:426] Local rendezvous recv item cancelled. Key hash: 1425155840130484832\n",
            "2025-04-23 16:47:02.554395: I tensorflow/core/framework/local_rendezvous.cc:426] Local rendezvous recv item cancelled. Key hash: 78023203423781927\n",
            "2025-04-23 16:47:02.554398: I tensorflow/core/framework/local_rendezvous.cc:426] Local rendezvous recv item cancelled. Key hash: 11537125991209241226\n",
            "2025-04-23 16:47:02.554402: I tensorflow/core/framework/local_rendezvous.cc:426] Local rendezvous recv item cancelled. Key hash: 599918962782702325\n",
            "2025-04-23 16:47:02.554405: I tensorflow/core/framework/local_rendezvous.cc:426] Local rendezvous recv item cancelled. Key hash: 13518639427761474632\n",
            "2025-04-23 16:47:02.554409: I tensorflow/core/framework/local_rendezvous.cc:426] Local rendezvous recv item cancelled. Key hash: 1062322482010786349\n",
            "2025-04-23 16:47:02.554413: I tensorflow/core/framework/local_rendezvous.cc:426] Local rendezvous recv item cancelled. Key hash: 7760034169562270764\n",
            "2025-04-23 16:47:02.554415: I tensorflow/core/framework/local_rendezvous.cc:426] Local rendezvous recv item cancelled. Key hash: 14748901083748240351\n",
            "2025-04-23 16:47:02.554417: I tensorflow/core/framework/local_rendezvous.cc:426] Local rendezvous recv item cancelled. Key hash: 3732564310854405862\n",
            "2025-04-23 16:47:02.554419: I tensorflow/core/framework/local_rendezvous.cc:426] Local rendezvous recv item cancelled. Key hash: 907480019941526997\n",
            "2025-04-23 16:47:02.554421: I tensorflow/core/framework/local_rendezvous.cc:426] Local rendezvous recv item cancelled. Key hash: 852088311446507404\n",
            "2025-04-23 16:47:02.554423: I tensorflow/core/framework/local_rendezvous.cc:426] Local rendezvous recv item cancelled. Key hash: 4105155351109045689\n",
            "2025-04-23 16:47:02.554425: I tensorflow/core/framework/local_rendezvous.cc:426] Local rendezvous recv item cancelled. Key hash: 14315520024534389030\n",
            "2025-04-23 16:47:02.554427: I tensorflow/core/framework/local_rendezvous.cc:426] Local rendezvous recv item cancelled. Key hash: 18437500258684768021\n",
            "2025-04-23 16:47:02.554428: I tensorflow/core/framework/local_rendezvous.cc:426] Local rendezvous recv item cancelled. Key hash: 235518504833061328\n",
            "2025-04-23 16:47:02.554430: I tensorflow/core/framework/local_rendezvous.cc:426] Local rendezvous recv item cancelled. Key hash: 17649277961457504367\n",
            "2025-04-23 16:47:02.554431: I tensorflow/core/framework/local_rendezvous.cc:426] Local rendezvous recv item cancelled. Key hash: 2035347527474353428\n",
            "2025-04-23 16:47:02.554433: I tensorflow/core/framework/local_rendezvous.cc:426] Local rendezvous recv item cancelled. Key hash: 17393392187340558843\n",
            "2025-04-23 16:47:02.554435: I tensorflow/core/framework/local_rendezvous.cc:426] Local rendezvous recv item cancelled. Key hash: 13760294034179168998\n",
            "2025-04-23 16:47:02.554437: I tensorflow/core/framework/local_rendezvous.cc:426] Local rendezvous recv item cancelled. Key hash: 11842557655731474881\n",
            "2025-04-23 16:47:02.554438: I tensorflow/core/framework/local_rendezvous.cc:426] Local rendezvous recv item cancelled. Key hash: 16604716025892840134\n",
            "2025-04-23 16:47:02.554441: I tensorflow/core/framework/local_rendezvous.cc:426] Local rendezvous recv item cancelled. Key hash: 5501206145640435773\n",
            "2025-04-23 16:47:02.554447: I tensorflow/core/framework/local_rendezvous.cc:426] Local rendezvous recv item cancelled. Key hash: 8957382051619284678\n",
            "2025-04-23 16:47:02.554451: I tensorflow/core/framework/local_rendezvous.cc:426] Local rendezvous recv item cancelled. Key hash: 9389277929482490677\n",
            "2025-04-23 16:47:02.554456: I tensorflow/core/framework/local_rendezvous.cc:426] Local rendezvous recv item cancelled. Key hash: 9076777373793986162\n",
            "2025-04-23 16:47:02.554465: I tensorflow/core/framework/local_rendezvous.cc:426] Local rendezvous recv item cancelled. Key hash: 14982293173335299645\n",
            "2025-04-23 16:47:02.554469: I tensorflow/core/framework/local_rendezvous.cc:426] Local rendezvous recv item cancelled. Key hash: 10980810190566074874\n",
            "2025-04-23 16:47:02.554471: I tensorflow/core/framework/local_rendezvous.cc:426] Local rendezvous recv item cancelled. Key hash: 8451655409735440253\n",
            "2025-04-23 16:47:02.554475: I tensorflow/core/framework/local_rendezvous.cc:426] Local rendezvous recv item cancelled. Key hash: 10365177982032554266\n",
            "2025-04-23 16:47:02.554477: I tensorflow/core/framework/local_rendezvous.cc:426] Local rendezvous recv item cancelled. Key hash: 10090737968491337755\n",
            "2025-04-23 16:47:02.554481: I tensorflow/core/framework/local_rendezvous.cc:426] Local rendezvous recv item cancelled. Key hash: 16575506396617714558\n",
            "2025-04-23 16:47:02.554483: I tensorflow/core/framework/local_rendezvous.cc:426] Local rendezvous recv item cancelled. Key hash: 13667627586015402333\n",
            "2025-04-23 16:47:02.554486: I tensorflow/core/framework/local_rendezvous.cc:426] Local rendezvous recv item cancelled. Key hash: 3687153042802814114\n",
            "2025-04-23 16:47:02.554488: I tensorflow/core/framework/local_rendezvous.cc:426] Local rendezvous recv item cancelled. Key hash: 15166110427087182503\n",
            "2025-04-23 16:47:02.554490: I tensorflow/core/framework/local_rendezvous.cc:426] Local rendezvous recv item cancelled. Key hash: 6569630696442179038\n",
            "2025-04-23 16:47:02.554492: I tensorflow/core/framework/local_rendezvous.cc:426] Local rendezvous recv item cancelled. Key hash: 16886382845718305373\n",
            "2025-04-23 16:47:02.554494: I tensorflow/core/framework/local_rendezvous.cc:426] Local rendezvous recv item cancelled. Key hash: 18168066082788552204\n",
            "2025-04-23 16:47:02.554497: I tensorflow/core/framework/local_rendezvous.cc:426] Local rendezvous recv item cancelled. Key hash: 7854370827521694853\n",
            "2025-04-23 16:47:02.554498: I tensorflow/core/framework/local_rendezvous.cc:426] Local rendezvous recv item cancelled. Key hash: 9119633025162620848\n",
            "2025-04-23 16:47:02.554500: I tensorflow/core/framework/local_rendezvous.cc:426] Local rendezvous recv item cancelled. Key hash: 17553908431413910861\n",
            "2025-04-23 16:47:02.554502: I tensorflow/core/framework/local_rendezvous.cc:426] Local rendezvous recv item cancelled. Key hash: 12681343399797731584\n",
            "2025-04-23 16:47:02.554504: I tensorflow/core/framework/local_rendezvous.cc:426] Local rendezvous recv item cancelled. Key hash: 17362571583599746665\n",
            "2025-04-23 16:47:02.554506: I tensorflow/core/framework/local_rendezvous.cc:426] Local rendezvous recv item cancelled. Key hash: 1452005301340091290\n",
            "2025-04-23 16:47:02.554507: I tensorflow/core/framework/local_rendezvous.cc:426] Local rendezvous recv item cancelled. Key hash: 11227475328956242519\n",
            "2025-04-23 16:47:02.554510: I tensorflow/core/framework/local_rendezvous.cc:426] Local rendezvous recv item cancelled. Key hash: 1952165650687800272\n",
            "2025-04-23 16:47:02.554511: I tensorflow/core/framework/local_rendezvous.cc:426] Local rendezvous recv item cancelled. Key hash: 16351729744614531717\n",
            "2025-04-23 16:47:02.554514: I tensorflow/core/framework/local_rendezvous.cc:426] Local rendezvous recv item cancelled. Key hash: 31953808028612776\n",
            "2025-04-23 16:47:02.554519: I tensorflow/core/framework/local_rendezvous.cc:426] Local rendezvous recv item cancelled. Key hash: 17945570920568071321\n",
            "2025-04-23 16:47:02.554523: I tensorflow/core/framework/local_rendezvous.cc:426] Local rendezvous recv item cancelled. Key hash: 6333218230533961758\n",
            "2025-04-23 16:47:02.554529: I tensorflow/core/framework/local_rendezvous.cc:426] Local rendezvous recv item cancelled. Key hash: 4253215292999607999\n",
            "2025-04-23 16:47:02.554531: I tensorflow/core/framework/local_rendezvous.cc:426] Local rendezvous recv item cancelled. Key hash: 11536021515100240250\n",
            "2025-04-23 16:47:02.554534: I tensorflow/core/framework/local_rendezvous.cc:426] Local rendezvous recv item cancelled. Key hash: 4036468366415964109\n",
            "2025-04-23 16:47:02.554536: I tensorflow/core/framework/local_rendezvous.cc:426] Local rendezvous recv item cancelled. Key hash: 13722504662360144794\n",
            "2025-04-23 16:47:02.554538: I tensorflow/core/framework/local_rendezvous.cc:426] Local rendezvous recv item cancelled. Key hash: 6310549749788059649\n",
            "2025-04-23 16:47:02.554540: I tensorflow/core/framework/local_rendezvous.cc:426] Local rendezvous recv item cancelled. Key hash: 8847508404657732828\n",
            "2025-04-23 16:47:02.554543: I tensorflow/core/framework/local_rendezvous.cc:426] Local rendezvous recv item cancelled. Key hash: 9383112737514990573\n",
            "2025-04-23 16:47:02.554544: I tensorflow/core/framework/local_rendezvous.cc:426] Local rendezvous recv item cancelled. Key hash: 13600421057369685214\n",
            "2025-04-23 16:47:02.554546: I tensorflow/core/framework/local_rendezvous.cc:426] Local rendezvous recv item cancelled. Key hash: 11799702221180644549\n",
            "2025-04-23 16:47:02.554548: I tensorflow/core/framework/local_rendezvous.cc:426] Local rendezvous recv item cancelled. Key hash: 4523843418202520788\n",
            "2025-04-23 16:47:02.554549: I tensorflow/core/framework/local_rendezvous.cc:426] Local rendezvous recv item cancelled. Key hash: 6448314559660764337\n",
            "2025-04-23 16:47:02.554551: I tensorflow/core/framework/local_rendezvous.cc:426] Local rendezvous recv item cancelled. Key hash: 8035795009053735640\n",
            "2025-04-23 16:47:02.554554: I tensorflow/core/framework/local_rendezvous.cc:426] Local rendezvous recv item cancelled. Key hash: 14194875575937871423\n",
            "2025-04-23 16:47:02.554557: I tensorflow/core/framework/local_rendezvous.cc:426] Local rendezvous recv item cancelled. Key hash: 98935670871376758\n",
            "2025-04-23 16:47:02.554558: I tensorflow/core/framework/local_rendezvous.cc:426] Local rendezvous recv item cancelled. Key hash: 13389649880367050857\n",
            "2025-04-23 16:47:02.554561: I tensorflow/core/framework/local_rendezvous.cc:426] Local rendezvous recv item cancelled. Key hash: 6636753731218785528\n",
            "2025-04-23 16:47:02.554563: I tensorflow/core/framework/local_rendezvous.cc:426] Local rendezvous recv item cancelled. Key hash: 4503282526082052521\n",
            "2025-04-23 16:47:02.554565: I tensorflow/core/framework/local_rendezvous.cc:426] Local rendezvous recv item cancelled. Key hash: 16336492113604658926\n",
            "2025-04-23 16:47:02.554566: I tensorflow/core/framework/local_rendezvous.cc:426] Local rendezvous recv item cancelled. Key hash: 4551425261408629641\n",
            "2025-04-23 16:47:02.554569: I tensorflow/core/framework/local_rendezvous.cc:426] Local rendezvous recv item cancelled. Key hash: 425889819191949662\n",
            "2025-04-23 16:47:02.554571: I tensorflow/core/framework/local_rendezvous.cc:426] Local rendezvous recv item cancelled. Key hash: 6598063386170569547\n",
            "2025-04-23 16:47:02.554573: I tensorflow/core/framework/local_rendezvous.cc:426] Local rendezvous recv item cancelled. Key hash: 1482121445210213078\n",
            "2025-04-23 16:47:02.554575: I tensorflow/core/framework/local_rendezvous.cc:426] Local rendezvous recv item cancelled. Key hash: 6169905678406530443\n",
            "2025-04-23 16:47:02.554577: I tensorflow/core/framework/local_rendezvous.cc:426] Local rendezvous recv item cancelled. Key hash: 10601360282068732686\n",
            "2025-04-23 16:47:02.554578: I tensorflow/core/framework/local_rendezvous.cc:426] Local rendezvous recv item cancelled. Key hash: 11419134934378756037\n",
            "2025-04-23 16:47:02.554581: I tensorflow/core/framework/local_rendezvous.cc:426] Local rendezvous recv item cancelled. Key hash: 10268670499887272332\n",
            "2025-04-23 16:47:02.554582: I tensorflow/core/framework/local_rendezvous.cc:426] Local rendezvous recv item cancelled. Key hash: 12652455647036979853\n",
            "2025-04-23 16:47:02.554585: I tensorflow/core/framework/local_rendezvous.cc:426] Local rendezvous recv item cancelled. Key hash: 17541347423397761658\n",
            "2025-04-23 16:47:02.554586: I tensorflow/core/framework/local_rendezvous.cc:426] Local rendezvous recv item cancelled. Key hash: 8130601984674642905\n",
            "2025-04-23 16:47:02.554589: I tensorflow/core/framework/local_rendezvous.cc:426] Local rendezvous recv item cancelled. Key hash: 6787939571496539350\n",
            "2025-04-23 16:47:02.554590: I tensorflow/core/framework/local_rendezvous.cc:426] Local rendezvous recv item cancelled. Key hash: 15357279611670641411\n",
            "2025-04-23 16:47:02.554593: I tensorflow/core/framework/local_rendezvous.cc:426] Local rendezvous recv item cancelled. Key hash: 17868762281030931600\n",
            "2025-04-23 16:47:02.554595: I tensorflow/core/framework/local_rendezvous.cc:426] Local rendezvous recv item cancelled. Key hash: 10624089953968799827\n",
            "2025-04-23 16:47:02.554597: I tensorflow/core/framework/local_rendezvous.cc:426] Local rendezvous recv item cancelled. Key hash: 7500085719739947134\n",
            "2025-04-23 16:47:02.554599: I tensorflow/core/framework/local_rendezvous.cc:426] Local rendezvous recv item cancelled. Key hash: 9886229666171207959\n",
            "2025-04-23 16:47:02.554601: I tensorflow/core/framework/local_rendezvous.cc:426] Local rendezvous recv item cancelled. Key hash: 8380768423292197330\n",
            "2025-04-23 16:47:02.554603: I tensorflow/core/framework/local_rendezvous.cc:426] Local rendezvous recv item cancelled. Key hash: 1849457317463475967\n",
            "2025-04-23 16:47:02.554605: I tensorflow/core/framework/local_rendezvous.cc:426] Local rendezvous recv item cancelled. Key hash: 2055859778504185936\n",
            "2025-04-23 16:47:02.554607: I tensorflow/core/framework/local_rendezvous.cc:426] Local rendezvous recv item cancelled. Key hash: 11986686363649459897\n",
            "2025-04-23 16:47:02.554610: I tensorflow/core/framework/local_rendezvous.cc:426] Local rendezvous recv item cancelled. Key hash: 15204575024709393278\n",
            "2025-04-23 16:47:02.554611: I tensorflow/core/framework/local_rendezvous.cc:426] Local rendezvous recv item cancelled. Key hash: 5995528749034260515\n",
            "2025-04-23 16:47:02.554613: I tensorflow/core/framework/local_rendezvous.cc:426] Local rendezvous recv item cancelled. Key hash: 16308472238213258910\n",
            "2025-04-23 16:47:02.554615: I tensorflow/core/framework/local_rendezvous.cc:426] Local rendezvous recv item cancelled. Key hash: 3002081712182282647\n",
            "2025-04-23 16:47:02.554617: I tensorflow/core/framework/local_rendezvous.cc:426] Local rendezvous recv item cancelled. Key hash: 3498261086571487154\n",
            "2025-04-23 16:47:02.554619: I tensorflow/core/framework/local_rendezvous.cc:426] Local rendezvous recv item cancelled. Key hash: 18071835266380876357\n",
            "2025-04-23 16:47:02.554620: I tensorflow/core/framework/local_rendezvous.cc:426] Local rendezvous recv item cancelled. Key hash: 1980200410839083144\n",
            "2025-04-23 16:47:02.554622: I tensorflow/core/framework/local_rendezvous.cc:426] Local rendezvous recv item cancelled. Key hash: 12730944166418402769\n",
            "2025-04-23 16:47:02.554624: I tensorflow/core/framework/local_rendezvous.cc:426] Local rendezvous recv item cancelled. Key hash: 5953697548494334188\n",
            "2025-04-23 16:47:02.554627: I tensorflow/core/framework/local_rendezvous.cc:426] Local rendezvous recv item cancelled. Key hash: 4769188136258064109\n",
            "2025-04-23 16:47:02.554628: I tensorflow/core/framework/local_rendezvous.cc:426] Local rendezvous recv item cancelled. Key hash: 11461936845062564300\n",
            "2025-04-23 16:47:02.554631: I tensorflow/core/framework/local_rendezvous.cc:426] Local rendezvous recv item cancelled. Key hash: 16383813110419247641\n",
            "2025-04-23 16:47:02.554633: I tensorflow/core/framework/local_rendezvous.cc:426] Local rendezvous recv item cancelled. Key hash: 17854173241797143864\n",
            "2025-04-23 16:47:02.554635: I tensorflow/core/framework/local_rendezvous.cc:426] Local rendezvous recv item cancelled. Key hash: 9676757329833252105\n",
            "2025-04-23 16:47:02.554636: I tensorflow/core/framework/local_rendezvous.cc:426] Local rendezvous recv item cancelled. Key hash: 983168693623811482\n",
            "2025-04-23 16:47:02.554638: I tensorflow/core/framework/local_rendezvous.cc:426] Local rendezvous recv item cancelled. Key hash: 12643076139924346793\n",
            "2025-04-23 16:47:02.554640: I tensorflow/core/framework/local_rendezvous.cc:426] Local rendezvous recv item cancelled. Key hash: 12039696715116408678\n",
            "2025-04-23 16:47:02.554642: I tensorflow/core/framework/local_rendezvous.cc:426] Local rendezvous recv item cancelled. Key hash: 10786398192406714801\n",
            "2025-04-23 16:47:02.554644: I tensorflow/core/framework/local_rendezvous.cc:426] Local rendezvous recv item cancelled. Key hash: 9697147686909014046\n",
            "2025-04-23 16:47:02.554645: I tensorflow/core/framework/local_rendezvous.cc:426] Local rendezvous recv item cancelled. Key hash: 17404555501908089421\n",
            "2025-04-23 16:47:02.554648: I tensorflow/core/framework/local_rendezvous.cc:426] Local rendezvous recv item cancelled. Key hash: 10180286491291250338\n",
            "2025-04-23 16:47:02.554649: I tensorflow/core/framework/local_rendezvous.cc:426] Local rendezvous recv item cancelled. Key hash: 10888103091883236589\n",
            "2025-04-23 16:47:02.554652: I tensorflow/core/framework/local_rendezvous.cc:426] Local rendezvous recv item cancelled. Key hash: 10625726002979894254\n",
            "2025-04-23 16:47:02.554654: I tensorflow/core/framework/local_rendezvous.cc:426] Local rendezvous recv item cancelled. Key hash: 8646176279871380533\n",
            "2025-04-23 16:47:02.554657: I tensorflow/core/framework/local_rendezvous.cc:426] Local rendezvous recv item cancelled. Key hash: 16228002024168912406\n",
            "2025-04-23 16:47:02.554658: I tensorflow/core/framework/local_rendezvous.cc:426] Local rendezvous recv item cancelled. Key hash: 13205844460649996235\n",
            "2025-04-23 16:47:02.554660: I tensorflow/core/framework/local_rendezvous.cc:426] Local rendezvous recv item cancelled. Key hash: 9535313972789999186\n",
            "2025-04-23 16:47:02.554662: I tensorflow/core/framework/local_rendezvous.cc:426] Local rendezvous recv item cancelled. Key hash: 16911232040989909153\n",
            "2025-04-23 16:47:02.554664: I tensorflow/core/framework/local_rendezvous.cc:426] Local rendezvous recv item cancelled. Key hash: 16996346175811320054\n",
            "2025-04-23 16:47:02.554667: I tensorflow/core/framework/local_rendezvous.cc:430] Local rendezvous send item cancelled. Key hash: 17944350509574610929\n",
            "2025-04-23 16:47:02.554671: I tensorflow/core/framework/local_rendezvous.cc:426] Local rendezvous recv item cancelled. Key hash: 18364260895159580376\n",
            "2025-04-23 16:47:02.554675: I tensorflow/core/framework/local_rendezvous.cc:426] Local rendezvous recv item cancelled. Key hash: 706907256218346617\n",
            "2025-04-23 16:47:02.554678: I tensorflow/core/framework/local_rendezvous.cc:426] Local rendezvous recv item cancelled. Key hash: 2886980087700683168\n",
            "2025-04-23 16:47:02.554682: I tensorflow/core/framework/local_rendezvous.cc:426] Local rendezvous recv item cancelled. Key hash: 6435981496259208523\n",
            "2025-04-23 16:47:02.554684: I tensorflow/core/framework/local_rendezvous.cc:426] Local rendezvous recv item cancelled. Key hash: 3079463995884272804\n",
            "2025-04-23 16:47:02.554687: I tensorflow/core/framework/local_rendezvous.cc:426] Local rendezvous recv item cancelled. Key hash: 12416901827719292353\n",
            "2025-04-23 16:47:02.554689: I tensorflow/core/framework/local_rendezvous.cc:426] Local rendezvous recv item cancelled. Key hash: 345533594227211634\n",
            "2025-04-23 16:47:02.554692: I tensorflow/core/framework/local_rendezvous.cc:426] Local rendezvous recv item cancelled. Key hash: 14319064057464973185\n",
            "2025-04-23 16:47:02.554694: I tensorflow/core/framework/local_rendezvous.cc:426] Local rendezvous recv item cancelled. Key hash: 3414643035223915890\n",
            "2025-04-23 16:47:02.554696: I tensorflow/core/framework/local_rendezvous.cc:426] Local rendezvous recv item cancelled. Key hash: 12335632925512262941\n",
            "2025-04-23 16:47:02.554698: I tensorflow/core/framework/local_rendezvous.cc:426] Local rendezvous recv item cancelled. Key hash: 14621154026162454276\n",
            "2025-04-23 16:47:02.554701: I tensorflow/core/framework/local_rendezvous.cc:426] Local rendezvous recv item cancelled. Key hash: 1871908141629925051\n",
            "2025-04-23 16:47:02.554702: I tensorflow/core/framework/local_rendezvous.cc:426] Local rendezvous recv item cancelled. Key hash: 5812305141084750032\n",
            "2025-04-23 16:47:02.554705: I tensorflow/core/framework/local_rendezvous.cc:426] Local rendezvous recv item cancelled. Key hash: 12203979699196290423\n",
            "2025-04-23 16:47:02.554707: I tensorflow/core/framework/local_rendezvous.cc:426] Local rendezvous recv item cancelled. Key hash: 13408368897423540300\n",
            "2025-04-23 16:47:02.554709: I tensorflow/core/framework/local_rendezvous.cc:426] Local rendezvous recv item cancelled. Key hash: 6768297732211371469\n",
            "2025-04-23 16:47:02.554711: I tensorflow/core/framework/local_rendezvous.cc:426] Local rendezvous recv item cancelled. Key hash: 4461851897016516356\n",
            "2025-04-23 16:47:02.554713: I tensorflow/core/framework/local_rendezvous.cc:426] Local rendezvous recv item cancelled. Key hash: 762964585167875803\n",
            "2025-04-23 16:47:02.554715: I tensorflow/core/framework/local_rendezvous.cc:426] Local rendezvous recv item cancelled. Key hash: 16439879600507094410\n",
            "2025-04-23 16:47:02.554717: I tensorflow/core/framework/local_rendezvous.cc:426] Local rendezvous recv item cancelled. Key hash: 9381458255724179245\n",
            "2025-04-23 16:47:02.554719: I tensorflow/core/framework/local_rendezvous.cc:426] Local rendezvous recv item cancelled. Key hash: 3755774808101848794\n",
            "2025-04-23 16:47:02.554721: I tensorflow/core/framework/local_rendezvous.cc:426] Local rendezvous recv item cancelled. Key hash: 2903102615807357177\n",
            "2025-04-23 16:47:02.554723: I tensorflow/core/framework/local_rendezvous.cc:426] Local rendezvous recv item cancelled. Key hash: 12716574734219245296\n",
            "2025-04-23 16:47:02.554725: I tensorflow/core/framework/local_rendezvous.cc:426] Local rendezvous recv item cancelled. Key hash: 4467965843429683657\n",
            "2025-04-23 16:47:02.554727: I tensorflow/core/framework/local_rendezvous.cc:426] Local rendezvous recv item cancelled. Key hash: 8749464046215073388\n",
            "2025-04-23 16:47:02.554728: I tensorflow/core/framework/local_rendezvous.cc:426] Local rendezvous recv item cancelled. Key hash: 13693018145260270027\n",
            "2025-04-23 16:47:02.554731: I tensorflow/core/framework/local_rendezvous.cc:426] Local rendezvous recv item cancelled. Key hash: 13166788290070548154\n",
            "2025-04-23 16:47:02.554732: I tensorflow/core/framework/local_rendezvous.cc:426] Local rendezvous recv item cancelled. Key hash: 5427008857558775409\n",
            "2025-04-23 16:47:02.554734: I tensorflow/core/framework/local_rendezvous.cc:426] Local rendezvous recv item cancelled. Key hash: 13876636696744333774\n",
            "2025-04-23 16:47:02.554736: I tensorflow/core/framework/local_rendezvous.cc:426] Local rendezvous recv item cancelled. Key hash: 11764776064065042185\n",
            "2025-04-23 16:47:02.554738: I tensorflow/core/framework/local_rendezvous.cc:426] Local rendezvous recv item cancelled. Key hash: 18394599167198925442\n",
            "2025-04-23 16:47:02.554739: I tensorflow/core/framework/local_rendezvous.cc:426] Local rendezvous recv item cancelled. Key hash: 17010576670154586125\n",
            "2025-04-23 16:47:02.554742: I tensorflow/core/framework/local_rendezvous.cc:426] Local rendezvous recv item cancelled. Key hash: 17455800719579452054\n",
            "2025-04-23 16:47:02.554743: I tensorflow/core/framework/local_rendezvous.cc:426] Local rendezvous recv item cancelled. Key hash: 10791491185518213253\n",
            "2025-04-23 16:47:02.554746: I tensorflow/core/framework/local_rendezvous.cc:426] Local rendezvous recv item cancelled. Key hash: 3522773966917964894\n",
            "2025-04-23 16:47:02.554747: I tensorflow/core/framework/local_rendezvous.cc:426] Local rendezvous recv item cancelled. Key hash: 1822963302553778287\n",
            "2025-04-23 16:47:02.554749: I tensorflow/core/framework/local_rendezvous.cc:426] Local rendezvous recv item cancelled. Key hash: 11905196331029795732\n",
            "2025-04-23 16:47:02.554757: I tensorflow/core/framework/local_rendezvous.cc:430] Local rendezvous send item cancelled. Key hash: 12956748017306860395\n",
            "2025-04-23 16:47:02.554760: I tensorflow/core/framework/local_rendezvous.cc:426] Local rendezvous recv item cancelled. Key hash: 5274613165593040792\n",
            "2025-04-23 16:47:02.554762: I tensorflow/core/framework/local_rendezvous.cc:426] Local rendezvous recv item cancelled. Key hash: 14031342069630074765\n",
            "2025-04-23 16:47:02.554764: I tensorflow/core/framework/local_rendezvous.cc:426] Local rendezvous recv item cancelled. Key hash: 1302091114350745728\n",
            "2025-04-23 16:47:02.554766: I tensorflow/core/framework/local_rendezvous.cc:426] Local rendezvous recv item cancelled. Key hash: 3550358191408119557\n",
            "2025-04-23 16:47:02.554769: I tensorflow/core/framework/local_rendezvous.cc:426] Local rendezvous recv item cancelled. Key hash: 8172960731053330798\n",
            "2025-04-23 16:47:02.554770: I tensorflow/core/framework/local_rendezvous.cc:426] Local rendezvous recv item cancelled. Key hash: 10042448695935663899\n",
            "2025-04-23 16:47:02.554774: I tensorflow/core/framework/local_rendezvous.cc:426] Local rendezvous recv item cancelled. Key hash: 402888152930622518\n",
            "2025-04-23 16:47:02.554775: I tensorflow/core/framework/local_rendezvous.cc:426] Local rendezvous recv item cancelled. Key hash: 10425510585324438025\n",
            "2025-04-23 16:47:02.554813: I tensorflow/core/framework/local_rendezvous.cc:426] Local rendezvous recv item cancelled. Key hash: 13901310793365364312\n",
            "2025-04-23 16:47:02.554815: I tensorflow/core/framework/local_rendezvous.cc:426] Local rendezvous recv item cancelled. Key hash: 8447890447620343067\n",
            "2025-04-23 16:47:02.554817: I tensorflow/core/framework/local_rendezvous.cc:426] Local rendezvous recv item cancelled. Key hash: 1806651440316522150\n",
            "2025-04-23 16:47:02.554818: I tensorflow/core/framework/local_rendezvous.cc:426] Local rendezvous recv item cancelled. Key hash: 10651167502388135445\n",
            "2025-04-23 16:47:02.554821: I tensorflow/core/framework/local_rendezvous.cc:426] Local rendezvous recv item cancelled. Key hash: 1545142218094386814\n",
            "2025-04-23 16:47:02.554822: I tensorflow/core/framework/local_rendezvous.cc:426] Local rendezvous recv item cancelled. Key hash: 5571927490692351707\n",
            "2025-04-23 16:47:02.554825: I tensorflow/core/framework/local_rendezvous.cc:426] Local rendezvous recv item cancelled. Key hash: 7109717490852995598\n",
            "2025-04-23 16:47:02.554827: I tensorflow/core/framework/local_rendezvous.cc:426] Local rendezvous recv item cancelled. Key hash: 10757640284025948389\n",
            "2025-04-23 16:47:02.554828: I tensorflow/core/framework/local_rendezvous.cc:426] Local rendezvous recv item cancelled. Key hash: 4640867044839564118\n",
            "2025-04-23 16:47:02.554831: I tensorflow/core/framework/local_rendezvous.cc:426] Local rendezvous recv item cancelled. Key hash: 13365180363042684889\n",
            "2025-04-23 16:47:02.554833: I tensorflow/core/framework/local_rendezvous.cc:426] Local rendezvous recv item cancelled. Key hash: 565006317188455938\n",
            "2025-04-23 16:47:02.554837: I tensorflow/core/framework/local_rendezvous.cc:426] Local rendezvous recv item cancelled. Key hash: 11000424939678305159\n",
            "2025-04-23 16:47:02.554838: I tensorflow/core/framework/local_rendezvous.cc:426] Local rendezvous recv item cancelled. Key hash: 4488950973131761128\n",
            "2025-04-23 16:47:02.554840: I tensorflow/core/framework/local_rendezvous.cc:426] Local rendezvous recv item cancelled. Key hash: 15932173759295488743\n",
            "2025-04-23 16:47:02.554842: I tensorflow/core/framework/local_rendezvous.cc:426] Local rendezvous recv item cancelled. Key hash: 14399130805525456230\n",
            "2025-04-23 16:47:02.554845: I tensorflow/core/framework/local_rendezvous.cc:426] Local rendezvous recv item cancelled. Key hash: 2628760862469492237\n",
            "2025-04-23 16:47:02.554846: I tensorflow/core/framework/local_rendezvous.cc:426] Local rendezvous recv item cancelled. Key hash: 14669784370509359000\n",
            "2025-04-23 16:47:02.554848: I tensorflow/core/framework/local_rendezvous.cc:426] Local rendezvous recv item cancelled. Key hash: 4521567689937883173\n",
            "2025-04-23 16:47:02.554850: I tensorflow/core/framework/local_rendezvous.cc:426] Local rendezvous recv item cancelled. Key hash: 14971075091054635256\n",
            "2025-04-23 16:47:02.554852: I tensorflow/core/framework/local_rendezvous.cc:426] Local rendezvous recv item cancelled. Key hash: 8115369447710820473\n",
            "2025-04-23 16:47:02.554854: I tensorflow/core/framework/local_rendezvous.cc:426] Local rendezvous recv item cancelled. Key hash: 15345919568272861378\n",
            "2025-04-23 16:47:02.554856: I tensorflow/core/framework/local_rendezvous.cc:426] Local rendezvous recv item cancelled. Key hash: 4404137522245899301\n",
            "2025-04-23 16:47:02.554858: I tensorflow/core/framework/local_rendezvous.cc:426] Local rendezvous recv item cancelled. Key hash: 14111762646860212774\n",
            "2025-04-23 16:47:02.554860: I tensorflow/core/framework/local_rendezvous.cc:426] Local rendezvous recv item cancelled. Key hash: 18177771955885413821\n",
            "2025-04-23 16:47:02.554862: I tensorflow/core/framework/local_rendezvous.cc:426] Local rendezvous recv item cancelled. Key hash: 14794742519916112688\n",
            "2025-04-23 16:47:02.554865: I tensorflow/core/framework/local_rendezvous.cc:426] Local rendezvous recv item cancelled. Key hash: 14295947159760181399\n",
            "2025-04-23 16:47:02.554867: I tensorflow/core/framework/local_rendezvous.cc:426] Local rendezvous recv item cancelled. Key hash: 6256077412110281770\n",
            "2025-04-23 16:47:02.554869: I tensorflow/core/framework/local_rendezvous.cc:426] Local rendezvous recv item cancelled. Key hash: 18378264411016895593\n",
            "2025-04-23 16:47:02.554872: I tensorflow/core/framework/local_rendezvous.cc:426] Local rendezvous recv item cancelled. Key hash: 8731270589174623526\n",
            "2025-04-23 16:47:02.554874: I tensorflow/core/framework/local_rendezvous.cc:426] Local rendezvous recv item cancelled. Key hash: 9046011902907948323\n",
            "2025-04-23 16:47:02.554876: I tensorflow/core/framework/local_rendezvous.cc:426] Local rendezvous recv item cancelled. Key hash: 3475135800333804624\n",
            "2025-04-23 16:47:02.554878: I tensorflow/core/framework/local_rendezvous.cc:426] Local rendezvous recv item cancelled. Key hash: 14139476013325590349\n",
            "2025-04-23 16:47:02.554880: I tensorflow/core/framework/local_rendezvous.cc:426] Local rendezvous recv item cancelled. Key hash: 18191512307203092676\n",
            "2025-04-23 16:47:02.554881: I tensorflow/core/framework/local_rendezvous.cc:426] Local rendezvous recv item cancelled. Key hash: 3774012763951308755\n",
            "2025-04-23 16:47:02.554883: I tensorflow/core/framework/local_rendezvous.cc:426] Local rendezvous recv item cancelled. Key hash: 591560432040980488\n",
            "2025-04-23 16:47:02.554885: I tensorflow/core/framework/local_rendezvous.cc:426] Local rendezvous recv item cancelled. Key hash: 3016208986814915127\n",
            "2025-04-23 16:47:02.554887: I tensorflow/core/framework/local_rendezvous.cc:426] Local rendezvous recv item cancelled. Key hash: 6918294058807566014\n",
            "2025-04-23 16:47:02.554890: I tensorflow/core/framework/local_rendezvous.cc:426] Local rendezvous recv item cancelled. Key hash: 6178283291909399419\n",
            "2025-04-23 16:47:02.554892: I tensorflow/core/framework/local_rendezvous.cc:426] Local rendezvous recv item cancelled. Key hash: 15600807464763698024\n",
            "2025-04-23 16:47:02.554894: I tensorflow/core/framework/local_rendezvous.cc:426] Local rendezvous recv item cancelled. Key hash: 18424066514103077065\n",
            "2025-04-23 16:47:02.554896: I tensorflow/core/framework/local_rendezvous.cc:426] Local rendezvous recv item cancelled. Key hash: 9506398507756467862\n",
            "2025-04-23 16:47:02.554899: I tensorflow/core/framework/local_rendezvous.cc:426] Local rendezvous recv item cancelled. Key hash: 4145506682742744353\n",
            "2025-04-23 16:47:02.554901: I tensorflow/core/framework/local_rendezvous.cc:426] Local rendezvous recv item cancelled. Key hash: 7510730400091519656\n",
            "2025-04-23 16:47:02.554903: I tensorflow/core/framework/local_rendezvous.cc:426] Local rendezvous recv item cancelled. Key hash: 6334016558443701969\n",
            "2025-04-23 16:47:02.554904: I tensorflow/core/framework/local_rendezvous.cc:426] Local rendezvous recv item cancelled. Key hash: 16543270030311800348\n",
            "2025-04-23 16:47:02.554908: I tensorflow/core/framework/local_rendezvous.cc:426] Local rendezvous recv item cancelled. Key hash: 10810444866881431505\n",
            "2025-04-23 16:47:02.554909: I tensorflow/core/framework/local_rendezvous.cc:426] Local rendezvous recv item cancelled. Key hash: 12872523474488967384\n",
            "2025-04-23 16:47:02.554911: I tensorflow/core/framework/local_rendezvous.cc:426] Local rendezvous recv item cancelled. Key hash: 16605443284038034699\n",
            "2025-04-23 16:47:02.554913: I tensorflow/core/framework/local_rendezvous.cc:426] Local rendezvous recv item cancelled. Key hash: 9671169222355830058\n",
            "2025-04-23 16:47:02.554915: I tensorflow/core/framework/local_rendezvous.cc:426] Local rendezvous recv item cancelled. Key hash: 9426121620883611523\n",
            "2025-04-23 16:47:02.554917: I tensorflow/core/framework/local_rendezvous.cc:426] Local rendezvous recv item cancelled. Key hash: 3753723620768728640\n",
            "2025-04-23 16:47:02.554920: I tensorflow/core/framework/local_rendezvous.cc:426] Local rendezvous recv item cancelled. Key hash: 17814192163791284935\n",
            "2025-04-23 16:47:02.554921: I tensorflow/core/framework/local_rendezvous.cc:426] Local rendezvous recv item cancelled. Key hash: 6815256851012307832\n",
            "2025-04-23 16:47:02.554924: I tensorflow/core/framework/local_rendezvous.cc:426] Local rendezvous recv item cancelled. Key hash: 1394057606081914163\n",
            "2025-04-23 16:47:02.554925: I tensorflow/core/framework/local_rendezvous.cc:426] Local rendezvous recv item cancelled. Key hash: 12690636014826212372\n",
            "2025-04-23 16:47:02.554928: I tensorflow/core/framework/local_rendezvous.cc:426] Local rendezvous recv item cancelled. Key hash: 758656831394391601\n",
            "2025-04-23 16:47:02.554929: I tensorflow/core/framework/local_rendezvous.cc:426] Local rendezvous recv item cancelled. Key hash: 18221943266461600818\n",
            "2025-04-23 16:47:02.554932: I tensorflow/core/framework/local_rendezvous.cc:426] Local rendezvous recv item cancelled. Key hash: 1862599807359495559\n",
            "2025-04-23 16:47:02.554933: I tensorflow/core/framework/local_rendezvous.cc:426] Local rendezvous recv item cancelled. Key hash: 17883398801875521264\n",
            "2025-04-23 16:47:02.554936: I tensorflow/core/framework/local_rendezvous.cc:426] Local rendezvous recv item cancelled. Key hash: 9272265698589127129\n",
            "2025-04-23 16:47:02.554937: I tensorflow/core/framework/local_rendezvous.cc:426] Local rendezvous recv item cancelled. Key hash: 5076621912164061430\n",
            "2025-04-23 16:47:02.554940: I tensorflow/core/framework/local_rendezvous.cc:426] Local rendezvous recv item cancelled. Key hash: 9477261212777493347\n",
            "2025-04-23 16:47:02.554942: I tensorflow/core/framework/local_rendezvous.cc:426] Local rendezvous recv item cancelled. Key hash: 12809080155093453758\n",
            "2025-04-23 16:47:02.554945: I tensorflow/core/framework/local_rendezvous.cc:426] Local rendezvous recv item cancelled. Key hash: 15233919434487084287\n",
            "2025-04-23 16:47:02.554946: I tensorflow/core/framework/local_rendezvous.cc:426] Local rendezvous recv item cancelled. Key hash: 13599555522600293254\n",
            "2025-04-23 16:47:02.554950: I tensorflow/core/framework/local_rendezvous.cc:426] Local rendezvous recv item cancelled. Key hash: 6573279409509414335\n",
            "2025-04-23 16:47:02.554952: I tensorflow/core/framework/local_rendezvous.cc:426] Local rendezvous recv item cancelled. Key hash: 15498379617699943394\n",
            "2025-04-23 16:47:02.554954: I tensorflow/core/framework/local_rendezvous.cc:426] Local rendezvous recv item cancelled. Key hash: 1341948605946969977\n",
            "2025-04-23 16:47:02.554956: I tensorflow/core/framework/local_rendezvous.cc:426] Local rendezvous recv item cancelled. Key hash: 10890711500029810044\n",
            "2025-04-23 16:47:02.554959: I tensorflow/core/framework/local_rendezvous.cc:426] Local rendezvous recv item cancelled. Key hash: 18369613667539864435\n",
            "2025-04-23 16:47:02.554960: I tensorflow/core/framework/local_rendezvous.cc:426] Local rendezvous recv item cancelled. Key hash: 11968079497620674808\n",
            "2025-04-23 16:47:02.554962: I tensorflow/core/framework/local_rendezvous.cc:426] Local rendezvous recv item cancelled. Key hash: 745761352120192735\n",
            "2025-04-23 16:47:02.554964: I tensorflow/core/framework/local_rendezvous.cc:426] Local rendezvous recv item cancelled. Key hash: 17433165049916872864\n",
            "2025-04-23 16:47:02.554966: I tensorflow/core/framework/local_rendezvous.cc:426] Local rendezvous recv item cancelled. Key hash: 2530559745500238503\n",
            "2025-04-23 16:47:02.554967: I tensorflow/core/framework/local_rendezvous.cc:426] Local rendezvous recv item cancelled. Key hash: 575479648540482298\n",
            "2025-04-23 16:47:02.554970: I tensorflow/core/framework/local_rendezvous.cc:426] Local rendezvous recv item cancelled. Key hash: 18296331168958436803\n",
            "2025-04-23 16:47:02.554972: I tensorflow/core/framework/local_rendezvous.cc:426] Local rendezvous recv item cancelled. Key hash: 15126008182247971456\n",
            "2025-04-23 16:47:02.554974: I tensorflow/core/framework/local_rendezvous.cc:426] Local rendezvous recv item cancelled. Key hash: 6359154945545721469\n",
            "2025-04-23 16:47:02.554976: I tensorflow/core/framework/local_rendezvous.cc:426] Local rendezvous recv item cancelled. Key hash: 1124205918354725708\n",
            "2025-04-23 16:47:02.554979: I tensorflow/core/framework/local_rendezvous.cc:426] Local rendezvous recv item cancelled. Key hash: 17769896797008024933\n",
            "2025-04-23 16:47:02.554980: I tensorflow/core/framework/local_rendezvous.cc:426] Local rendezvous recv item cancelled. Key hash: 17242789620930041840\n",
            "2025-04-23 16:47:02.554983: I tensorflow/core/framework/local_rendezvous.cc:426] Local rendezvous recv item cancelled. Key hash: 10380465877135186973\n",
            "2025-04-23 16:47:02.554984: I tensorflow/core/framework/local_rendezvous.cc:426] Local rendezvous recv item cancelled. Key hash: 15495371113699729070\n",
            "2025-04-23 16:47:02.554987: I tensorflow/core/framework/local_rendezvous.cc:426] Local rendezvous recv item cancelled. Key hash: 2160583235280624971\n",
            "2025-04-23 16:47:02.554988: I tensorflow/core/framework/local_rendezvous.cc:426] Local rendezvous recv item cancelled. Key hash: 8961815101158646172\n",
            "2025-04-23 16:47:02.554990: I tensorflow/core/framework/local_rendezvous.cc:426] Local rendezvous recv item cancelled. Key hash: 12158706920399626429\n",
            "2025-04-23 16:47:02.554992: I tensorflow/core/framework/local_rendezvous.cc:426] Local rendezvous recv item cancelled. Key hash: 10136074219958231560\n",
            "2025-04-23 16:47:02.554994: I tensorflow/core/framework/local_rendezvous.cc:426] Local rendezvous recv item cancelled. Key hash: 11219104840677188411\n",
            "2025-04-23 16:47:02.554996: I tensorflow/core/framework/local_rendezvous.cc:426] Local rendezvous recv item cancelled. Key hash: 17842829968604128702\n",
            "2025-04-23 16:47:02.555005: I tensorflow/core/framework/local_rendezvous.cc:426] Local rendezvous recv item cancelled. Key hash: 15505766244439943262\n",
            "2025-04-23 16:47:02.555009: I tensorflow/core/framework/local_rendezvous.cc:426] Local rendezvous recv item cancelled. Key hash: 10838860395111048241\n",
            "2025-04-23 16:47:02.555014: I tensorflow/core/framework/local_rendezvous.cc:426] Local rendezvous recv item cancelled. Key hash: 10696205128317134949\n",
            "2025-04-23 16:47:02.555019: I tensorflow/core/framework/local_rendezvous.cc:426] Local rendezvous recv item cancelled. Key hash: 10843412505560016929\n",
            "2025-04-23 16:47:02.555022: I tensorflow/core/framework/local_rendezvous.cc:426] Local rendezvous recv item cancelled. Key hash: 6332728133444233781\n",
            "2025-04-23 16:47:02.555025: I tensorflow/core/framework/local_rendezvous.cc:426] Local rendezvous recv item cancelled. Key hash: 12413592247590579151\n",
            "2025-04-23 16:47:02.555028: I tensorflow/core/framework/local_rendezvous.cc:426] Local rendezvous recv item cancelled. Key hash: 4291750123929135807\n",
            "2025-04-23 16:47:02.555031: I tensorflow/core/framework/local_rendezvous.cc:426] Local rendezvous recv item cancelled. Key hash: 9405692429388343572\n",
            "2025-04-23 16:47:02.555044: I tensorflow/core/framework/local_rendezvous.cc:426] Local rendezvous recv item cancelled. Key hash: 860960913827819609\n",
            "2025-04-23 16:47:02.555050: I tensorflow/core/framework/local_rendezvous.cc:426] Local rendezvous recv item cancelled. Key hash: 17165634500041763398\n",
            "2025-04-23 16:47:02.555051: I tensorflow/core/framework/local_rendezvous.cc:426] Local rendezvous recv item cancelled. Key hash: 16935569720502317101\n",
            "2025-04-23 16:47:02.555053: I tensorflow/core/framework/local_rendezvous.cc:430] Local rendezvous send item cancelled. Key hash: 15062251542354389622\n",
            "2025-04-23 16:47:02.555057: I tensorflow/core/framework/local_rendezvous.cc:426] Local rendezvous recv item cancelled. Key hash: 16679692041788519133\n",
            "2025-04-23 16:47:02.555058: I tensorflow/core/framework/local_rendezvous.cc:426] Local rendezvous recv item cancelled. Key hash: 15072647065170078780\n",
            "2025-04-23 16:47:02.555061: I tensorflow/core/framework/local_rendezvous.cc:426] Local rendezvous recv item cancelled. Key hash: 10169578016037204033\n",
            "2025-04-23 16:47:02.555062: I tensorflow/core/framework/local_rendezvous.cc:426] Local rendezvous recv item cancelled. Key hash: 15591564869867138316\n",
            "2025-04-23 16:47:02.555064: I tensorflow/core/framework/local_rendezvous.cc:426] Local rendezvous recv item cancelled. Key hash: 1536373091667277015\n",
            "2025-04-23 16:47:02.555066: I tensorflow/core/framework/local_rendezvous.cc:426] Local rendezvous recv item cancelled. Key hash: 14038114602486656910\n",
            "2025-04-23 16:47:02.555068: I tensorflow/core/framework/local_rendezvous.cc:426] Local rendezvous recv item cancelled. Key hash: 14168357077061924087\n",
            "2025-04-23 16:47:02.555070: I tensorflow/core/framework/local_rendezvous.cc:426] Local rendezvous recv item cancelled. Key hash: 6531022744478348918\n",
            "2025-04-23 16:47:02.555072: I tensorflow/core/framework/local_rendezvous.cc:426] Local rendezvous recv item cancelled. Key hash: 3177642849465792173\n",
            "2025-04-23 16:47:02.555074: I tensorflow/core/framework/local_rendezvous.cc:426] Local rendezvous recv item cancelled. Key hash: 1673122395127281486\n",
            "2025-04-23 16:47:02.555077: I tensorflow/core/framework/local_rendezvous.cc:426] Local rendezvous recv item cancelled. Key hash: 10714533152910145523\n",
            "2025-04-23 16:47:02.555078: I tensorflow/core/framework/local_rendezvous.cc:426] Local rendezvous recv item cancelled. Key hash: 4361416996315855094\n",
            "2025-04-23 16:47:02.555081: I tensorflow/core/framework/local_rendezvous.cc:426] Local rendezvous recv item cancelled. Key hash: 4493629770610309185\n",
            "2025-04-23 16:47:02.555082: I tensorflow/core/framework/local_rendezvous.cc:426] Local rendezvous recv item cancelled. Key hash: 15755655554505701876\n",
            "2025-04-23 16:47:02.555085: I tensorflow/core/framework/local_rendezvous.cc:426] Local rendezvous recv item cancelled. Key hash: 1203908349283595841\n",
            "2025-04-23 16:47:02.555086: I tensorflow/core/framework/local_rendezvous.cc:426] Local rendezvous recv item cancelled. Key hash: 4709811707296545954\n",
            "2025-04-23 16:47:02.555089: I tensorflow/core/framework/local_rendezvous.cc:426] Local rendezvous recv item cancelled. Key hash: 15647636190199086197\n",
            "2025-04-23 16:47:02.555093: I tensorflow/core/framework/local_rendezvous.cc:426] Local rendezvous recv item cancelled. Key hash: 3842201026910813487\n",
            "2025-04-23 16:47:02.555096: I tensorflow/core/framework/local_rendezvous.cc:426] Local rendezvous recv item cancelled. Key hash: 17351464709675220583\n",
            "2025-04-23 16:47:02.555100: I tensorflow/core/framework/local_rendezvous.cc:426] Local rendezvous recv item cancelled. Key hash: 9467514268876865215\n",
            "/Users/blag/Documents/UChicago MS/2025 Spring/Computer Vision with DL/.venv/lib/python3.12/site-packages/keras/src/trainers/epoch_iterator.py:151: UserWarning: Your input ran out of data; interrupting training. Make sure that your dataset or generator can generate at least `steps_per_epoch * epochs` batches. You may need to use the `.repeat()` function when building your dataset.\n",
            "  self._interrupted_warning()\n",
            "OpenCV: Couldn't read video stream from file \"/Users/blag/Documents/UChicago MS/2025 Spring/Computer Vision with DL/LipReading_CV/data/video1/of/1547.mp4\"\n"
          ]
        },
        {
          "name": "stdout",
          "output_type": "stream",
          "text": [
            " Could not read frame in video: /Users/blag/Documents/UChicago MS/2025 Spring/Computer Vision with DL/LipReading_CV/data/video1/of/1547.mp4\n",
            " Skipping video: /Users/blag/Documents/UChicago MS/2025 Spring/Computer Vision with DL/LipReading_CV/data/video1/of/1547.mp4 (Invalid or too few frames)\n"
          ]
        },
        {
          "name": "stderr",
          "output_type": "stream",
          "text": [
            "OpenCV: Couldn't read video stream from file \"/Users/blag/Documents/UChicago MS/2025 Spring/Computer Vision with DL/LipReading_CV/data/video1/an/686.mp4\"\n"
          ]
        },
        {
          "name": "stdout",
          "output_type": "stream",
          "text": [
            " Could not read frame in video: /Users/blag/Documents/UChicago MS/2025 Spring/Computer Vision with DL/LipReading_CV/data/video1/an/686.mp4\n",
            " Skipping video: /Users/blag/Documents/UChicago MS/2025 Spring/Computer Vision with DL/LipReading_CV/data/video1/an/686.mp4 (Invalid or too few frames)\n"
          ]
        },
        {
          "name": "stderr",
          "output_type": "stream",
          "text": [
            "OpenCV: Couldn't read video stream from file \"/Users/blag/Documents/UChicago MS/2025 Spring/Computer Vision with DL/LipReading_CV/data/video1/of/1441.mp4\"\n"
          ]
        },
        {
          "name": "stdout",
          "output_type": "stream",
          "text": [
            " Could not read frame in video: /Users/blag/Documents/UChicago MS/2025 Spring/Computer Vision with DL/LipReading_CV/data/video1/of/1441.mp4\n",
            " Skipping video: /Users/blag/Documents/UChicago MS/2025 Spring/Computer Vision with DL/LipReading_CV/data/video1/of/1441.mp4 (Invalid or too few frames)\n"
          ]
        },
        {
          "name": "stderr",
          "output_type": "stream",
          "text": [
            "OpenCV: Couldn't read video stream from file \"/Users/blag/Documents/UChicago MS/2025 Spring/Computer Vision with DL/LipReading_CV/data/video1/at/656.mp4\"\n",
            "OpenCV: Couldn't read video stream from file \"/Users/blag/Documents/UChicago MS/2025 Spring/Computer Vision with DL/LipReading_CV/data/video1/in/751.mp4\"\n"
          ]
        },
        {
          "name": "stdout",
          "output_type": "stream",
          "text": [
            " Could not read frame in video: /Users/blag/Documents/UChicago MS/2025 Spring/Computer Vision with DL/LipReading_CV/data/video1/at/656.mp4\n",
            " Skipping video: /Users/blag/Documents/UChicago MS/2025 Spring/Computer Vision with DL/LipReading_CV/data/video1/at/656.mp4 (Invalid or too few frames)\n",
            " Could not read frame in video: /Users/blag/Documents/UChicago MS/2025 Spring/Computer Vision with DL/LipReading_CV/data/video1/in/751.mp4\n",
            " Skipping video: /Users/blag/Documents/UChicago MS/2025 Spring/Computer Vision with DL/LipReading_CV/data/video1/in/751.mp4 (Invalid or too few frames)\n"
          ]
        },
        {
          "name": "stderr",
          "output_type": "stream",
          "text": [
            "OpenCV: Couldn't read video stream from file \"/Users/blag/Documents/UChicago MS/2025 Spring/Computer Vision with DL/LipReading_CV/data/video1/of/960.mp4\"\n"
          ]
        },
        {
          "name": "stdout",
          "output_type": "stream",
          "text": [
            " Could not read frame in video: /Users/blag/Documents/UChicago MS/2025 Spring/Computer Vision with DL/LipReading_CV/data/video1/of/960.mp4\n",
            " Skipping video: /Users/blag/Documents/UChicago MS/2025 Spring/Computer Vision with DL/LipReading_CV/data/video1/of/960.mp4 (Invalid or too few frames)\n",
            " Could not read frame in video: /Users/blag/Documents/UChicago MS/2025 Spring/Computer Vision with DL/LipReading_CV/data/video1/to/1568.mp4\n",
            " Skipping video: /Users/blag/Documents/UChicago MS/2025 Spring/Computer Vision with DL/LipReading_CV/data/video1/to/1568.mp4 (Invalid or too few frames)\n"
          ]
        },
        {
          "name": "stderr",
          "output_type": "stream",
          "text": [
            "OpenCV: Couldn't read video stream from file \"/Users/blag/Documents/UChicago MS/2025 Spring/Computer Vision with DL/LipReading_CV/data/video1/to/1568.mp4\"\n",
            "OpenCV: Couldn't read video stream from file \"/Users/blag/Documents/UChicago MS/2025 Spring/Computer Vision with DL/LipReading_CV/data/video1/to/1370.mp4\"\n"
          ]
        },
        {
          "name": "stdout",
          "output_type": "stream",
          "text": [
            " Could not read frame in video: /Users/blag/Documents/UChicago MS/2025 Spring/Computer Vision with DL/LipReading_CV/data/video1/to/1370.mp4\n",
            " Skipping video: /Users/blag/Documents/UChicago MS/2025 Spring/Computer Vision with DL/LipReading_CV/data/video1/to/1370.mp4 (Invalid or too few frames)\n",
            " Could not read frame in video: /Users/blag/Documents/UChicago MS/2025 Spring/Computer Vision with DL/LipReading_CV/data/video1/10/1283.mp4\n",
            " Skipping video: /Users/blag/Documents/UChicago MS/2025 Spring/Computer Vision with DL/LipReading_CV/data/video1/10/1283.mp4 (Invalid or too few frames)\n"
          ]
        },
        {
          "name": "stderr",
          "output_type": "stream",
          "text": [
            "OpenCV: Couldn't read video stream from file \"/Users/blag/Documents/UChicago MS/2025 Spring/Computer Vision with DL/LipReading_CV/data/video1/10/1283.mp4\"\n",
            "OpenCV: Couldn't read video stream from file \"/Users/blag/Documents/UChicago MS/2025 Spring/Computer Vision with DL/LipReading_CV/data/video1/at/934.mp4\"\n"
          ]
        },
        {
          "name": "stdout",
          "output_type": "stream",
          "text": [
            " Could not read frame in video: /Users/blag/Documents/UChicago MS/2025 Spring/Computer Vision with DL/LipReading_CV/data/video1/at/934.mp4\n",
            " Skipping video: /Users/blag/Documents/UChicago MS/2025 Spring/Computer Vision with DL/LipReading_CV/data/video1/at/934.mp4 (Invalid or too few frames)\n"
          ]
        },
        {
          "name": "stderr",
          "output_type": "stream",
          "text": [
            "OpenCV: Couldn't read video stream from file \"/Users/blag/Documents/UChicago MS/2025 Spring/Computer Vision with DL/LipReading_CV/data/video1/of/1122.mp4\"\n"
          ]
        },
        {
          "name": "stdout",
          "output_type": "stream",
          "text": [
            " Could not read frame in video: /Users/blag/Documents/UChicago MS/2025 Spring/Computer Vision with DL/LipReading_CV/data/video1/of/1122.mp4\n",
            " Skipping video: /Users/blag/Documents/UChicago MS/2025 Spring/Computer Vision with DL/LipReading_CV/data/video1/of/1122.mp4 (Invalid or too few frames)\n"
          ]
        },
        {
          "name": "stderr",
          "output_type": "stream",
          "text": [
            "OpenCV: Couldn't read video stream from file \"/Users/blag/Documents/UChicago MS/2025 Spring/Computer Vision with DL/LipReading_CV/data/video1/of/810.mp4\"\n"
          ]
        },
        {
          "name": "stdout",
          "output_type": "stream",
          "text": [
            " Could not read frame in video: /Users/blag/Documents/UChicago MS/2025 Spring/Computer Vision with DL/LipReading_CV/data/video1/of/810.mp4\n",
            " Skipping video: /Users/blag/Documents/UChicago MS/2025 Spring/Computer Vision with DL/LipReading_CV/data/video1/of/810.mp4 (Invalid or too few frames)\n"
          ]
        },
        {
          "name": "stderr",
          "output_type": "stream",
          "text": [
            "OpenCV: Couldn't read video stream from file \"/Users/blag/Documents/UChicago MS/2025 Spring/Computer Vision with DL/LipReading_CV/data/video1/in/1717.mp4\"\n"
          ]
        },
        {
          "name": "stdout",
          "output_type": "stream",
          "text": [
            " Could not read frame in video: /Users/blag/Documents/UChicago MS/2025 Spring/Computer Vision with DL/LipReading_CV/data/video1/in/1717.mp4\n",
            " Skipping video: /Users/blag/Documents/UChicago MS/2025 Spring/Computer Vision with DL/LipReading_CV/data/video1/in/1717.mp4 (Invalid or too few frames)\n"
          ]
        },
        {
          "name": "stderr",
          "output_type": "stream",
          "text": [
            "OpenCV: Couldn't read video stream from file \"/Users/blag/Documents/UChicago MS/2025 Spring/Computer Vision with DL/LipReading_CV/data/video1/of/482.mp4\"\n"
          ]
        },
        {
          "name": "stdout",
          "output_type": "stream",
          "text": [
            " Could not read frame in video: /Users/blag/Documents/UChicago MS/2025 Spring/Computer Vision with DL/LipReading_CV/data/video1/of/482.mp4\n",
            " Skipping video: /Users/blag/Documents/UChicago MS/2025 Spring/Computer Vision with DL/LipReading_CV/data/video1/of/482.mp4 (Invalid or too few frames)\n"
          ]
        },
        {
          "name": "stderr",
          "output_type": "stream",
          "text": [
            "OpenCV: Couldn't read video stream from file \"/Users/blag/Documents/UChicago MS/2025 Spring/Computer Vision with DL/LipReading_CV/data/video1/we/1452.mp4\"\n"
          ]
        },
        {
          "name": "stdout",
          "output_type": "stream",
          "text": [
            " Could not read frame in video: /Users/blag/Documents/UChicago MS/2025 Spring/Computer Vision with DL/LipReading_CV/data/video1/we/1452.mp4\n",
            " Skipping video: /Users/blag/Documents/UChicago MS/2025 Spring/Computer Vision with DL/LipReading_CV/data/video1/we/1452.mp4 (Invalid or too few frames)\n"
          ]
        },
        {
          "name": "stderr",
          "output_type": "stream",
          "text": [
            "OpenCV: Couldn't read video stream from file \"/Users/blag/Documents/UChicago MS/2025 Spring/Computer Vision with DL/LipReading_CV/data/video1/of/802.mp4\"\n"
          ]
        },
        {
          "name": "stdout",
          "output_type": "stream",
          "text": [
            " Could not read frame in video: /Users/blag/Documents/UChicago MS/2025 Spring/Computer Vision with DL/LipReading_CV/data/video1/of/802.mp4\n",
            " Skipping video: /Users/blag/Documents/UChicago MS/2025 Spring/Computer Vision with DL/LipReading_CV/data/video1/of/802.mp4 (Invalid or too few frames)\n"
          ]
        },
        {
          "name": "stderr",
          "output_type": "stream",
          "text": [
            "OpenCV: Couldn't read video stream from file \"/Users/blag/Documents/UChicago MS/2025 Spring/Computer Vision with DL/LipReading_CV/data/video1/of/300.mp4\"\n"
          ]
        },
        {
          "name": "stdout",
          "output_type": "stream",
          "text": [
            " Could not read frame in video: /Users/blag/Documents/UChicago MS/2025 Spring/Computer Vision with DL/LipReading_CV/data/video1/of/300.mp4\n",
            " Skipping video: /Users/blag/Documents/UChicago MS/2025 Spring/Computer Vision with DL/LipReading_CV/data/video1/of/300.mp4 (Invalid or too few frames)\n"
          ]
        },
        {
          "name": "stderr",
          "output_type": "stream",
          "text": [
            "OpenCV: Couldn't read video stream from file \"/Users/blag/Documents/UChicago MS/2025 Spring/Computer Vision with DL/LipReading_CV/data/video1/of/770.mp4\"\n"
          ]
        },
        {
          "name": "stdout",
          "output_type": "stream",
          "text": [
            " Could not read frame in video: /Users/blag/Documents/UChicago MS/2025 Spring/Computer Vision with DL/LipReading_CV/data/video1/of/770.mp4\n",
            " Skipping video: /Users/blag/Documents/UChicago MS/2025 Spring/Computer Vision with DL/LipReading_CV/data/video1/of/770.mp4 (Invalid or too few frames)\n",
            " Could not read frame in video: /Users/blag/Documents/UChicago MS/2025 Spring/Computer Vision with DL/LipReading_CV/data/video1/to/1414.mp4\n",
            " Skipping video: /Users/blag/Documents/UChicago MS/2025 Spring/Computer Vision with DL/LipReading_CV/data/video1/to/1414.mp4 (Invalid or too few frames)\n"
          ]
        },
        {
          "name": "stderr",
          "output_type": "stream",
          "text": [
            "OpenCV: Couldn't read video stream from file \"/Users/blag/Documents/UChicago MS/2025 Spring/Computer Vision with DL/LipReading_CV/data/video1/to/1414.mp4\"\n",
            "OpenCV: Couldn't read video stream from file \"/Users/blag/Documents/UChicago MS/2025 Spring/Computer Vision with DL/LipReading_CV/data/video1/to/1181.mp4\"\n"
          ]
        },
        {
          "name": "stdout",
          "output_type": "stream",
          "text": [
            " Could not read frame in video: /Users/blag/Documents/UChicago MS/2025 Spring/Computer Vision with DL/LipReading_CV/data/video1/to/1181.mp4\n",
            " Skipping video: /Users/blag/Documents/UChicago MS/2025 Spring/Computer Vision with DL/LipReading_CV/data/video1/to/1181.mp4 (Invalid or too few frames)\n",
            " Could not read frame in video: /Users/blag/Documents/UChicago MS/2025 Spring/Computer Vision with DL/LipReading_CV/data/video1/of/584.mp4\n",
            " Skipping video: /Users/blag/Documents/UChicago MS/2025 Spring/Computer Vision with DL/LipReading_CV/data/video1/of/584.mp4 (Invalid or too few frames)\n"
          ]
        },
        {
          "name": "stderr",
          "output_type": "stream",
          "text": [
            "OpenCV: Couldn't read video stream from file \"/Users/blag/Documents/UChicago MS/2025 Spring/Computer Vision with DL/LipReading_CV/data/video1/of/584.mp4\"\n",
            "OpenCV: Couldn't read video stream from file \"/Users/blag/Documents/UChicago MS/2025 Spring/Computer Vision with DL/LipReading_CV/data/video1/or/1177.mp4\"\n",
            "OpenCV: Couldn't read video stream from file \"/Users/blag/Documents/UChicago MS/2025 Spring/Computer Vision with DL/LipReading_CV/data/video1/i/1251.mp4\"\n"
          ]
        },
        {
          "name": "stdout",
          "output_type": "stream",
          "text": [
            " Could not read frame in video: /Users/blag/Documents/UChicago MS/2025 Spring/Computer Vision with DL/LipReading_CV/data/video1/or/1177.mp4\n",
            " Skipping video: /Users/blag/Documents/UChicago MS/2025 Spring/Computer Vision with DL/LipReading_CV/data/video1/or/1177.mp4 (Invalid or too few frames)\n",
            " Could not read frame in video: /Users/blag/Documents/UChicago MS/2025 Spring/Computer Vision with DL/LipReading_CV/data/video1/i/1251.mp4\n",
            " Skipping video: /Users/blag/Documents/UChicago MS/2025 Spring/Computer Vision with DL/LipReading_CV/data/video1/i/1251.mp4 (Invalid or too few frames)\n"
          ]
        },
        {
          "name": "stderr",
          "output_type": "stream",
          "text": [
            "OpenCV: Couldn't read video stream from file \"/Users/blag/Documents/UChicago MS/2025 Spring/Computer Vision with DL/LipReading_CV/data/video1/of/681.mp4\"\n"
          ]
        },
        {
          "name": "stdout",
          "output_type": "stream",
          "text": [
            " Could not read frame in video: /Users/blag/Documents/UChicago MS/2025 Spring/Computer Vision with DL/LipReading_CV/data/video1/of/681.mp4\n",
            " Skipping video: /Users/blag/Documents/UChicago MS/2025 Spring/Computer Vision with DL/LipReading_CV/data/video1/of/681.mp4 (Invalid or too few frames)\n"
          ]
        },
        {
          "name": "stderr",
          "output_type": "stream",
          "text": [
            "OpenCV: Couldn't read video stream from file \"/Users/blag/Documents/UChicago MS/2025 Spring/Computer Vision with DL/LipReading_CV/data/video1/of/1680.mp4\"\n"
          ]
        },
        {
          "name": "stdout",
          "output_type": "stream",
          "text": [
            " Could not read frame in video: /Users/blag/Documents/UChicago MS/2025 Spring/Computer Vision with DL/LipReading_CV/data/video1/of/1680.mp4\n",
            " Skipping video: /Users/blag/Documents/UChicago MS/2025 Spring/Computer Vision with DL/LipReading_CV/data/video1/of/1680.mp4 (Invalid or too few frames)\n"
          ]
        },
        {
          "name": "stderr",
          "output_type": "stream",
          "text": [
            "OpenCV: Couldn't read video stream from file \"/Users/blag/Documents/UChicago MS/2025 Spring/Computer Vision with DL/LipReading_CV/data/video1/an/209.mp4\"\n",
            "OpenCV: Couldn't read video stream from file \"/Users/blag/Documents/UChicago MS/2025 Spring/Computer Vision with DL/LipReading_CV/data/video1/an/616.mp4\"\n"
          ]
        },
        {
          "name": "stdout",
          "output_type": "stream",
          "text": [
            " Could not read frame in video: /Users/blag/Documents/UChicago MS/2025 Spring/Computer Vision with DL/LipReading_CV/data/video1/an/209.mp4\n",
            " Skipping video: /Users/blag/Documents/UChicago MS/2025 Spring/Computer Vision with DL/LipReading_CV/data/video1/an/209.mp4 (Invalid or too few frames)\n",
            " Could not read frame in video: /Users/blag/Documents/UChicago MS/2025 Spring/Computer Vision with DL/LipReading_CV/data/video1/an/616.mp4\n",
            " Skipping video: /Users/blag/Documents/UChicago MS/2025 Spring/Computer Vision with DL/LipReading_CV/data/video1/an/616.mp4 (Invalid or too few frames)\n"
          ]
        },
        {
          "name": "stderr",
          "output_type": "stream",
          "text": [
            "OpenCV: Couldn't read video stream from file \"/Users/blag/Documents/UChicago MS/2025 Spring/Computer Vision with DL/LipReading_CV/data/video1/of/1145.mp4\"\n"
          ]
        },
        {
          "name": "stdout",
          "output_type": "stream",
          "text": [
            " Could not read frame in video: /Users/blag/Documents/UChicago MS/2025 Spring/Computer Vision with DL/LipReading_CV/data/video1/of/1145.mp4\n",
            " Skipping video: /Users/blag/Documents/UChicago MS/2025 Spring/Computer Vision with DL/LipReading_CV/data/video1/of/1145.mp4 (Invalid or too few frames)\n"
          ]
        },
        {
          "name": "stderr",
          "output_type": "stream",
          "text": [
            "OpenCV: Couldn't read video stream from file \"/Users/blag/Documents/UChicago MS/2025 Spring/Computer Vision with DL/LipReading_CV/data/video1/if/766.mp4\"\n"
          ]
        },
        {
          "name": "stdout",
          "output_type": "stream",
          "text": [
            " Could not read frame in video: /Users/blag/Documents/UChicago MS/2025 Spring/Computer Vision with DL/LipReading_CV/data/video1/if/766.mp4\n",
            " Skipping video: /Users/blag/Documents/UChicago MS/2025 Spring/Computer Vision with DL/LipReading_CV/data/video1/if/766.mp4 (Invalid or too few frames)\n"
          ]
        },
        {
          "name": "stderr",
          "output_type": "stream",
          "text": [
            "OpenCV: Couldn't read video stream from file \"/Users/blag/Documents/UChicago MS/2025 Spring/Computer Vision with DL/LipReading_CV/data/video1/to/1164.mp4\"\n"
          ]
        },
        {
          "name": "stdout",
          "output_type": "stream",
          "text": [
            " Could not read frame in video: /Users/blag/Documents/UChicago MS/2025 Spring/Computer Vision with DL/LipReading_CV/data/video1/to/1164.mp4\n",
            " Skipping video: /Users/blag/Documents/UChicago MS/2025 Spring/Computer Vision with DL/LipReading_CV/data/video1/to/1164.mp4 (Invalid or too few frames)\n"
          ]
        },
        {
          "name": "stderr",
          "output_type": "stream",
          "text": [
            "OpenCV: Couldn't read video stream from file \"/Users/blag/Documents/UChicago MS/2025 Spring/Computer Vision with DL/LipReading_CV/data/video1/of/474.mp4\"\n"
          ]
        },
        {
          "name": "stdout",
          "output_type": "stream",
          "text": [
            " Could not read frame in video: /Users/blag/Documents/UChicago MS/2025 Spring/Computer Vision with DL/LipReading_CV/data/video1/of/474.mp4\n",
            " Skipping video: /Users/blag/Documents/UChicago MS/2025 Spring/Computer Vision with DL/LipReading_CV/data/video1/of/474.mp4 (Invalid or too few frames)\n"
          ]
        },
        {
          "name": "stderr",
          "output_type": "stream",
          "text": [
            "OpenCV: Couldn't read video stream from file \"/Users/blag/Documents/UChicago MS/2025 Spring/Computer Vision with DL/LipReading_CV/data/video1/of/1114.mp4\"\n"
          ]
        },
        {
          "name": "stdout",
          "output_type": "stream",
          "text": [
            " Could not read frame in video: /Users/blag/Documents/UChicago MS/2025 Spring/Computer Vision with DL/LipReading_CV/data/video1/of/1114.mp4\n",
            " Skipping video: /Users/blag/Documents/UChicago MS/2025 Spring/Computer Vision with DL/LipReading_CV/data/video1/of/1114.mp4 (Invalid or too few frames)\n"
          ]
        },
        {
          "name": "stderr",
          "output_type": "stream",
          "text": [
            "OpenCV: Couldn't read video stream from file \"/Users/blag/Documents/UChicago MS/2025 Spring/Computer Vision with DL/LipReading_CV/data/video1/it/873.mp4\"\n"
          ]
        },
        {
          "name": "stdout",
          "output_type": "stream",
          "text": [
            " Could not read frame in video: /Users/blag/Documents/UChicago MS/2025 Spring/Computer Vision with DL/LipReading_CV/data/video1/it/873.mp4\n",
            " Skipping video: /Users/blag/Documents/UChicago MS/2025 Spring/Computer Vision with DL/LipReading_CV/data/video1/it/873.mp4 (Invalid or too few frames)\n",
            "\u001b[1m53/53\u001b[0m \u001b[32m━━━━━━━━━━━━━━━━━━━━\u001b[0m\u001b[37m\u001b[0m \u001b[1m824s\u001b[0m 15s/step - accuracy: 8.0882e-04 - loss: 0.0179 - val_accuracy: 0.0053 - val_loss: 0.0197\n",
            "Epoch 2/50\n"
          ]
        },
        {
          "name": "stderr",
          "output_type": "stream",
          "text": [
            "2025-04-23 16:49:38.421602: I tensorflow/core/framework/local_rendezvous.cc:426] Local rendezvous recv item cancelled. Key hash: 823709620357693600\n",
            "2025-04-23 16:49:38.421636: I tensorflow/core/framework/local_rendezvous.cc:426] Local rendezvous recv item cancelled. Key hash: 11237179238703235368\n",
            "2025-04-23 16:49:38.421640: I tensorflow/core/framework/local_rendezvous.cc:407] Local rendezvous is aborting with status: OUT_OF_RANGE: End of sequence\n",
            "\t [[{{node IteratorGetNext}}]]\n",
            "\t [[StatefulPartitionedCall/functional_16_1/residual_main_3_1/sequential_14_1/conv2_plus1d_8_1/sequential_13_1/conv3d_16_1/convolution/ReadVariableOp/_103]]\n",
            "2025-04-23 16:49:38.421649: I tensorflow/core/framework/local_rendezvous.cc:426] Local rendezvous recv item cancelled. Key hash: 4796588805928813386\n",
            "2025-04-23 16:49:38.421651: I tensorflow/core/framework/local_rendezvous.cc:426] Local rendezvous recv item cancelled. Key hash: 3505650311043636557\n",
            "2025-04-23 16:49:38.421653: I tensorflow/core/framework/local_rendezvous.cc:426] Local rendezvous recv item cancelled. Key hash: 14904102309511840918\n",
            "2025-04-23 16:49:38.421655: I tensorflow/core/framework/local_rendezvous.cc:426] Local rendezvous recv item cancelled. Key hash: 8077168388745060453\n",
            "2025-04-23 16:49:38.421657: I tensorflow/core/framework/local_rendezvous.cc:426] Local rendezvous recv item cancelled. Key hash: 15894728674144306112\n",
            "2025-04-23 16:49:38.421659: I tensorflow/core/framework/local_rendezvous.cc:426] Local rendezvous recv item cancelled. Key hash: 6475063507634618361\n",
            "2025-04-23 16:49:38.421661: I tensorflow/core/framework/local_rendezvous.cc:426] Local rendezvous recv item cancelled. Key hash: 5909436340715915176\n",
            "2025-04-23 16:49:38.421663: I tensorflow/core/framework/local_rendezvous.cc:426] Local rendezvous recv item cancelled. Key hash: 2284057628064857421\n",
            "2025-04-23 16:49:38.421665: I tensorflow/core/framework/local_rendezvous.cc:426] Local rendezvous recv item cancelled. Key hash: 15837215331699149312\n",
            "2025-04-23 16:49:38.421667: I tensorflow/core/framework/local_rendezvous.cc:426] Local rendezvous recv item cancelled. Key hash: 1629491765799871869\n",
            "2025-04-23 16:49:38.421669: I tensorflow/core/framework/local_rendezvous.cc:426] Local rendezvous recv item cancelled. Key hash: 17823122615755508660\n",
            "2025-04-23 16:49:38.421672: I tensorflow/core/framework/local_rendezvous.cc:426] Local rendezvous recv item cancelled. Key hash: 11258190512633644997\n",
            "2025-04-23 16:49:38.421673: I tensorflow/core/framework/local_rendezvous.cc:426] Local rendezvous recv item cancelled. Key hash: 12787404794116181240\n",
            "2025-04-23 16:49:38.421676: I tensorflow/core/framework/local_rendezvous.cc:426] Local rendezvous recv item cancelled. Key hash: 8158016698962715317\n",
            "2025-04-23 16:49:38.421680: I tensorflow/core/framework/local_rendezvous.cc:426] Local rendezvous recv item cancelled. Key hash: 6734363406224935299\n",
            "2025-04-23 16:49:38.421682: I tensorflow/core/framework/local_rendezvous.cc:426] Local rendezvous recv item cancelled. Key hash: 10427378802699405972\n",
            "2025-04-23 16:49:38.421684: I tensorflow/core/framework/local_rendezvous.cc:426] Local rendezvous recv item cancelled. Key hash: 9442524955709319741\n",
            "2025-04-23 16:49:38.421686: I tensorflow/core/framework/local_rendezvous.cc:426] Local rendezvous recv item cancelled. Key hash: 13119647137628393426\n",
            "2025-04-23 16:49:38.421688: I tensorflow/core/framework/local_rendezvous.cc:426] Local rendezvous recv item cancelled. Key hash: 10273744365220047513\n",
            "2025-04-23 16:49:38.421690: I tensorflow/core/framework/local_rendezvous.cc:426] Local rendezvous recv item cancelled. Key hash: 11353848791523758074\n",
            "2025-04-23 16:49:38.421692: I tensorflow/core/framework/local_rendezvous.cc:426] Local rendezvous recv item cancelled. Key hash: 9450689871647026237\n",
            "2025-04-23 16:49:38.421694: I tensorflow/core/framework/local_rendezvous.cc:426] Local rendezvous recv item cancelled. Key hash: 11264067761160049662\n",
            "2025-04-23 16:49:38.421696: I tensorflow/core/framework/local_rendezvous.cc:426] Local rendezvous recv item cancelled. Key hash: 16461033291469312855\n",
            "2025-04-23 16:49:38.421698: I tensorflow/core/framework/local_rendezvous.cc:426] Local rendezvous recv item cancelled. Key hash: 7789717365363135284\n",
            "2025-04-23 16:49:38.421699: I tensorflow/core/framework/local_rendezvous.cc:426] Local rendezvous recv item cancelled. Key hash: 6369895286532551979\n",
            "2025-04-23 16:49:38.421702: I tensorflow/core/framework/local_rendezvous.cc:426] Local rendezvous recv item cancelled. Key hash: 2325744772278228708\n",
            "2025-04-23 16:49:38.421704: I tensorflow/core/framework/local_rendezvous.cc:426] Local rendezvous recv item cancelled. Key hash: 13660521204358813195\n",
            "2025-04-23 16:49:38.421706: I tensorflow/core/framework/local_rendezvous.cc:426] Local rendezvous recv item cancelled. Key hash: 13453454556487589660\n",
            "2025-04-23 16:49:38.421707: I tensorflow/core/framework/local_rendezvous.cc:426] Local rendezvous recv item cancelled. Key hash: 13186826181073458921\n",
            "2025-04-23 16:49:38.421709: I tensorflow/core/framework/local_rendezvous.cc:426] Local rendezvous recv item cancelled. Key hash: 3021968092726501374\n",
            "2025-04-23 16:49:38.421711: I tensorflow/core/framework/local_rendezvous.cc:426] Local rendezvous recv item cancelled. Key hash: 5908876780261865823\n",
            "2025-04-23 16:49:38.421713: I tensorflow/core/framework/local_rendezvous.cc:426] Local rendezvous recv item cancelled. Key hash: 2143570844493079194\n",
            "2025-04-23 16:49:38.421715: I tensorflow/core/framework/local_rendezvous.cc:426] Local rendezvous recv item cancelled. Key hash: 12209150014450351249\n",
            "2025-04-23 16:49:38.421717: I tensorflow/core/framework/local_rendezvous.cc:426] Local rendezvous recv item cancelled. Key hash: 1316756286958806148\n",
            "2025-04-23 16:49:38.421719: I tensorflow/core/framework/local_rendezvous.cc:426] Local rendezvous recv item cancelled. Key hash: 1224763049518226767\n",
            "2025-04-23 16:49:38.421722: I tensorflow/core/framework/local_rendezvous.cc:426] Local rendezvous recv item cancelled. Key hash: 16697507669052727009\n",
            "2025-04-23 16:49:38.421725: I tensorflow/core/framework/local_rendezvous.cc:426] Local rendezvous recv item cancelled. Key hash: 15806429282266570746\n",
            "2025-04-23 16:49:38.421730: I tensorflow/core/framework/local_rendezvous.cc:426] Local rendezvous recv item cancelled. Key hash: 15698429944618493792\n",
            "2025-04-23 16:49:38.421731: I tensorflow/core/framework/local_rendezvous.cc:426] Local rendezvous recv item cancelled. Key hash: 6993587253166710543\n",
            "2025-04-23 16:49:38.421740: I tensorflow/core/framework/local_rendezvous.cc:426] Local rendezvous recv item cancelled. Key hash: 11338226789238975002\n",
            "2025-04-23 16:49:38.421745: I tensorflow/core/framework/local_rendezvous.cc:426] Local rendezvous recv item cancelled. Key hash: 2942214780824989380\n",
            "2025-04-23 16:49:38.421748: I tensorflow/core/framework/local_rendezvous.cc:426] Local rendezvous recv item cancelled. Key hash: 2191002296433700464\n",
            "2025-04-23 16:49:38.421752: I tensorflow/core/framework/local_rendezvous.cc:426] Local rendezvous recv item cancelled. Key hash: 15562167495790882934\n",
            "2025-04-23 16:49:38.421755: I tensorflow/core/framework/local_rendezvous.cc:426] Local rendezvous recv item cancelled. Key hash: 1196045291940638986\n",
            "2025-04-23 16:49:38.421759: I tensorflow/core/framework/local_rendezvous.cc:426] Local rendezvous recv item cancelled. Key hash: 13530406318931947506\n",
            "2025-04-23 16:49:38.421762: I tensorflow/core/framework/local_rendezvous.cc:426] Local rendezvous recv item cancelled. Key hash: 663403020555711538\n",
            "2025-04-23 16:49:38.421765: I tensorflow/core/framework/local_rendezvous.cc:426] Local rendezvous recv item cancelled. Key hash: 16544353310570853872\n",
            "2025-04-23 16:49:38.421769: I tensorflow/core/framework/local_rendezvous.cc:426] Local rendezvous recv item cancelled. Key hash: 7195450219371558428\n",
            "2025-04-23 16:49:38.421772: I tensorflow/core/framework/local_rendezvous.cc:426] Local rendezvous recv item cancelled. Key hash: 4162038170072069616\n",
            "2025-04-23 16:49:38.421775: I tensorflow/core/framework/local_rendezvous.cc:426] Local rendezvous recv item cancelled. Key hash: 6236131304215067218\n",
            "2025-04-23 16:49:38.421778: I tensorflow/core/framework/local_rendezvous.cc:426] Local rendezvous recv item cancelled. Key hash: 6694520215818764008\n"
          ]
        },
        {
          "name": "stdout",
          "output_type": "stream",
          "text": [
            "\u001b[1m 4/53\u001b[0m \u001b[32m━\u001b[0m\u001b[37m━━━━━━━━━━━━━━━━━━━\u001b[0m \u001b[1m10:44\u001b[0m 13s/step - accuracy: 0.0000e+00 - loss: 0.0000e+00"
          ]
        },
        {
          "name": "stderr",
          "output_type": "stream",
          "text": [
            "OpenCV: Couldn't read video stream from file \"/Users/blag/Documents/UChicago MS/2025 Spring/Computer Vision with DL/LipReading_CV/data/video1/of/1114.mp4\"\n"
          ]
        },
        {
          "name": "stdout",
          "output_type": "stream",
          "text": [
            " Could not read frame in video: /Users/blag/Documents/UChicago MS/2025 Spring/Computer Vision with DL/LipReading_CV/data/video1/of/1114.mp4\n",
            " Skipping video: /Users/blag/Documents/UChicago MS/2025 Spring/Computer Vision with DL/LipReading_CV/data/video1/of/1114.mp4 (Invalid or too few frames)\n",
            "\u001b[1m14/53\u001b[0m \u001b[32m━━━━━\u001b[0m\u001b[37m━━━━━━━━━━━━━━━\u001b[0m \u001b[1m8:38\u001b[0m 13s/step - accuracy: 0.0018 - loss: 0.0096 Could not read frame in video: /Users/blag/Documents/UChicago MS/2025 Spring/Computer Vision with DL/LipReading_CV/data/video1/an/209.mp4\n",
            " Skipping video: /Users/blag/Documents/UChicago MS/2025 Spring/Computer Vision with DL/LipReading_CV/data/video1/an/209.mp4 (Invalid or too few frames)\n"
          ]
        },
        {
          "name": "stderr",
          "output_type": "stream",
          "text": [
            "OpenCV: Couldn't read video stream from file \"/Users/blag/Documents/UChicago MS/2025 Spring/Computer Vision with DL/LipReading_CV/data/video1/an/209.mp4\"\n"
          ]
        },
        {
          "name": "stdout",
          "output_type": "stream",
          "text": [
            "\u001b[1m15/53\u001b[0m \u001b[32m━━━━━\u001b[0m\u001b[37m━━━━━━━━━━━━━━━\u001b[0m \u001b[1m8:24\u001b[0m 13s/step - accuracy: 0.0019 - loss: 0.0102"
          ]
        },
        {
          "name": "stderr",
          "output_type": "stream",
          "text": [
            "OpenCV: Couldn't read video stream from file \"/Users/blag/Documents/UChicago MS/2025 Spring/Computer Vision with DL/LipReading_CV/data/video1/if/766.mp4\"\n",
            "OpenCV: Couldn't read video stream from file \"/Users/blag/Documents/UChicago MS/2025 Spring/Computer Vision with DL/LipReading_CV/data/video1/of/810.mp4\"\n"
          ]
        },
        {
          "name": "stdout",
          "output_type": "stream",
          "text": [
            " Could not read frame in video: /Users/blag/Documents/UChicago MS/2025 Spring/Computer Vision with DL/LipReading_CV/data/video1/if/766.mp4\n",
            " Skipping video: /Users/blag/Documents/UChicago MS/2025 Spring/Computer Vision with DL/LipReading_CV/data/video1/if/766.mp4 (Invalid or too few frames)\n",
            " Could not read frame in video: /Users/blag/Documents/UChicago MS/2025 Spring/Computer Vision with DL/LipReading_CV/data/video1/of/810.mp4\n",
            " Skipping video: /Users/blag/Documents/UChicago MS/2025 Spring/Computer Vision with DL/LipReading_CV/data/video1/of/810.mp4 (Invalid or too few frames)\n"
          ]
        },
        {
          "name": "stderr",
          "output_type": "stream",
          "text": [
            "OpenCV: Couldn't read video stream from file \"/Users/blag/Documents/UChicago MS/2025 Spring/Computer Vision with DL/LipReading_CV/data/video1/to/1181.mp4\"\n"
          ]
        },
        {
          "name": "stdout",
          "output_type": "stream",
          "text": [
            " Could not read frame in video: /Users/blag/Documents/UChicago MS/2025 Spring/Computer Vision with DL/LipReading_CV/data/video1/to/1181.mp4\n",
            " Skipping video: /Users/blag/Documents/UChicago MS/2025 Spring/Computer Vision with DL/LipReading_CV/data/video1/to/1181.mp4 (Invalid or too few frames)\n",
            "\u001b[1m16/53\u001b[0m \u001b[32m━━━━━━\u001b[0m\u001b[37m━━━━━━━━━━━━━━\u001b[0m \u001b[1m8:11\u001b[0m 13s/step - accuracy: 0.0021 - loss: 0.0107 Could not read frame in video: /Users/blag/Documents/UChicago MS/2025 Spring/Computer Vision with DL/LipReading_CV/data/video1/we/1452.mp4\n",
            " Skipping video: /Users/blag/Documents/UChicago MS/2025 Spring/Computer Vision with DL/LipReading_CV/data/video1/we/1452.mp4 (Invalid or too few frames)\n"
          ]
        },
        {
          "name": "stderr",
          "output_type": "stream",
          "text": [
            "OpenCV: Couldn't read video stream from file \"/Users/blag/Documents/UChicago MS/2025 Spring/Computer Vision with DL/LipReading_CV/data/video1/we/1452.mp4\"\n"
          ]
        },
        {
          "name": "stdout",
          "output_type": "stream",
          "text": [
            "\u001b[1m17/53\u001b[0m \u001b[32m━━━━━━\u001b[0m\u001b[37m━━━━━━━━━━━━━━\u001b[0m \u001b[1m7:58\u001b[0m 13s/step - accuracy: 0.0022 - loss: 0.0110"
          ]
        },
        {
          "name": "stderr",
          "output_type": "stream",
          "text": [
            "OpenCV: Couldn't read video stream from file \"/Users/blag/Documents/UChicago MS/2025 Spring/Computer Vision with DL/LipReading_CV/data/video1/i/1251.mp4\"\n"
          ]
        },
        {
          "name": "stdout",
          "output_type": "stream",
          "text": [
            " Could not read frame in video: /Users/blag/Documents/UChicago MS/2025 Spring/Computer Vision with DL/LipReading_CV/data/video1/i/1251.mp4\n",
            " Skipping video: /Users/blag/Documents/UChicago MS/2025 Spring/Computer Vision with DL/LipReading_CV/data/video1/i/1251.mp4 (Invalid or too few frames)\n",
            "\u001b[1m18/53\u001b[0m \u001b[32m━━━━━━\u001b[0m\u001b[37m━━━━━━━━━━━━━━\u001b[0m \u001b[1m7:45\u001b[0m 13s/step - accuracy: 0.0022 - loss: 0.0117"
          ]
        },
        {
          "name": "stderr",
          "output_type": "stream",
          "text": [
            "OpenCV: Couldn't read video stream from file \"/Users/blag/Documents/UChicago MS/2025 Spring/Computer Vision with DL/LipReading_CV/data/video1/of/1441.mp4\"\n"
          ]
        },
        {
          "name": "stdout",
          "output_type": "stream",
          "text": [
            " Could not read frame in video: /Users/blag/Documents/UChicago MS/2025 Spring/Computer Vision with DL/LipReading_CV/data/video1/of/1441.mp4\n",
            " Skipping video: /Users/blag/Documents/UChicago MS/2025 Spring/Computer Vision with DL/LipReading_CV/data/video1/of/1441.mp4 (Invalid or too few frames)\n"
          ]
        },
        {
          "name": "stderr",
          "output_type": "stream",
          "text": [
            "OpenCV: Couldn't read video stream from file \"/Users/blag/Documents/UChicago MS/2025 Spring/Computer Vision with DL/LipReading_CV/data/video1/to/1370.mp4\"\n"
          ]
        },
        {
          "name": "stdout",
          "output_type": "stream",
          "text": [
            " Could not read frame in video: /Users/blag/Documents/UChicago MS/2025 Spring/Computer Vision with DL/LipReading_CV/data/video1/to/1370.mp4\n",
            " Skipping video: /Users/blag/Documents/UChicago MS/2025 Spring/Computer Vision with DL/LipReading_CV/data/video1/to/1370.mp4 (Invalid or too few frames)\n",
            "\u001b[1m20/53\u001b[0m \u001b[32m━━━━━━━\u001b[0m\u001b[37m━━━━━━━━━━━━━\u001b[0m \u001b[1m7:17\u001b[0m 13s/step - accuracy: 0.0025 - loss: 0.0131"
          ]
        },
        {
          "name": "stderr",
          "output_type": "stream",
          "text": [
            "OpenCV: Couldn't read video stream from file \"/Users/blag/Documents/UChicago MS/2025 Spring/Computer Vision with DL/LipReading_CV/data/video1/of/482.mp4\"\n"
          ]
        },
        {
          "name": "stdout",
          "output_type": "stream",
          "text": [
            " Could not read frame in video: /Users/blag/Documents/UChicago MS/2025 Spring/Computer Vision with DL/LipReading_CV/data/video1/of/482.mp4\n",
            " Skipping video: /Users/blag/Documents/UChicago MS/2025 Spring/Computer Vision with DL/LipReading_CV/data/video1/of/482.mp4 (Invalid or too few frames)\n"
          ]
        },
        {
          "name": "stderr",
          "output_type": "stream",
          "text": [
            "OpenCV: Couldn't read video stream from file \"/Users/blag/Documents/UChicago MS/2025 Spring/Computer Vision with DL/LipReading_CV/data/video1/at/934.mp4\"\n"
          ]
        },
        {
          "name": "stdout",
          "output_type": "stream",
          "text": [
            " Could not read frame in video: /Users/blag/Documents/UChicago MS/2025 Spring/Computer Vision with DL/LipReading_CV/data/video1/at/934.mp4\n",
            " Skipping video: /Users/blag/Documents/UChicago MS/2025 Spring/Computer Vision with DL/LipReading_CV/data/video1/at/934.mp4 (Invalid or too few frames)\n",
            "\u001b[1m21/53\u001b[0m \u001b[32m━━━━━━━\u001b[0m\u001b[37m━━━━━━━━━━━━━\u001b[0m \u001b[1m7:12\u001b[0m 14s/step - accuracy: 0.0027 - loss: 0.0137"
          ]
        },
        {
          "name": "stderr",
          "output_type": "stream",
          "text": [
            "OpenCV: Couldn't read video stream from file \"/Users/blag/Documents/UChicago MS/2025 Spring/Computer Vision with DL/LipReading_CV/data/video1/to/1414.mp4\"\n"
          ]
        },
        {
          "name": "stdout",
          "output_type": "stream",
          "text": [
            " Could not read frame in video: /Users/blag/Documents/UChicago MS/2025 Spring/Computer Vision with DL/LipReading_CV/data/video1/to/1414.mp4\n",
            " Skipping video: /Users/blag/Documents/UChicago MS/2025 Spring/Computer Vision with DL/LipReading_CV/data/video1/to/1414.mp4 (Invalid or too few frames)\n",
            "\u001b[1m23/53\u001b[0m \u001b[32m━━━━━━━━\u001b[0m\u001b[37m━━━━━━━━━━━━\u001b[0m \u001b[1m6:51\u001b[0m 14s/step - accuracy: 0.0030 - loss: 0.0149"
          ]
        },
        {
          "name": "stderr",
          "output_type": "stream",
          "text": [
            "OpenCV: Couldn't read video stream from file \"/Users/blag/Documents/UChicago MS/2025 Spring/Computer Vision with DL/LipReading_CV/data/video1/in/1717.mp4\"\n"
          ]
        },
        {
          "name": "stdout",
          "output_type": "stream",
          "text": [
            " Could not read frame in video: /Users/blag/Documents/UChicago MS/2025 Spring/Computer Vision with DL/LipReading_CV/data/video1/in/1717.mp4\n",
            " Skipping video: /Users/blag/Documents/UChicago MS/2025 Spring/Computer Vision with DL/LipReading_CV/data/video1/in/1717.mp4 (Invalid or too few frames)\n"
          ]
        },
        {
          "name": "stderr",
          "output_type": "stream",
          "text": [
            "OpenCV: Couldn't read video stream from file \"/Users/blag/Documents/UChicago MS/2025 Spring/Computer Vision with DL/LipReading_CV/data/video1/to/1164.mp4\"\n"
          ]
        },
        {
          "name": "stdout",
          "output_type": "stream",
          "text": [
            " Could not read frame in video: /Users/blag/Documents/UChicago MS/2025 Spring/Computer Vision with DL/LipReading_CV/data/video1/to/1164.mp4\n",
            " Skipping video: /Users/blag/Documents/UChicago MS/2025 Spring/Computer Vision with DL/LipReading_CV/data/video1/to/1164.mp4 (Invalid or too few frames)\n",
            "\u001b[1m24/53\u001b[0m \u001b[32m━━━━━━━━━\u001b[0m\u001b[37m━━━━━━━━━━━\u001b[0m \u001b[1m6:36\u001b[0m 14s/step - accuracy: 0.0032 - loss: 0.0154 Could not read frame in video: /Users/blag/Documents/UChicago MS/2025 Spring/Computer Vision with DL/LipReading_CV/data/video1/an/616.mp4\n",
            " Skipping video: /Users/blag/Documents/UChicago MS/2025 Spring/Computer Vision with DL/LipReading_CV/data/video1/an/616.mp4 (Invalid or too few frames)\n"
          ]
        },
        {
          "name": "stderr",
          "output_type": "stream",
          "text": [
            "OpenCV: Couldn't read video stream from file \"/Users/blag/Documents/UChicago MS/2025 Spring/Computer Vision with DL/LipReading_CV/data/video1/an/616.mp4\"\n",
            "OpenCV: Couldn't read video stream from file \"/Users/blag/Documents/UChicago MS/2025 Spring/Computer Vision with DL/LipReading_CV/data/video1/of/1122.mp4\"\n"
          ]
        },
        {
          "name": "stdout",
          "output_type": "stream",
          "text": [
            " Could not read frame in video: /Users/blag/Documents/UChicago MS/2025 Spring/Computer Vision with DL/LipReading_CV/data/video1/of/1122.mp4\n",
            " Skipping video: /Users/blag/Documents/UChicago MS/2025 Spring/Computer Vision with DL/LipReading_CV/data/video1/of/1122.mp4 (Invalid or too few frames)\n",
            "\u001b[1m25/53\u001b[0m \u001b[32m━━━━━━━━━\u001b[0m\u001b[37m━━━━━━━━━━━\u001b[0m \u001b[1m6:22\u001b[0m 14s/step - accuracy: 0.0033 - loss: 0.0157"
          ]
        },
        {
          "name": "stderr",
          "output_type": "stream",
          "text": [
            "OpenCV: Couldn't read video stream from file \"/Users/blag/Documents/UChicago MS/2025 Spring/Computer Vision with DL/LipReading_CV/data/video1/of/584.mp4\"\n"
          ]
        },
        {
          "name": "stdout",
          "output_type": "stream",
          "text": [
            " Could not read frame in video: /Users/blag/Documents/UChicago MS/2025 Spring/Computer Vision with DL/LipReading_CV/data/video1/of/584.mp4\n",
            " Skipping video: /Users/blag/Documents/UChicago MS/2025 Spring/Computer Vision with DL/LipReading_CV/data/video1/of/584.mp4 (Invalid or too few frames)\n",
            "\u001b[1m29/53\u001b[0m \u001b[32m━━━━━━━━━━\u001b[0m\u001b[37m━━━━━━━━━━\u001b[0m \u001b[1m5:28\u001b[0m 14s/step - accuracy: 0.0036 - loss: 0.0167"
          ]
        },
        {
          "name": "stderr",
          "output_type": "stream",
          "text": [
            "OpenCV: Couldn't read video stream from file \"/Users/blag/Documents/UChicago MS/2025 Spring/Computer Vision with DL/LipReading_CV/data/video1/of/1680.mp4\"\n"
          ]
        },
        {
          "name": "stdout",
          "output_type": "stream",
          "text": [
            " Could not read frame in video: /Users/blag/Documents/UChicago MS/2025 Spring/Computer Vision with DL/LipReading_CV/data/video1/of/1680.mp4\n",
            " Skipping video: /Users/blag/Documents/UChicago MS/2025 Spring/Computer Vision with DL/LipReading_CV/data/video1/of/1680.mp4 (Invalid or too few frames)\n",
            "\u001b[1m32/53\u001b[0m \u001b[32m━━━━━━━━━━━━\u001b[0m\u001b[37m━━━━━━━━\u001b[0m \u001b[1m4:45\u001b[0m 14s/step - accuracy: 0.0038 - loss: 0.0172"
          ]
        },
        {
          "name": "stderr",
          "output_type": "stream",
          "text": [
            "OpenCV: Couldn't read video stream from file \"/Users/blag/Documents/UChicago MS/2025 Spring/Computer Vision with DL/LipReading_CV/data/video1/in/751.mp4\"\n"
          ]
        },
        {
          "name": "stdout",
          "output_type": "stream",
          "text": [
            " Could not read frame in video: /Users/blag/Documents/UChicago MS/2025 Spring/Computer Vision with DL/LipReading_CV/data/video1/in/751.mp4\n",
            " Skipping video: /Users/blag/Documents/UChicago MS/2025 Spring/Computer Vision with DL/LipReading_CV/data/video1/in/751.mp4 (Invalid or too few frames)\n",
            "\u001b[1m33/53\u001b[0m \u001b[32m━━━━━━━━━━━━\u001b[0m\u001b[37m━━━━━━━━\u001b[0m \u001b[1m4:31\u001b[0m 14s/step - accuracy: 0.0038 - loss: 0.0173"
          ]
        },
        {
          "name": "stderr",
          "output_type": "stream",
          "text": [
            "OpenCV: Couldn't read video stream from file \"/Users/blag/Documents/UChicago MS/2025 Spring/Computer Vision with DL/LipReading_CV/data/video1/to/1568.mp4\"\n"
          ]
        },
        {
          "name": "stdout",
          "output_type": "stream",
          "text": [
            " Could not read frame in video: /Users/blag/Documents/UChicago MS/2025 Spring/Computer Vision with DL/LipReading_CV/data/video1/to/1568.mp4\n",
            " Skipping video: /Users/blag/Documents/UChicago MS/2025 Spring/Computer Vision with DL/LipReading_CV/data/video1/to/1568.mp4 (Invalid or too few frames)\n",
            "\u001b[1m35/53\u001b[0m \u001b[32m━━━━━━━━━━━━━\u001b[0m\u001b[37m━━━━━━━\u001b[0m \u001b[1m4:03\u001b[0m 14s/step - accuracy: 0.0038 - loss: 0.0175"
          ]
        },
        {
          "name": "stderr",
          "output_type": "stream",
          "text": [
            "OpenCV: Couldn't read video stream from file \"/Users/blag/Documents/UChicago MS/2025 Spring/Computer Vision with DL/LipReading_CV/data/video1/of/681.mp4\"\n"
          ]
        },
        {
          "name": "stdout",
          "output_type": "stream",
          "text": [
            " Could not read frame in video: /Users/blag/Documents/UChicago MS/2025 Spring/Computer Vision with DL/LipReading_CV/data/video1/of/681.mp4\n",
            " Skipping video: /Users/blag/Documents/UChicago MS/2025 Spring/Computer Vision with DL/LipReading_CV/data/video1/of/681.mp4 (Invalid or too few frames)\n",
            "\u001b[1m38/53\u001b[0m \u001b[32m━━━━━━━━━━━━━━\u001b[0m\u001b[37m━━━━━━\u001b[0m \u001b[1m3:22\u001b[0m 13s/step - accuracy: 0.0039 - loss: 0.0177"
          ]
        },
        {
          "name": "stderr",
          "output_type": "stream",
          "text": [
            "OpenCV: Couldn't read video stream from file \"/Users/blag/Documents/UChicago MS/2025 Spring/Computer Vision with DL/LipReading_CV/data/video1/of/1145.mp4\"\n"
          ]
        },
        {
          "name": "stdout",
          "output_type": "stream",
          "text": [
            " Could not read frame in video: /Users/blag/Documents/UChicago MS/2025 Spring/Computer Vision with DL/LipReading_CV/data/video1/of/1145.mp4\n",
            " Skipping video: /Users/blag/Documents/UChicago MS/2025 Spring/Computer Vision with DL/LipReading_CV/data/video1/of/1145.mp4 (Invalid or too few frames)\n",
            "\u001b[1m41/53\u001b[0m \u001b[32m━━━━━━━━━━━━━━━\u001b[0m\u001b[37m━━━━━\u001b[0m \u001b[1m2:40\u001b[0m 13s/step - accuracy: 0.0040 - loss: 0.0179 Could not read frame in video: /Users/blag/Documents/UChicago MS/2025 Spring/Computer Vision with DL/LipReading_CV/data/video1/10/1283.mp4\n",
            " Skipping video: /Users/blag/Documents/UChicago MS/2025 Spring/Computer Vision with DL/LipReading_CV/data/video1/10/1283.mp4 (Invalid or too few frames)\n"
          ]
        },
        {
          "name": "stderr",
          "output_type": "stream",
          "text": [
            "OpenCV: Couldn't read video stream from file \"/Users/blag/Documents/UChicago MS/2025 Spring/Computer Vision with DL/LipReading_CV/data/video1/10/1283.mp4\"\n",
            "OpenCV: Couldn't read video stream from file \"/Users/blag/Documents/UChicago MS/2025 Spring/Computer Vision with DL/LipReading_CV/data/video1/of/1547.mp4\"\n"
          ]
        },
        {
          "name": "stdout",
          "output_type": "stream",
          "text": [
            " Could not read frame in video: /Users/blag/Documents/UChicago MS/2025 Spring/Computer Vision with DL/LipReading_CV/data/video1/of/1547.mp4\n",
            " Skipping video: /Users/blag/Documents/UChicago MS/2025 Spring/Computer Vision with DL/LipReading_CV/data/video1/of/1547.mp4 (Invalid or too few frames)\n",
            "\u001b[1m42/53\u001b[0m \u001b[32m━━━━━━━━━━━━━━━\u001b[0m\u001b[37m━━━━━\u001b[0m \u001b[1m2:27\u001b[0m 13s/step - accuracy: 0.0040 - loss: 0.0180"
          ]
        },
        {
          "name": "stderr",
          "output_type": "stream",
          "text": [
            "OpenCV: Couldn't read video stream from file \"/Users/blag/Documents/UChicago MS/2025 Spring/Computer Vision with DL/LipReading_CV/data/video1/at/656.mp4\"\n"
          ]
        },
        {
          "name": "stdout",
          "output_type": "stream",
          "text": [
            " Could not read frame in video: /Users/blag/Documents/UChicago MS/2025 Spring/Computer Vision with DL/LipReading_CV/data/video1/at/656.mp4\n",
            " Skipping video: /Users/blag/Documents/UChicago MS/2025 Spring/Computer Vision with DL/LipReading_CV/data/video1/at/656.mp4 (Invalid or too few frames)\n"
          ]
        },
        {
          "name": "stderr",
          "output_type": "stream",
          "text": [
            "OpenCV: Couldn't read video stream from file \"/Users/blag/Documents/UChicago MS/2025 Spring/Computer Vision with DL/LipReading_CV/data/video1/of/802.mp4\"\n"
          ]
        },
        {
          "name": "stdout",
          "output_type": "stream",
          "text": [
            " Could not read frame in video: /Users/blag/Documents/UChicago MS/2025 Spring/Computer Vision with DL/LipReading_CV/data/video1/of/802.mp4\n",
            " Skipping video: /Users/blag/Documents/UChicago MS/2025 Spring/Computer Vision with DL/LipReading_CV/data/video1/of/802.mp4 (Invalid or too few frames)\n",
            "\u001b[1m44/53\u001b[0m \u001b[32m━━━━━━━━━━━━━━━━\u001b[0m\u001b[37m━━━━\u001b[0m \u001b[1m2:00\u001b[0m 13s/step - accuracy: 0.0041 - loss: 0.0182 Could not read frame in video: /Users/blag/Documents/UChicago MS/2025 Spring/Computer Vision with DL/LipReading_CV/data/video1/of/474.mp4\n",
            " Skipping video: /Users/blag/Documents/UChicago MS/2025 Spring/Computer Vision with DL/LipReading_CV/data/video1/of/474.mp4 (Invalid or too few frames)\n"
          ]
        },
        {
          "name": "stderr",
          "output_type": "stream",
          "text": [
            "OpenCV: Couldn't read video stream from file \"/Users/blag/Documents/UChicago MS/2025 Spring/Computer Vision with DL/LipReading_CV/data/video1/of/474.mp4\"\n",
            "OpenCV: Couldn't read video stream from file \"/Users/blag/Documents/UChicago MS/2025 Spring/Computer Vision with DL/LipReading_CV/data/video1/of/960.mp4\"\n"
          ]
        },
        {
          "name": "stdout",
          "output_type": "stream",
          "text": [
            " Could not read frame in video: /Users/blag/Documents/UChicago MS/2025 Spring/Computer Vision with DL/LipReading_CV/data/video1/of/960.mp4\n",
            " Skipping video: /Users/blag/Documents/UChicago MS/2025 Spring/Computer Vision with DL/LipReading_CV/data/video1/of/960.mp4 (Invalid or too few frames)\n",
            "\u001b[1m45/53\u001b[0m \u001b[32m━━━━━━━━━━━━━━━━\u001b[0m\u001b[37m━━━━\u001b[0m \u001b[1m1:46\u001b[0m 13s/step - accuracy: 0.0042 - loss: 0.0183"
          ]
        },
        {
          "name": "stderr",
          "output_type": "stream",
          "text": [
            "OpenCV: Couldn't read video stream from file \"/Users/blag/Documents/UChicago MS/2025 Spring/Computer Vision with DL/LipReading_CV/data/video1/of/300.mp4\"\n"
          ]
        },
        {
          "name": "stdout",
          "output_type": "stream",
          "text": [
            " Could not read frame in video: /Users/blag/Documents/UChicago MS/2025 Spring/Computer Vision with DL/LipReading_CV/data/video1/of/300.mp4\n",
            " Skipping video: /Users/blag/Documents/UChicago MS/2025 Spring/Computer Vision with DL/LipReading_CV/data/video1/of/300.mp4 (Invalid or too few frames)\n"
          ]
        },
        {
          "name": "stderr",
          "output_type": "stream",
          "text": [
            "OpenCV: Couldn't read video stream from file \"/Users/blag/Documents/UChicago MS/2025 Spring/Computer Vision with DL/LipReading_CV/data/video1/or/1177.mp4\"\n"
          ]
        },
        {
          "name": "stdout",
          "output_type": "stream",
          "text": [
            " Could not read frame in video: /Users/blag/Documents/UChicago MS/2025 Spring/Computer Vision with DL/LipReading_CV/data/video1/or/1177.mp4\n",
            " Skipping video: /Users/blag/Documents/UChicago MS/2025 Spring/Computer Vision with DL/LipReading_CV/data/video1/or/1177.mp4 (Invalid or too few frames)\n",
            "\u001b[1m48/53\u001b[0m \u001b[32m━━━━━━━━━━━━━━━━━━\u001b[0m\u001b[37m━━\u001b[0m \u001b[1m1:06\u001b[0m 13s/step - accuracy: 0.0043 - loss: 0.0185"
          ]
        },
        {
          "name": "stderr",
          "output_type": "stream",
          "text": [
            "OpenCV: Couldn't read video stream from file \"/Users/blag/Documents/UChicago MS/2025 Spring/Computer Vision with DL/LipReading_CV/data/video1/an/686.mp4\"\n",
            "OpenCV: Couldn't read video stream from file \"/Users/blag/Documents/UChicago MS/2025 Spring/Computer Vision with DL/LipReading_CV/data/video1/it/873.mp4\"\n"
          ]
        },
        {
          "name": "stdout",
          "output_type": "stream",
          "text": [
            " Could not read frame in video: /Users/blag/Documents/UChicago MS/2025 Spring/Computer Vision with DL/LipReading_CV/data/video1/an/686.mp4\n",
            " Skipping video: /Users/blag/Documents/UChicago MS/2025 Spring/Computer Vision with DL/LipReading_CV/data/video1/an/686.mp4 (Invalid or too few frames)\n",
            " Could not read frame in video: /Users/blag/Documents/UChicago MS/2025 Spring/Computer Vision with DL/LipReading_CV/data/video1/it/873.mp4\n",
            " Skipping video: /Users/blag/Documents/UChicago MS/2025 Spring/Computer Vision with DL/LipReading_CV/data/video1/it/873.mp4 (Invalid or too few frames)\n",
            "\u001b[1m49/53\u001b[0m \u001b[32m━━━━━━━━━━━━━━━━━━\u001b[0m\u001b[37m━━\u001b[0m \u001b[1m53s\u001b[0m 13s/step - accuracy: 0.0043 - loss: 0.0185  Could not read frame in video: /Users/blag/Documents/UChicago MS/2025 Spring/Computer Vision with DL/LipReading_CV/data/video1/of/770.mp4\n",
            " Skipping video: /Users/blag/Documents/UChicago MS/2025 Spring/Computer Vision with DL/LipReading_CV/data/video1/of/770.mp4 (Invalid or too few frames)\n"
          ]
        },
        {
          "name": "stderr",
          "output_type": "stream",
          "text": [
            "OpenCV: Couldn't read video stream from file \"/Users/blag/Documents/UChicago MS/2025 Spring/Computer Vision with DL/LipReading_CV/data/video1/of/770.mp4\"\n"
          ]
        },
        {
          "name": "stdout",
          "output_type": "stream",
          "text": [
            "\u001b[1m53/53\u001b[0m \u001b[32m━━━━━━━━━━━━━━━━━━━━\u001b[0m\u001b[37m\u001b[0m \u001b[1m0s\u001b[0m 13s/step - accuracy: 0.0044 - loss: 0.0187 "
          ]
        },
        {
          "name": "stderr",
          "output_type": "stream",
          "text": [
            "2025-04-23 17:01:18.585526: I tensorflow/core/framework/local_rendezvous.cc:426] Local rendezvous recv item cancelled. Key hash: 15074135823805251711\n",
            "2025-04-23 17:01:18.586211: I tensorflow/core/framework/local_rendezvous.cc:426] Local rendezvous recv item cancelled. Key hash: 908130241843295061\n",
            "2025-04-23 17:01:18.586215: I tensorflow/core/framework/local_rendezvous.cc:426] Local rendezvous recv item cancelled. Key hash: 78023203423781927\n",
            "2025-04-23 17:01:18.586219: I tensorflow/core/framework/local_rendezvous.cc:426] Local rendezvous recv item cancelled. Key hash: 599918962782702325\n",
            "2025-04-23 17:01:18.586222: I tensorflow/core/framework/local_rendezvous.cc:426] Local rendezvous recv item cancelled. Key hash: 1062322482010786349\n",
            "2025-04-23 17:01:18.586225: I tensorflow/core/framework/local_rendezvous.cc:426] Local rendezvous recv item cancelled. Key hash: 14748901083748240351\n",
            "2025-04-23 17:01:18.586228: I tensorflow/core/framework/local_rendezvous.cc:426] Local rendezvous recv item cancelled. Key hash: 907480019941526997\n",
            "2025-04-23 17:01:18.586231: I tensorflow/core/framework/local_rendezvous.cc:426] Local rendezvous recv item cancelled. Key hash: 4105155351109045689\n",
            "2025-04-23 17:01:18.586234: I tensorflow/core/framework/local_rendezvous.cc:426] Local rendezvous recv item cancelled. Key hash: 18437500258684768021\n",
            "2025-04-23 17:01:18.586237: I tensorflow/core/framework/local_rendezvous.cc:426] Local rendezvous recv item cancelled. Key hash: 17649277961457504367\n",
            "2025-04-23 17:01:18.586240: I tensorflow/core/framework/local_rendezvous.cc:426] Local rendezvous recv item cancelled. Key hash: 17393392187340558843\n",
            "2025-04-23 17:01:18.586243: I tensorflow/core/framework/local_rendezvous.cc:426] Local rendezvous recv item cancelled. Key hash: 11842557655731474881\n",
            "2025-04-23 17:01:18.586246: I tensorflow/core/framework/local_rendezvous.cc:426] Local rendezvous recv item cancelled. Key hash: 5501206145640435773\n",
            "2025-04-23 17:01:18.586248: I tensorflow/core/framework/local_rendezvous.cc:426] Local rendezvous recv item cancelled. Key hash: 9389277929482490677\n",
            "2025-04-23 17:01:18.586251: I tensorflow/core/framework/local_rendezvous.cc:426] Local rendezvous recv item cancelled. Key hash: 14982293173335299645\n",
            "2025-04-23 17:01:18.586254: I tensorflow/core/framework/local_rendezvous.cc:426] Local rendezvous recv item cancelled. Key hash: 8451655409735440253\n",
            "2025-04-23 17:01:18.586257: I tensorflow/core/framework/local_rendezvous.cc:426] Local rendezvous recv item cancelled. Key hash: 10090737968491337755\n",
            "2025-04-23 17:01:18.586259: I tensorflow/core/framework/local_rendezvous.cc:426] Local rendezvous recv item cancelled. Key hash: 13667627586015402333\n",
            "2025-04-23 17:01:18.586262: I tensorflow/core/framework/local_rendezvous.cc:426] Local rendezvous recv item cancelled. Key hash: 16886382845718305373\n",
            "2025-04-23 17:01:18.586265: I tensorflow/core/framework/local_rendezvous.cc:426] Local rendezvous recv item cancelled. Key hash: 15166110427087182503\n",
            "2025-04-23 17:01:18.586268: I tensorflow/core/framework/local_rendezvous.cc:426] Local rendezvous recv item cancelled. Key hash: 7854370827521694853\n",
            "2025-04-23 17:01:18.586271: I tensorflow/core/framework/local_rendezvous.cc:426] Local rendezvous recv item cancelled. Key hash: 17553908431413910861\n",
            "2025-04-23 17:01:18.586274: I tensorflow/core/framework/local_rendezvous.cc:426] Local rendezvous recv item cancelled. Key hash: 17362571583599746665\n",
            "2025-04-23 17:01:18.586277: I tensorflow/core/framework/local_rendezvous.cc:426] Local rendezvous recv item cancelled. Key hash: 11227475328956242519\n",
            "2025-04-23 17:01:18.586280: I tensorflow/core/framework/local_rendezvous.cc:426] Local rendezvous recv item cancelled. Key hash: 16351729744614531717\n",
            "2025-04-23 17:01:18.586283: I tensorflow/core/framework/local_rendezvous.cc:426] Local rendezvous recv item cancelled. Key hash: 17945570920568071321\n",
            "2025-04-23 17:01:18.586285: I tensorflow/core/framework/local_rendezvous.cc:426] Local rendezvous recv item cancelled. Key hash: 4253215292999607999\n",
            "2025-04-23 17:01:18.586288: I tensorflow/core/framework/local_rendezvous.cc:426] Local rendezvous recv item cancelled. Key hash: 4036468366415964109\n",
            "2025-04-23 17:01:18.586291: I tensorflow/core/framework/local_rendezvous.cc:426] Local rendezvous recv item cancelled. Key hash: 6310549749788059649\n",
            "2025-04-23 17:01:18.586294: I tensorflow/core/framework/local_rendezvous.cc:426] Local rendezvous recv item cancelled. Key hash: 9383112737514990573\n",
            "2025-04-23 17:01:18.586297: I tensorflow/core/framework/local_rendezvous.cc:426] Local rendezvous recv item cancelled. Key hash: 11799702221180644549\n",
            "2025-04-23 17:01:18.586299: I tensorflow/core/framework/local_rendezvous.cc:426] Local rendezvous recv item cancelled. Key hash: 6448314559660764337\n",
            "2025-04-23 17:01:18.586302: I tensorflow/core/framework/local_rendezvous.cc:426] Local rendezvous recv item cancelled. Key hash: 14194875575937871423\n",
            "2025-04-23 17:01:18.586305: I tensorflow/core/framework/local_rendezvous.cc:426] Local rendezvous recv item cancelled. Key hash: 13389649880367050857\n",
            "2025-04-23 17:01:18.586308: I tensorflow/core/framework/local_rendezvous.cc:426] Local rendezvous recv item cancelled. Key hash: 4503282526082052521\n",
            "2025-04-23 17:01:18.586311: I tensorflow/core/framework/local_rendezvous.cc:426] Local rendezvous recv item cancelled. Key hash: 4551425261408629641\n",
            "2025-04-23 17:01:18.586313: I tensorflow/core/framework/local_rendezvous.cc:426] Local rendezvous recv item cancelled. Key hash: 6598063386170569547\n",
            "2025-04-23 17:01:18.586316: I tensorflow/core/framework/local_rendezvous.cc:426] Local rendezvous recv item cancelled. Key hash: 6169905678406530443\n",
            "2025-04-23 17:01:18.586319: I tensorflow/core/framework/local_rendezvous.cc:426] Local rendezvous recv item cancelled. Key hash: 11419134934378756037\n",
            "2025-04-23 17:01:18.586322: I tensorflow/core/framework/local_rendezvous.cc:426] Local rendezvous recv item cancelled. Key hash: 12652455647036979853\n",
            "2025-04-23 17:01:18.586325: I tensorflow/core/framework/local_rendezvous.cc:426] Local rendezvous recv item cancelled. Key hash: 8130601984674642905\n",
            "2025-04-23 17:01:18.586328: I tensorflow/core/framework/local_rendezvous.cc:426] Local rendezvous recv item cancelled. Key hash: 15357279611670641411\n",
            "2025-04-23 17:01:18.586331: I tensorflow/core/framework/local_rendezvous.cc:426] Local rendezvous recv item cancelled. Key hash: 10624089953968799827\n",
            "2025-04-23 17:01:18.586334: I tensorflow/core/framework/local_rendezvous.cc:426] Local rendezvous recv item cancelled. Key hash: 9886229666171207959\n",
            "2025-04-23 17:01:18.586337: I tensorflow/core/framework/local_rendezvous.cc:426] Local rendezvous recv item cancelled. Key hash: 1849457317463475967\n",
            "2025-04-23 17:01:18.586340: I tensorflow/core/framework/local_rendezvous.cc:426] Local rendezvous recv item cancelled. Key hash: 11986686363649459897\n",
            "2025-04-23 17:01:18.586342: I tensorflow/core/framework/local_rendezvous.cc:426] Local rendezvous recv item cancelled. Key hash: 5995528749034260515\n",
            "2025-04-23 17:01:18.586345: I tensorflow/core/framework/local_rendezvous.cc:426] Local rendezvous recv item cancelled. Key hash: 3002081712182282647\n",
            "2025-04-23 17:01:18.586348: I tensorflow/core/framework/local_rendezvous.cc:426] Local rendezvous recv item cancelled. Key hash: 18071835266380876357\n",
            "2025-04-23 17:01:18.586351: I tensorflow/core/framework/local_rendezvous.cc:426] Local rendezvous recv item cancelled. Key hash: 12730944166418402769\n",
            "2025-04-23 17:01:18.586354: I tensorflow/core/framework/local_rendezvous.cc:426] Local rendezvous recv item cancelled. Key hash: 4769188136258064109\n",
            "2025-04-23 17:01:18.586356: I tensorflow/core/framework/local_rendezvous.cc:426] Local rendezvous recv item cancelled. Key hash: 16383813110419247641\n",
            "2025-04-23 17:01:18.586359: I tensorflow/core/framework/local_rendezvous.cc:426] Local rendezvous recv item cancelled. Key hash: 9676757329833252105\n",
            "2025-04-23 17:01:18.586362: I tensorflow/core/framework/local_rendezvous.cc:426] Local rendezvous recv item cancelled. Key hash: 12643076139924346793\n",
            "2025-04-23 17:01:18.586365: I tensorflow/core/framework/local_rendezvous.cc:426] Local rendezvous recv item cancelled. Key hash: 10786398192406714801\n",
            "2025-04-23 17:01:18.586367: I tensorflow/core/framework/local_rendezvous.cc:426] Local rendezvous recv item cancelled. Key hash: 17404555501908089421\n",
            "2025-04-23 17:01:18.586370: I tensorflow/core/framework/local_rendezvous.cc:426] Local rendezvous recv item cancelled. Key hash: 10888103091883236589\n",
            "2025-04-23 17:01:18.586373: I tensorflow/core/framework/local_rendezvous.cc:426] Local rendezvous recv item cancelled. Key hash: 8646176279871380533\n",
            "2025-04-23 17:01:18.586376: I tensorflow/core/framework/local_rendezvous.cc:426] Local rendezvous recv item cancelled. Key hash: 13205844460649996235\n",
            "2025-04-23 17:01:18.586380: I tensorflow/core/framework/local_rendezvous.cc:426] Local rendezvous recv item cancelled. Key hash: 16911232040989909153\n",
            "2025-04-23 17:01:18.586382: I tensorflow/core/framework/local_rendezvous.cc:430] Local rendezvous send item cancelled. Key hash: 17944350509574610929\n",
            "2025-04-23 17:01:18.586384: I tensorflow/core/framework/local_rendezvous.cc:426] Local rendezvous recv item cancelled. Key hash: 706907256218346617\n",
            "2025-04-23 17:01:18.586387: I tensorflow/core/framework/local_rendezvous.cc:426] Local rendezvous recv item cancelled. Key hash: 6435981496259208523\n",
            "2025-04-23 17:01:18.586390: I tensorflow/core/framework/local_rendezvous.cc:426] Local rendezvous recv item cancelled. Key hash: 12203979699196290423\n",
            "2025-04-23 17:01:18.586393: I tensorflow/core/framework/local_rendezvous.cc:426] Local rendezvous recv item cancelled. Key hash: 14319064057464973185\n",
            "2025-04-23 17:01:18.586396: I tensorflow/core/framework/local_rendezvous.cc:426] Local rendezvous recv item cancelled. Key hash: 12335632925512262941\n",
            "2025-04-23 17:01:18.586399: I tensorflow/core/framework/local_rendezvous.cc:426] Local rendezvous recv item cancelled. Key hash: 1871908141629925051\n",
            "2025-04-23 17:01:18.586402: I tensorflow/core/framework/local_rendezvous.cc:426] Local rendezvous recv item cancelled. Key hash: 12416901827719292353\n",
            "2025-04-23 17:01:18.586405: I tensorflow/core/framework/local_rendezvous.cc:426] Local rendezvous recv item cancelled. Key hash: 6768297732211371469\n",
            "2025-04-23 17:01:18.586407: I tensorflow/core/framework/local_rendezvous.cc:426] Local rendezvous recv item cancelled. Key hash: 762964585167875803\n",
            "2025-04-23 17:01:18.586410: I tensorflow/core/framework/local_rendezvous.cc:426] Local rendezvous recv item cancelled. Key hash: 9381458255724179245\n",
            "2025-04-23 17:01:18.586413: I tensorflow/core/framework/local_rendezvous.cc:426] Local rendezvous recv item cancelled. Key hash: 2903102615807357177\n",
            "2025-04-23 17:01:18.586416: I tensorflow/core/framework/local_rendezvous.cc:426] Local rendezvous recv item cancelled. Key hash: 4467965843429683657\n",
            "2025-04-23 17:01:18.586419: I tensorflow/core/framework/local_rendezvous.cc:426] Local rendezvous recv item cancelled. Key hash: 13693018145260270027\n",
            "2025-04-23 17:01:18.586422: I tensorflow/core/framework/local_rendezvous.cc:426] Local rendezvous recv item cancelled. Key hash: 5427008857558775409\n",
            "2025-04-23 17:01:18.586424: I tensorflow/core/framework/local_rendezvous.cc:426] Local rendezvous recv item cancelled. Key hash: 11764776064065042185\n",
            "2025-04-23 17:01:18.586427: I tensorflow/core/framework/local_rendezvous.cc:426] Local rendezvous recv item cancelled. Key hash: 10791491185518213253\n",
            "2025-04-23 17:01:18.586430: I tensorflow/core/framework/local_rendezvous.cc:426] Local rendezvous recv item cancelled. Key hash: 17010576670154586125\n",
            "2025-04-23 17:01:18.586433: I tensorflow/core/framework/local_rendezvous.cc:426] Local rendezvous recv item cancelled. Key hash: 1822963302553778287\n",
            "2025-04-23 17:01:18.586435: I tensorflow/core/framework/local_rendezvous.cc:430] Local rendezvous send item cancelled. Key hash: 12956748017306860395\n",
            "2025-04-23 17:01:18.586437: I tensorflow/core/framework/local_rendezvous.cc:426] Local rendezvous recv item cancelled. Key hash: 10042448695935663899\n",
            "2025-04-23 17:01:18.586440: I tensorflow/core/framework/local_rendezvous.cc:426] Local rendezvous recv item cancelled. Key hash: 3550358191408119557\n",
            "2025-04-23 17:01:18.586443: I tensorflow/core/framework/local_rendezvous.cc:426] Local rendezvous recv item cancelled. Key hash: 14031342069630074765\n",
            "2025-04-23 17:01:18.586446: I tensorflow/core/framework/local_rendezvous.cc:426] Local rendezvous recv item cancelled. Key hash: 10425510585324438025\n",
            "2025-04-23 17:01:18.586449: I tensorflow/core/framework/local_rendezvous.cc:426] Local rendezvous recv item cancelled. Key hash: 8447890447620343067\n",
            "2025-04-23 17:01:18.586451: I tensorflow/core/framework/local_rendezvous.cc:426] Local rendezvous recv item cancelled. Key hash: 10651167502388135445\n",
            "2025-04-23 17:01:18.586454: I tensorflow/core/framework/local_rendezvous.cc:426] Local rendezvous recv item cancelled. Key hash: 5571927490692351707\n",
            "2025-04-23 17:01:18.586457: I tensorflow/core/framework/local_rendezvous.cc:426] Local rendezvous recv item cancelled. Key hash: 10757640284025948389\n",
            "2025-04-23 17:01:18.586459: I tensorflow/core/framework/local_rendezvous.cc:426] Local rendezvous recv item cancelled. Key hash: 13365180363042684889\n",
            "2025-04-23 17:01:18.586462: I tensorflow/core/framework/local_rendezvous.cc:426] Local rendezvous recv item cancelled. Key hash: 11000424939678305159\n",
            "2025-04-23 17:01:18.586465: I tensorflow/core/framework/local_rendezvous.cc:426] Local rendezvous recv item cancelled. Key hash: 15932173759295488743\n",
            "2025-04-23 17:01:18.586468: I tensorflow/core/framework/local_rendezvous.cc:426] Local rendezvous recv item cancelled. Key hash: 2628760862469492237\n",
            "2025-04-23 17:01:18.586471: I tensorflow/core/framework/local_rendezvous.cc:426] Local rendezvous recv item cancelled. Key hash: 4521567689937883173\n",
            "2025-04-23 17:01:18.586473: I tensorflow/core/framework/local_rendezvous.cc:426] Local rendezvous recv item cancelled. Key hash: 8115369447710820473\n",
            "2025-04-23 17:01:18.586476: I tensorflow/core/framework/local_rendezvous.cc:426] Local rendezvous recv item cancelled. Key hash: 4404137522245899301\n",
            "2025-04-23 17:01:18.586479: I tensorflow/core/framework/local_rendezvous.cc:426] Local rendezvous recv item cancelled. Key hash: 18177771955885413821\n",
            "2025-04-23 17:01:18.586482: I tensorflow/core/framework/local_rendezvous.cc:426] Local rendezvous recv item cancelled. Key hash: 14295947159760181399\n",
            "2025-04-23 17:01:18.586485: I tensorflow/core/framework/local_rendezvous.cc:426] Local rendezvous recv item cancelled. Key hash: 18378264411016895593\n",
            "2025-04-23 17:01:18.586488: I tensorflow/core/framework/local_rendezvous.cc:426] Local rendezvous recv item cancelled. Key hash: 9046011902907948323\n",
            "2025-04-23 17:01:18.586491: I tensorflow/core/framework/local_rendezvous.cc:426] Local rendezvous recv item cancelled. Key hash: 3774012763951308755\n",
            "2025-04-23 17:01:18.586494: I tensorflow/core/framework/local_rendezvous.cc:426] Local rendezvous recv item cancelled. Key hash: 14139476013325590349\n",
            "2025-04-23 17:01:18.586498: I tensorflow/core/framework/local_rendezvous.cc:426] Local rendezvous recv item cancelled. Key hash: 3016208986814915127\n",
            "2025-04-23 17:01:18.586501: I tensorflow/core/framework/local_rendezvous.cc:426] Local rendezvous recv item cancelled. Key hash: 6178283291909399419\n",
            "2025-04-23 17:01:18.586504: I tensorflow/core/framework/local_rendezvous.cc:426] Local rendezvous recv item cancelled. Key hash: 18424066514103077065\n",
            "2025-04-23 17:01:18.586507: I tensorflow/core/framework/local_rendezvous.cc:426] Local rendezvous recv item cancelled. Key hash: 4145506682742744353\n",
            "2025-04-23 17:01:18.586510: I tensorflow/core/framework/local_rendezvous.cc:426] Local rendezvous recv item cancelled. Key hash: 758656831394391601\n",
            "2025-04-23 17:01:18.586513: I tensorflow/core/framework/local_rendezvous.cc:426] Local rendezvous recv item cancelled. Key hash: 16605443284038034699\n",
            "2025-04-23 17:01:18.586517: I tensorflow/core/framework/local_rendezvous.cc:426] Local rendezvous recv item cancelled. Key hash: 9426121620883611523\n",
            "2025-04-23 17:01:18.586520: I tensorflow/core/framework/local_rendezvous.cc:426] Local rendezvous recv item cancelled. Key hash: 17814192163791284935\n",
            "2025-04-23 17:01:18.586523: I tensorflow/core/framework/local_rendezvous.cc:426] Local rendezvous recv item cancelled. Key hash: 1394057606081914163\n",
            "2025-04-23 17:01:18.586526: I tensorflow/core/framework/local_rendezvous.cc:426] Local rendezvous recv item cancelled. Key hash: 1862599807359495559\n",
            "2025-04-23 17:01:18.586529: I tensorflow/core/framework/local_rendezvous.cc:426] Local rendezvous recv item cancelled. Key hash: 9272265698589127129\n",
            "2025-04-23 17:01:18.586531: I tensorflow/core/framework/local_rendezvous.cc:426] Local rendezvous recv item cancelled. Key hash: 9477261212777493347\n",
            "2025-04-23 17:01:18.586534: I tensorflow/core/framework/local_rendezvous.cc:426] Local rendezvous recv item cancelled. Key hash: 15233919434487084287\n",
            "2025-04-23 17:01:18.586537: I tensorflow/core/framework/local_rendezvous.cc:426] Local rendezvous recv item cancelled. Key hash: 6573279409509414335\n",
            "2025-04-23 17:01:18.586540: I tensorflow/core/framework/local_rendezvous.cc:426] Local rendezvous recv item cancelled. Key hash: 10810444866881431505\n",
            "2025-04-23 17:01:18.586543: I tensorflow/core/framework/local_rendezvous.cc:426] Local rendezvous recv item cancelled. Key hash: 1341948605946969977\n",
            "2025-04-23 17:01:18.586547: I tensorflow/core/framework/local_rendezvous.cc:426] Local rendezvous recv item cancelled. Key hash: 18369613667539864435\n",
            "2025-04-23 17:01:18.586550: I tensorflow/core/framework/local_rendezvous.cc:426] Local rendezvous recv item cancelled. Key hash: 745761352120192735\n",
            "2025-04-23 17:01:18.586553: I tensorflow/core/framework/local_rendezvous.cc:426] Local rendezvous recv item cancelled. Key hash: 2530559745500238503\n",
            "2025-04-23 17:01:18.586556: I tensorflow/core/framework/local_rendezvous.cc:426] Local rendezvous recv item cancelled. Key hash: 18296331168958436803\n",
            "2025-04-23 17:01:18.586559: I tensorflow/core/framework/local_rendezvous.cc:426] Local rendezvous recv item cancelled. Key hash: 17769896797008024933\n",
            "2025-04-23 17:01:18.586563: I tensorflow/core/framework/local_rendezvous.cc:426] Local rendezvous recv item cancelled. Key hash: 6359154945545721469\n",
            "2025-04-23 17:01:18.586566: I tensorflow/core/framework/local_rendezvous.cc:426] Local rendezvous recv item cancelled. Key hash: 10380465877135186973\n",
            "2025-04-23 17:01:18.586569: I tensorflow/core/framework/local_rendezvous.cc:426] Local rendezvous recv item cancelled. Key hash: 2160583235280624971\n",
            "2025-04-23 17:01:18.586572: I tensorflow/core/framework/local_rendezvous.cc:426] Local rendezvous recv item cancelled. Key hash: 12158706920399626429\n",
            "2025-04-23 17:01:18.586575: I tensorflow/core/framework/local_rendezvous.cc:426] Local rendezvous recv item cancelled. Key hash: 11219104840677188411\n",
            "2025-04-23 17:01:18.586578: I tensorflow/core/framework/local_rendezvous.cc:426] Local rendezvous recv item cancelled. Key hash: 10838860395111048241\n",
            "2025-04-23 17:01:18.586581: I tensorflow/core/framework/local_rendezvous.cc:426] Local rendezvous recv item cancelled. Key hash: 10843412505560016929\n",
            "2025-04-23 17:01:18.586584: I tensorflow/core/framework/local_rendezvous.cc:426] Local rendezvous recv item cancelled. Key hash: 10696205128317134949\n",
            "2025-04-23 17:01:18.586587: I tensorflow/core/framework/local_rendezvous.cc:426] Local rendezvous recv item cancelled. Key hash: 6332728133444233781\n",
            "2025-04-23 17:01:18.586590: I tensorflow/core/framework/local_rendezvous.cc:426] Local rendezvous recv item cancelled. Key hash: 12413592247590579151\n",
            "2025-04-23 17:01:18.586593: I tensorflow/core/framework/local_rendezvous.cc:426] Local rendezvous recv item cancelled. Key hash: 4291750123929135807\n",
            "2025-04-23 17:01:18.586597: I tensorflow/core/framework/local_rendezvous.cc:426] Local rendezvous recv item cancelled. Key hash: 860960913827819609\n",
            "2025-04-23 17:01:18.586600: I tensorflow/core/framework/local_rendezvous.cc:426] Local rendezvous recv item cancelled. Key hash: 16935569720502317101\n",
            "2025-04-23 17:01:18.586603: I tensorflow/core/framework/local_rendezvous.cc:426] Local rendezvous recv item cancelled. Key hash: 16679692041788519133\n",
            "2025-04-23 17:01:18.586606: I tensorflow/core/framework/local_rendezvous.cc:426] Local rendezvous recv item cancelled. Key hash: 10169578016037204033\n",
            "2025-04-23 17:01:18.586609: I tensorflow/core/framework/local_rendezvous.cc:426] Local rendezvous recv item cancelled. Key hash: 1536373091667277015\n",
            "2025-04-23 17:01:18.586612: I tensorflow/core/framework/local_rendezvous.cc:426] Local rendezvous recv item cancelled. Key hash: 14168357077061924087\n",
            "2025-04-23 17:01:18.586614: I tensorflow/core/framework/local_rendezvous.cc:426] Local rendezvous recv item cancelled. Key hash: 3177642849465792173\n",
            "2025-04-23 17:01:18.586618: I tensorflow/core/framework/local_rendezvous.cc:426] Local rendezvous recv item cancelled. Key hash: 10714533152910145523\n",
            "2025-04-23 17:01:18.586621: I tensorflow/core/framework/local_rendezvous.cc:426] Local rendezvous recv item cancelled. Key hash: 4493629770610309185\n",
            "2025-04-23 17:01:18.586624: I tensorflow/core/framework/local_rendezvous.cc:426] Local rendezvous recv item cancelled. Key hash: 1203908349283595841\n",
            "2025-04-23 17:01:18.586627: I tensorflow/core/framework/local_rendezvous.cc:426] Local rendezvous recv item cancelled. Key hash: 15647636190199086197\n",
            "2025-04-23 17:01:18.586630: I tensorflow/core/framework/local_rendezvous.cc:426] Local rendezvous recv item cancelled. Key hash: 3842201026910813487\n",
            "2025-04-23 17:01:18.586633: I tensorflow/core/framework/local_rendezvous.cc:426] Local rendezvous recv item cancelled. Key hash: 17351464709675220583\n",
            "2025-04-23 17:01:18.586636: I tensorflow/core/framework/local_rendezvous.cc:426] Local rendezvous recv item cancelled. Key hash: 9467514268876865215\n",
            "2025-04-23 17:01:18.586672: I tensorflow/core/framework/local_rendezvous.cc:426] Local rendezvous recv item cancelled. Key hash: 11675831570925028498\n",
            "2025-04-23 17:01:18.586675: I tensorflow/core/framework/local_rendezvous.cc:426] Local rendezvous recv item cancelled. Key hash: 10674461637518034260\n",
            "2025-04-23 17:01:18.586678: I tensorflow/core/framework/local_rendezvous.cc:426] Local rendezvous recv item cancelled. Key hash: 1425155840130484832\n",
            "2025-04-23 17:01:18.586681: I tensorflow/core/framework/local_rendezvous.cc:426] Local rendezvous recv item cancelled. Key hash: 11537125991209241226\n",
            "2025-04-23 17:01:18.586684: I tensorflow/core/framework/local_rendezvous.cc:426] Local rendezvous recv item cancelled. Key hash: 7760034169562270764\n",
            "2025-04-23 17:01:18.586686: I tensorflow/core/framework/local_rendezvous.cc:426] Local rendezvous recv item cancelled. Key hash: 13518639427761474632\n",
            "2025-04-23 17:01:18.586689: I tensorflow/core/framework/local_rendezvous.cc:426] Local rendezvous recv item cancelled. Key hash: 3732564310854405862\n",
            "2025-04-23 17:01:18.586691: I tensorflow/core/framework/local_rendezvous.cc:426] Local rendezvous recv item cancelled. Key hash: 852088311446507404\n",
            "2025-04-23 17:01:18.586694: I tensorflow/core/framework/local_rendezvous.cc:426] Local rendezvous recv item cancelled. Key hash: 14315520024534389030\n",
            "2025-04-23 17:01:18.586697: I tensorflow/core/framework/local_rendezvous.cc:426] Local rendezvous recv item cancelled. Key hash: 235518504833061328\n",
            "2025-04-23 17:01:18.586699: I tensorflow/core/framework/local_rendezvous.cc:426] Local rendezvous recv item cancelled. Key hash: 2035347527474353428\n",
            "2025-04-23 17:01:18.586702: I tensorflow/core/framework/local_rendezvous.cc:426] Local rendezvous recv item cancelled. Key hash: 13760294034179168998\n",
            "2025-04-23 17:01:18.586705: I tensorflow/core/framework/local_rendezvous.cc:426] Local rendezvous recv item cancelled. Key hash: 16604716025892840134\n",
            "2025-04-23 17:01:18.586707: I tensorflow/core/framework/local_rendezvous.cc:426] Local rendezvous recv item cancelled. Key hash: 8957382051619284678\n",
            "2025-04-23 17:01:18.586710: I tensorflow/core/framework/local_rendezvous.cc:426] Local rendezvous recv item cancelled. Key hash: 9076777373793986162\n",
            "2025-04-23 17:01:18.586712: I tensorflow/core/framework/local_rendezvous.cc:426] Local rendezvous recv item cancelled. Key hash: 10980810190566074874\n",
            "2025-04-23 17:01:18.586715: I tensorflow/core/framework/local_rendezvous.cc:426] Local rendezvous recv item cancelled. Key hash: 10365177982032554266\n",
            "2025-04-23 17:01:18.586717: I tensorflow/core/framework/local_rendezvous.cc:426] Local rendezvous recv item cancelled. Key hash: 16575506396617714558\n",
            "2025-04-23 17:01:18.586720: I tensorflow/core/framework/local_rendezvous.cc:426] Local rendezvous recv item cancelled. Key hash: 3687153042802814114\n",
            "2025-04-23 17:01:18.586723: I tensorflow/core/framework/local_rendezvous.cc:426] Local rendezvous recv item cancelled. Key hash: 6569630696442179038\n",
            "2025-04-23 17:01:18.586725: I tensorflow/core/framework/local_rendezvous.cc:426] Local rendezvous recv item cancelled. Key hash: 18168066082788552204\n",
            "2025-04-23 17:01:18.586728: I tensorflow/core/framework/local_rendezvous.cc:426] Local rendezvous recv item cancelled. Key hash: 9119633025162620848\n",
            "2025-04-23 17:01:18.586731: I tensorflow/core/framework/local_rendezvous.cc:426] Local rendezvous recv item cancelled. Key hash: 12681343399797731584\n",
            "2025-04-23 17:01:18.586733: I tensorflow/core/framework/local_rendezvous.cc:426] Local rendezvous recv item cancelled. Key hash: 1452005301340091290\n",
            "2025-04-23 17:01:18.586736: I tensorflow/core/framework/local_rendezvous.cc:426] Local rendezvous recv item cancelled. Key hash: 1952165650687800272\n",
            "2025-04-23 17:01:18.586739: I tensorflow/core/framework/local_rendezvous.cc:426] Local rendezvous recv item cancelled. Key hash: 31953808028612776\n",
            "2025-04-23 17:01:18.586742: I tensorflow/core/framework/local_rendezvous.cc:426] Local rendezvous recv item cancelled. Key hash: 11536021515100240250\n",
            "2025-04-23 17:01:18.586744: I tensorflow/core/framework/local_rendezvous.cc:426] Local rendezvous recv item cancelled. Key hash: 8035795009053735640\n",
            "2025-04-23 17:01:18.586747: I tensorflow/core/framework/local_rendezvous.cc:426] Local rendezvous recv item cancelled. Key hash: 13722504662360144794\n",
            "2025-04-23 17:01:18.586750: I tensorflow/core/framework/local_rendezvous.cc:426] Local rendezvous recv item cancelled. Key hash: 8847508404657732828\n",
            "2025-04-23 17:01:18.586752: I tensorflow/core/framework/local_rendezvous.cc:426] Local rendezvous recv item cancelled. Key hash: 13600421057369685214\n",
            "2025-04-23 17:01:18.586755: I tensorflow/core/framework/local_rendezvous.cc:426] Local rendezvous recv item cancelled. Key hash: 6333218230533961758\n",
            "2025-04-23 17:01:18.586757: I tensorflow/core/framework/local_rendezvous.cc:426] Local rendezvous recv item cancelled. Key hash: 4523843418202520788\n",
            "2025-04-23 17:01:18.586760: I tensorflow/core/framework/local_rendezvous.cc:426] Local rendezvous recv item cancelled. Key hash: 98935670871376758\n",
            "2025-04-23 17:01:18.586763: I tensorflow/core/framework/local_rendezvous.cc:426] Local rendezvous recv item cancelled. Key hash: 6636753731218785528\n",
            "2025-04-23 17:01:18.586765: I tensorflow/core/framework/local_rendezvous.cc:426] Local rendezvous recv item cancelled. Key hash: 16336492113604658926\n",
            "2025-04-23 17:01:18.586768: I tensorflow/core/framework/local_rendezvous.cc:426] Local rendezvous recv item cancelled. Key hash: 425889819191949662\n",
            "2025-04-23 17:01:18.586770: I tensorflow/core/framework/local_rendezvous.cc:426] Local rendezvous recv item cancelled. Key hash: 1482121445210213078\n",
            "2025-04-23 17:01:18.586773: I tensorflow/core/framework/local_rendezvous.cc:426] Local rendezvous recv item cancelled. Key hash: 10601360282068732686\n",
            "2025-04-23 17:01:18.586776: I tensorflow/core/framework/local_rendezvous.cc:426] Local rendezvous recv item cancelled. Key hash: 10268670499887272332\n",
            "2025-04-23 17:01:18.586779: I tensorflow/core/framework/local_rendezvous.cc:426] Local rendezvous recv item cancelled. Key hash: 17541347423397761658\n",
            "2025-04-23 17:01:18.586781: I tensorflow/core/framework/local_rendezvous.cc:426] Local rendezvous recv item cancelled. Key hash: 6787939571496539350\n",
            "2025-04-23 17:01:18.586784: I tensorflow/core/framework/local_rendezvous.cc:426] Local rendezvous recv item cancelled. Key hash: 17868762281030931600\n",
            "2025-04-23 17:01:18.586787: I tensorflow/core/framework/local_rendezvous.cc:426] Local rendezvous recv item cancelled. Key hash: 7500085719739947134\n",
            "2025-04-23 17:01:18.586789: I tensorflow/core/framework/local_rendezvous.cc:426] Local rendezvous recv item cancelled. Key hash: 8380768423292197330\n",
            "2025-04-23 17:01:18.586792: I tensorflow/core/framework/local_rendezvous.cc:426] Local rendezvous recv item cancelled. Key hash: 2055859778504185936\n",
            "2025-04-23 17:01:18.586794: I tensorflow/core/framework/local_rendezvous.cc:426] Local rendezvous recv item cancelled. Key hash: 15204575024709393278\n",
            "2025-04-23 17:01:18.586797: I tensorflow/core/framework/local_rendezvous.cc:426] Local rendezvous recv item cancelled. Key hash: 16308472238213258910\n",
            "2025-04-23 17:01:18.586799: I tensorflow/core/framework/local_rendezvous.cc:426] Local rendezvous recv item cancelled. Key hash: 3498261086571487154\n",
            "2025-04-23 17:01:18.586802: I tensorflow/core/framework/local_rendezvous.cc:426] Local rendezvous recv item cancelled. Key hash: 1980200410839083144\n",
            "2025-04-23 17:01:18.586805: I tensorflow/core/framework/local_rendezvous.cc:426] Local rendezvous recv item cancelled. Key hash: 5953697548494334188\n",
            "2025-04-23 17:01:18.586807: I tensorflow/core/framework/local_rendezvous.cc:426] Local rendezvous recv item cancelled. Key hash: 11461936845062564300\n",
            "2025-04-23 17:01:18.586810: I tensorflow/core/framework/local_rendezvous.cc:426] Local rendezvous recv item cancelled. Key hash: 983168693623811482\n",
            "2025-04-23 17:01:18.586813: I tensorflow/core/framework/local_rendezvous.cc:426] Local rendezvous recv item cancelled. Key hash: 17854173241797143864\n",
            "2025-04-23 17:01:18.586816: I tensorflow/core/framework/local_rendezvous.cc:426] Local rendezvous recv item cancelled. Key hash: 12039696715116408678\n",
            "2025-04-23 17:01:18.586818: I tensorflow/core/framework/local_rendezvous.cc:426] Local rendezvous recv item cancelled. Key hash: 9697147686909014046\n",
            "2025-04-23 17:01:18.586821: I tensorflow/core/framework/local_rendezvous.cc:426] Local rendezvous recv item cancelled. Key hash: 10180286491291250338\n",
            "2025-04-23 17:01:18.586824: I tensorflow/core/framework/local_rendezvous.cc:426] Local rendezvous recv item cancelled. Key hash: 10625726002979894254\n",
            "2025-04-23 17:01:18.586827: I tensorflow/core/framework/local_rendezvous.cc:426] Local rendezvous recv item cancelled. Key hash: 16228002024168912406\n",
            "2025-04-23 17:01:18.586829: I tensorflow/core/framework/local_rendezvous.cc:426] Local rendezvous recv item cancelled. Key hash: 9535313972789999186\n",
            "2025-04-23 17:01:18.586832: I tensorflow/core/framework/local_rendezvous.cc:426] Local rendezvous recv item cancelled. Key hash: 16996346175811320054\n",
            "2025-04-23 17:01:18.586834: I tensorflow/core/framework/local_rendezvous.cc:426] Local rendezvous recv item cancelled. Key hash: 18364260895159580376\n",
            "2025-04-23 17:01:18.586837: I tensorflow/core/framework/local_rendezvous.cc:426] Local rendezvous recv item cancelled. Key hash: 2886980087700683168\n",
            "2025-04-23 17:01:18.586840: I tensorflow/core/framework/local_rendezvous.cc:426] Local rendezvous recv item cancelled. Key hash: 3079463995884272804\n",
            "2025-04-23 17:01:18.586842: I tensorflow/core/framework/local_rendezvous.cc:426] Local rendezvous recv item cancelled. Key hash: 345533594227211634\n",
            "2025-04-23 17:01:18.586845: I tensorflow/core/framework/local_rendezvous.cc:426] Local rendezvous recv item cancelled. Key hash: 3414643035223915890\n",
            "2025-04-23 17:01:18.586848: I tensorflow/core/framework/local_rendezvous.cc:426] Local rendezvous recv item cancelled. Key hash: 14621154026162454276\n",
            "2025-04-23 17:01:18.586850: I tensorflow/core/framework/local_rendezvous.cc:426] Local rendezvous recv item cancelled. Key hash: 13408368897423540300\n",
            "2025-04-23 17:01:18.586853: I tensorflow/core/framework/local_rendezvous.cc:426] Local rendezvous recv item cancelled. Key hash: 5812305141084750032\n",
            "2025-04-23 17:01:18.586856: I tensorflow/core/framework/local_rendezvous.cc:426] Local rendezvous recv item cancelled. Key hash: 4461851897016516356\n",
            "2025-04-23 17:01:18.586859: I tensorflow/core/framework/local_rendezvous.cc:426] Local rendezvous recv item cancelled. Key hash: 16439879600507094410\n",
            "2025-04-23 17:01:18.586862: I tensorflow/core/framework/local_rendezvous.cc:426] Local rendezvous recv item cancelled. Key hash: 3755774808101848794\n",
            "2025-04-23 17:01:18.586864: I tensorflow/core/framework/local_rendezvous.cc:426] Local rendezvous recv item cancelled. Key hash: 12716574734219245296\n",
            "2025-04-23 17:01:18.586867: I tensorflow/core/framework/local_rendezvous.cc:426] Local rendezvous recv item cancelled. Key hash: 8749464046215073388\n",
            "2025-04-23 17:01:18.586870: I tensorflow/core/framework/local_rendezvous.cc:426] Local rendezvous recv item cancelled. Key hash: 13166788290070548154\n",
            "2025-04-23 17:01:18.586872: I tensorflow/core/framework/local_rendezvous.cc:426] Local rendezvous recv item cancelled. Key hash: 13876636696744333774\n",
            "2025-04-23 17:01:18.586875: I tensorflow/core/framework/local_rendezvous.cc:426] Local rendezvous recv item cancelled. Key hash: 18394599167198925442\n",
            "2025-04-23 17:01:18.586878: I tensorflow/core/framework/local_rendezvous.cc:426] Local rendezvous recv item cancelled. Key hash: 17455800719579452054\n",
            "2025-04-23 17:01:18.586881: I tensorflow/core/framework/local_rendezvous.cc:426] Local rendezvous recv item cancelled. Key hash: 3522773966917964894\n",
            "2025-04-23 17:01:18.586883: I tensorflow/core/framework/local_rendezvous.cc:426] Local rendezvous recv item cancelled. Key hash: 11905196331029795732\n",
            "2025-04-23 17:01:18.586886: I tensorflow/core/framework/local_rendezvous.cc:426] Local rendezvous recv item cancelled. Key hash: 5274613165593040792\n",
            "2025-04-23 17:01:18.586889: I tensorflow/core/framework/local_rendezvous.cc:426] Local rendezvous recv item cancelled. Key hash: 1302091114350745728\n",
            "2025-04-23 17:01:18.586891: I tensorflow/core/framework/local_rendezvous.cc:426] Local rendezvous recv item cancelled. Key hash: 8172960731053330798\n",
            "2025-04-23 17:01:18.586894: I tensorflow/core/framework/local_rendezvous.cc:426] Local rendezvous recv item cancelled. Key hash: 402888152930622518\n",
            "2025-04-23 17:01:18.586897: I tensorflow/core/framework/local_rendezvous.cc:426] Local rendezvous recv item cancelled. Key hash: 6918294058807566014\n",
            "2025-04-23 17:01:18.586899: I tensorflow/core/framework/local_rendezvous.cc:426] Local rendezvous recv item cancelled. Key hash: 565006317188455938\n",
            "2025-04-23 17:01:18.586902: I tensorflow/core/framework/local_rendezvous.cc:426] Local rendezvous recv item cancelled. Key hash: 1545142218094386814\n",
            "2025-04-23 17:01:18.586904: I tensorflow/core/framework/local_rendezvous.cc:426] Local rendezvous recv item cancelled. Key hash: 7109717490852995598\n",
            "2025-04-23 17:01:18.586907: I tensorflow/core/framework/local_rendezvous.cc:426] Local rendezvous recv item cancelled. Key hash: 4640867044839564118\n",
            "2025-04-23 17:01:18.586909: I tensorflow/core/framework/local_rendezvous.cc:426] Local rendezvous recv item cancelled. Key hash: 13901310793365364312\n",
            "2025-04-23 17:01:18.586912: I tensorflow/core/framework/local_rendezvous.cc:426] Local rendezvous recv item cancelled. Key hash: 4488950973131761128\n",
            "2025-04-23 17:01:18.586915: I tensorflow/core/framework/local_rendezvous.cc:426] Local rendezvous recv item cancelled. Key hash: 14399130805525456230\n",
            "2025-04-23 17:01:18.586917: I tensorflow/core/framework/local_rendezvous.cc:426] Local rendezvous recv item cancelled. Key hash: 14669784370509359000\n",
            "2025-04-23 17:01:18.586920: I tensorflow/core/framework/local_rendezvous.cc:426] Local rendezvous recv item cancelled. Key hash: 14971075091054635256\n",
            "2025-04-23 17:01:18.586923: I tensorflow/core/framework/local_rendezvous.cc:426] Local rendezvous recv item cancelled. Key hash: 15345919568272861378\n",
            "2025-04-23 17:01:18.586925: I tensorflow/core/framework/local_rendezvous.cc:426] Local rendezvous recv item cancelled. Key hash: 14111762646860212774\n",
            "2025-04-23 17:01:18.586928: I tensorflow/core/framework/local_rendezvous.cc:426] Local rendezvous recv item cancelled. Key hash: 14794742519916112688\n",
            "2025-04-23 17:01:18.586931: I tensorflow/core/framework/local_rendezvous.cc:426] Local rendezvous recv item cancelled. Key hash: 6256077412110281770\n",
            "2025-04-23 17:01:18.586933: I tensorflow/core/framework/local_rendezvous.cc:426] Local rendezvous recv item cancelled. Key hash: 8731270589174623526\n",
            "2025-04-23 17:01:18.586936: I tensorflow/core/framework/local_rendezvous.cc:426] Local rendezvous recv item cancelled. Key hash: 3475135800333804624\n",
            "2025-04-23 17:01:18.586938: I tensorflow/core/framework/local_rendezvous.cc:426] Local rendezvous recv item cancelled. Key hash: 18191512307203092676\n",
            "2025-04-23 17:01:18.586941: I tensorflow/core/framework/local_rendezvous.cc:426] Local rendezvous recv item cancelled. Key hash: 591560432040980488\n",
            "2025-04-23 17:01:18.586944: I tensorflow/core/framework/local_rendezvous.cc:426] Local rendezvous recv item cancelled. Key hash: 1806651440316522150\n",
            "2025-04-23 17:01:18.586946: I tensorflow/core/framework/local_rendezvous.cc:426] Local rendezvous recv item cancelled. Key hash: 15600807464763698024\n",
            "2025-04-23 17:01:18.586949: I tensorflow/core/framework/local_rendezvous.cc:426] Local rendezvous recv item cancelled. Key hash: 9506398507756467862\n",
            "2025-04-23 17:01:18.586951: I tensorflow/core/framework/local_rendezvous.cc:426] Local rendezvous recv item cancelled. Key hash: 7510730400091519656\n",
            "2025-04-23 17:01:18.586954: I tensorflow/core/framework/local_rendezvous.cc:426] Local rendezvous recv item cancelled. Key hash: 16543270030311800348\n",
            "2025-04-23 17:01:18.586957: I tensorflow/core/framework/local_rendezvous.cc:426] Local rendezvous recv item cancelled. Key hash: 12872523474488967384\n",
            "2025-04-23 17:01:18.586959: I tensorflow/core/framework/local_rendezvous.cc:426] Local rendezvous recv item cancelled. Key hash: 9671169222355830058\n",
            "2025-04-23 17:01:18.586962: I tensorflow/core/framework/local_rendezvous.cc:426] Local rendezvous recv item cancelled. Key hash: 3753723620768728640\n",
            "2025-04-23 17:01:18.586964: I tensorflow/core/framework/local_rendezvous.cc:426] Local rendezvous recv item cancelled. Key hash: 6815256851012307832\n",
            "2025-04-23 17:01:18.586967: I tensorflow/core/framework/local_rendezvous.cc:426] Local rendezvous recv item cancelled. Key hash: 12690636014826212372\n",
            "2025-04-23 17:01:18.586970: I tensorflow/core/framework/local_rendezvous.cc:426] Local rendezvous recv item cancelled. Key hash: 18221943266461600818\n",
            "2025-04-23 17:01:18.586973: I tensorflow/core/framework/local_rendezvous.cc:426] Local rendezvous recv item cancelled. Key hash: 17883398801875521264\n",
            "2025-04-23 17:01:18.586975: I tensorflow/core/framework/local_rendezvous.cc:426] Local rendezvous recv item cancelled. Key hash: 5076621912164061430\n",
            "2025-04-23 17:01:18.586978: I tensorflow/core/framework/local_rendezvous.cc:426] Local rendezvous recv item cancelled. Key hash: 12809080155093453758\n",
            "2025-04-23 17:01:18.586981: I tensorflow/core/framework/local_rendezvous.cc:426] Local rendezvous recv item cancelled. Key hash: 15498379617699943394\n",
            "2025-04-23 17:01:18.586993: I tensorflow/core/framework/local_rendezvous.cc:426] Local rendezvous recv item cancelled. Key hash: 13599555522600293254\n",
            "2025-04-23 17:01:18.587000: I tensorflow/core/framework/local_rendezvous.cc:426] Local rendezvous recv item cancelled. Key hash: 10890711500029810044\n",
            "2025-04-23 17:01:18.587004: I tensorflow/core/framework/local_rendezvous.cc:426] Local rendezvous recv item cancelled. Key hash: 11968079497620674808\n",
            "2025-04-23 17:01:18.587007: I tensorflow/core/framework/local_rendezvous.cc:426] Local rendezvous recv item cancelled. Key hash: 17433165049916872864\n",
            "2025-04-23 17:01:18.587010: I tensorflow/core/framework/local_rendezvous.cc:426] Local rendezvous recv item cancelled. Key hash: 575479648540482298\n",
            "2025-04-23 17:01:18.587013: I tensorflow/core/framework/local_rendezvous.cc:426] Local rendezvous recv item cancelled. Key hash: 15126008182247971456\n",
            "2025-04-23 17:01:18.587016: I tensorflow/core/framework/local_rendezvous.cc:426] Local rendezvous recv item cancelled. Key hash: 1124205918354725708\n",
            "2025-04-23 17:01:18.587019: I tensorflow/core/framework/local_rendezvous.cc:426] Local rendezvous recv item cancelled. Key hash: 17242789620930041840\n",
            "2025-04-23 17:01:18.587022: I tensorflow/core/framework/local_rendezvous.cc:426] Local rendezvous recv item cancelled. Key hash: 15495371113699729070\n",
            "2025-04-23 17:01:18.587025: I tensorflow/core/framework/local_rendezvous.cc:426] Local rendezvous recv item cancelled. Key hash: 8961815101158646172\n",
            "2025-04-23 17:01:18.587028: I tensorflow/core/framework/local_rendezvous.cc:426] Local rendezvous recv item cancelled. Key hash: 10136074219958231560\n",
            "2025-04-23 17:01:18.587031: I tensorflow/core/framework/local_rendezvous.cc:426] Local rendezvous recv item cancelled. Key hash: 17842829968604128702\n",
            "2025-04-23 17:01:18.587034: I tensorflow/core/framework/local_rendezvous.cc:426] Local rendezvous recv item cancelled. Key hash: 15505766244439943262\n",
            "2025-04-23 17:01:18.587036: I tensorflow/core/framework/local_rendezvous.cc:426] Local rendezvous recv item cancelled. Key hash: 9405692429388343572\n",
            "2025-04-23 17:01:18.587039: I tensorflow/core/framework/local_rendezvous.cc:426] Local rendezvous recv item cancelled. Key hash: 17165634500041763398\n",
            "2025-04-23 17:01:18.587041: I tensorflow/core/framework/local_rendezvous.cc:430] Local rendezvous send item cancelled. Key hash: 15062251542354389622\n",
            "2025-04-23 17:01:18.587044: I tensorflow/core/framework/local_rendezvous.cc:426] Local rendezvous recv item cancelled. Key hash: 15072647065170078780\n",
            "2025-04-23 17:01:18.587047: I tensorflow/core/framework/local_rendezvous.cc:426] Local rendezvous recv item cancelled. Key hash: 15591564869867138316\n",
            "2025-04-23 17:01:18.587050: I tensorflow/core/framework/local_rendezvous.cc:426] Local rendezvous recv item cancelled. Key hash: 14038114602486656910\n",
            "2025-04-23 17:01:18.587064: I tensorflow/core/framework/local_rendezvous.cc:426] Local rendezvous recv item cancelled. Key hash: 6531022744478348918\n",
            "2025-04-23 17:01:18.587069: I tensorflow/core/framework/local_rendezvous.cc:426] Local rendezvous recv item cancelled. Key hash: 1673122395127281486\n",
            "2025-04-23 17:01:18.587073: I tensorflow/core/framework/local_rendezvous.cc:426] Local rendezvous recv item cancelled. Key hash: 4361416996315855094\n",
            "2025-04-23 17:01:18.587076: I tensorflow/core/framework/local_rendezvous.cc:426] Local rendezvous recv item cancelled. Key hash: 15755655554505701876\n",
            "2025-04-23 17:01:18.587079: I tensorflow/core/framework/local_rendezvous.cc:426] Local rendezvous recv item cancelled. Key hash: 4709811707296545954\n",
            "OpenCV: Couldn't read video stream from file \"/Users/blag/Documents/UChicago MS/2025 Spring/Computer Vision with DL/LipReading_CV/data/video1/of/300.mp4\"\n"
          ]
        },
        {
          "name": "stdout",
          "output_type": "stream",
          "text": [
            " Could not read frame in video: /Users/blag/Documents/UChicago MS/2025 Spring/Computer Vision with DL/LipReading_CV/data/video1/of/300.mp4\n",
            " Skipping video: /Users/blag/Documents/UChicago MS/2025 Spring/Computer Vision with DL/LipReading_CV/data/video1/of/300.mp4 (Invalid or too few frames)\n"
          ]
        },
        {
          "name": "stderr",
          "output_type": "stream",
          "text": [
            "OpenCV: Couldn't read video stream from file \"/Users/blag/Documents/UChicago MS/2025 Spring/Computer Vision with DL/LipReading_CV/data/video1/in/751.mp4\"\n"
          ]
        },
        {
          "name": "stdout",
          "output_type": "stream",
          "text": [
            " Could not read frame in video: /Users/blag/Documents/UChicago MS/2025 Spring/Computer Vision with DL/LipReading_CV/data/video1/in/751.mp4\n",
            " Skipping video: /Users/blag/Documents/UChicago MS/2025 Spring/Computer Vision with DL/LipReading_CV/data/video1/in/751.mp4 (Invalid or too few frames)\n"
          ]
        },
        {
          "name": "stderr",
          "output_type": "stream",
          "text": [
            "OpenCV: Couldn't read video stream from file \"/Users/blag/Documents/UChicago MS/2025 Spring/Computer Vision with DL/LipReading_CV/data/video1/or/1177.mp4\"\n"
          ]
        },
        {
          "name": "stdout",
          "output_type": "stream",
          "text": [
            " Could not read frame in video: /Users/blag/Documents/UChicago MS/2025 Spring/Computer Vision with DL/LipReading_CV/data/video1/or/1177.mp4\n",
            " Skipping video: /Users/blag/Documents/UChicago MS/2025 Spring/Computer Vision with DL/LipReading_CV/data/video1/or/1177.mp4 (Invalid or too few frames)\n"
          ]
        },
        {
          "name": "stderr",
          "output_type": "stream",
          "text": [
            "OpenCV: Couldn't read video stream from file \"/Users/blag/Documents/UChicago MS/2025 Spring/Computer Vision with DL/LipReading_CV/data/video1/of/802.mp4\"\n"
          ]
        },
        {
          "name": "stdout",
          "output_type": "stream",
          "text": [
            " Could not read frame in video: /Users/blag/Documents/UChicago MS/2025 Spring/Computer Vision with DL/LipReading_CV/data/video1/of/802.mp4\n",
            " Skipping video: /Users/blag/Documents/UChicago MS/2025 Spring/Computer Vision with DL/LipReading_CV/data/video1/of/802.mp4 (Invalid or too few frames)\n"
          ]
        },
        {
          "name": "stderr",
          "output_type": "stream",
          "text": [
            "OpenCV: Couldn't read video stream from file \"/Users/blag/Documents/UChicago MS/2025 Spring/Computer Vision with DL/LipReading_CV/data/video1/at/656.mp4\"\n"
          ]
        },
        {
          "name": "stdout",
          "output_type": "stream",
          "text": [
            " Could not read frame in video: /Users/blag/Documents/UChicago MS/2025 Spring/Computer Vision with DL/LipReading_CV/data/video1/at/656.mp4\n",
            " Skipping video: /Users/blag/Documents/UChicago MS/2025 Spring/Computer Vision with DL/LipReading_CV/data/video1/at/656.mp4 (Invalid or too few frames)\n"
          ]
        },
        {
          "name": "stderr",
          "output_type": "stream",
          "text": [
            "OpenCV: Couldn't read video stream from file \"/Users/blag/Documents/UChicago MS/2025 Spring/Computer Vision with DL/LipReading_CV/data/video1/to/1568.mp4\"\n"
          ]
        },
        {
          "name": "stdout",
          "output_type": "stream",
          "text": [
            " Could not read frame in video: /Users/blag/Documents/UChicago MS/2025 Spring/Computer Vision with DL/LipReading_CV/data/video1/to/1568.mp4\n",
            " Skipping video: /Users/blag/Documents/UChicago MS/2025 Spring/Computer Vision with DL/LipReading_CV/data/video1/to/1568.mp4 (Invalid or too few frames)\n"
          ]
        },
        {
          "name": "stderr",
          "output_type": "stream",
          "text": [
            "OpenCV: Couldn't read video stream from file \"/Users/blag/Documents/UChicago MS/2025 Spring/Computer Vision with DL/LipReading_CV/data/video1/of/1680.mp4\"\n"
          ]
        },
        {
          "name": "stdout",
          "output_type": "stream",
          "text": [
            " Could not read frame in video: /Users/blag/Documents/UChicago MS/2025 Spring/Computer Vision with DL/LipReading_CV/data/video1/of/1680.mp4\n",
            " Skipping video: /Users/blag/Documents/UChicago MS/2025 Spring/Computer Vision with DL/LipReading_CV/data/video1/of/1680.mp4 (Invalid or too few frames)\n"
          ]
        },
        {
          "name": "stderr",
          "output_type": "stream",
          "text": [
            "OpenCV: Couldn't read video stream from file \"/Users/blag/Documents/UChicago MS/2025 Spring/Computer Vision with DL/LipReading_CV/data/video1/of/1547.mp4\"\n"
          ]
        },
        {
          "name": "stdout",
          "output_type": "stream",
          "text": [
            " Could not read frame in video: /Users/blag/Documents/UChicago MS/2025 Spring/Computer Vision with DL/LipReading_CV/data/video1/of/1547.mp4\n",
            " Skipping video: /Users/blag/Documents/UChicago MS/2025 Spring/Computer Vision with DL/LipReading_CV/data/video1/of/1547.mp4 (Invalid or too few frames)\n"
          ]
        },
        {
          "name": "stderr",
          "output_type": "stream",
          "text": [
            "OpenCV: Couldn't read video stream from file \"/Users/blag/Documents/UChicago MS/2025 Spring/Computer Vision with DL/LipReading_CV/data/video1/of/681.mp4\"\n",
            "OpenCV: Couldn't read video stream from file \"/Users/blag/Documents/UChicago MS/2025 Spring/Computer Vision with DL/LipReading_CV/data/video1/to/1181.mp4\"\n"
          ]
        },
        {
          "name": "stdout",
          "output_type": "stream",
          "text": [
            " Could not read frame in video: /Users/blag/Documents/UChicago MS/2025 Spring/Computer Vision with DL/LipReading_CV/data/video1/of/681.mp4\n",
            " Skipping video: /Users/blag/Documents/UChicago MS/2025 Spring/Computer Vision with DL/LipReading_CV/data/video1/of/681.mp4 (Invalid or too few frames)\n",
            " Could not read frame in video: /Users/blag/Documents/UChicago MS/2025 Spring/Computer Vision with DL/LipReading_CV/data/video1/to/1181.mp4\n",
            " Skipping video: /Users/blag/Documents/UChicago MS/2025 Spring/Computer Vision with DL/LipReading_CV/data/video1/to/1181.mp4 (Invalid or too few frames)\n"
          ]
        },
        {
          "name": "stderr",
          "output_type": "stream",
          "text": [
            "OpenCV: Couldn't read video stream from file \"/Users/blag/Documents/UChicago MS/2025 Spring/Computer Vision with DL/LipReading_CV/data/video1/an/209.mp4\"\n"
          ]
        },
        {
          "name": "stdout",
          "output_type": "stream",
          "text": [
            " Could not read frame in video: /Users/blag/Documents/UChicago MS/2025 Spring/Computer Vision with DL/LipReading_CV/data/video1/an/209.mp4\n",
            " Skipping video: /Users/blag/Documents/UChicago MS/2025 Spring/Computer Vision with DL/LipReading_CV/data/video1/an/209.mp4 (Invalid or too few frames)\n"
          ]
        },
        {
          "name": "stderr",
          "output_type": "stream",
          "text": [
            "OpenCV: Couldn't read video stream from file \"/Users/blag/Documents/UChicago MS/2025 Spring/Computer Vision with DL/LipReading_CV/data/video1/of/482.mp4\"\n"
          ]
        },
        {
          "name": "stdout",
          "output_type": "stream",
          "text": [
            " Could not read frame in video: /Users/blag/Documents/UChicago MS/2025 Spring/Computer Vision with DL/LipReading_CV/data/video1/of/482.mp4\n",
            " Skipping video: /Users/blag/Documents/UChicago MS/2025 Spring/Computer Vision with DL/LipReading_CV/data/video1/of/482.mp4 (Invalid or too few frames)\n"
          ]
        },
        {
          "name": "stderr",
          "output_type": "stream",
          "text": [
            "OpenCV: Couldn't read video stream from file \"/Users/blag/Documents/UChicago MS/2025 Spring/Computer Vision with DL/LipReading_CV/data/video1/an/686.mp4\"\n",
            "OpenCV: Couldn't read video stream from file \"/Users/blag/Documents/UChicago MS/2025 Spring/Computer Vision with DL/LipReading_CV/data/video1/to/1370.mp4\"\n"
          ]
        },
        {
          "name": "stdout",
          "output_type": "stream",
          "text": [
            " Could not read frame in video: /Users/blag/Documents/UChicago MS/2025 Spring/Computer Vision with DL/LipReading_CV/data/video1/an/686.mp4\n",
            " Skipping video: /Users/blag/Documents/UChicago MS/2025 Spring/Computer Vision with DL/LipReading_CV/data/video1/an/686.mp4 (Invalid or too few frames)\n",
            " Could not read frame in video: /Users/blag/Documents/UChicago MS/2025 Spring/Computer Vision with DL/LipReading_CV/data/video1/to/1370.mp4\n",
            " Skipping video: /Users/blag/Documents/UChicago MS/2025 Spring/Computer Vision with DL/LipReading_CV/data/video1/to/1370.mp4 (Invalid or too few frames)\n"
          ]
        },
        {
          "name": "stderr",
          "output_type": "stream",
          "text": [
            "OpenCV: Couldn't read video stream from file \"/Users/blag/Documents/UChicago MS/2025 Spring/Computer Vision with DL/LipReading_CV/data/video1/i/1251.mp4\"\n"
          ]
        },
        {
          "name": "stdout",
          "output_type": "stream",
          "text": [
            " Could not read frame in video: /Users/blag/Documents/UChicago MS/2025 Spring/Computer Vision with DL/LipReading_CV/data/video1/i/1251.mp4\n",
            " Skipping video: /Users/blag/Documents/UChicago MS/2025 Spring/Computer Vision with DL/LipReading_CV/data/video1/i/1251.mp4 (Invalid or too few frames)\n"
          ]
        },
        {
          "name": "stderr",
          "output_type": "stream",
          "text": [
            "OpenCV: Couldn't read video stream from file \"/Users/blag/Documents/UChicago MS/2025 Spring/Computer Vision with DL/LipReading_CV/data/video1/we/1452.mp4\"\n"
          ]
        },
        {
          "name": "stdout",
          "output_type": "stream",
          "text": [
            " Could not read frame in video: /Users/blag/Documents/UChicago MS/2025 Spring/Computer Vision with DL/LipReading_CV/data/video1/we/1452.mp4\n",
            " Skipping video: /Users/blag/Documents/UChicago MS/2025 Spring/Computer Vision with DL/LipReading_CV/data/video1/we/1452.mp4 (Invalid or too few frames)\n"
          ]
        },
        {
          "name": "stderr",
          "output_type": "stream",
          "text": [
            "OpenCV: Couldn't read video stream from file \"/Users/blag/Documents/UChicago MS/2025 Spring/Computer Vision with DL/LipReading_CV/data/video1/it/873.mp4\"\n"
          ]
        },
        {
          "name": "stdout",
          "output_type": "stream",
          "text": [
            " Could not read frame in video: /Users/blag/Documents/UChicago MS/2025 Spring/Computer Vision with DL/LipReading_CV/data/video1/it/873.mp4\n",
            " Skipping video: /Users/blag/Documents/UChicago MS/2025 Spring/Computer Vision with DL/LipReading_CV/data/video1/it/873.mp4 (Invalid or too few frames)\n"
          ]
        },
        {
          "name": "stderr",
          "output_type": "stream",
          "text": [
            "OpenCV: Couldn't read video stream from file \"/Users/blag/Documents/UChicago MS/2025 Spring/Computer Vision with DL/LipReading_CV/data/video1/an/616.mp4\"\n"
          ]
        },
        {
          "name": "stdout",
          "output_type": "stream",
          "text": [
            " Could not read frame in video: /Users/blag/Documents/UChicago MS/2025 Spring/Computer Vision with DL/LipReading_CV/data/video1/an/616.mp4\n",
            " Skipping video: /Users/blag/Documents/UChicago MS/2025 Spring/Computer Vision with DL/LipReading_CV/data/video1/an/616.mp4 (Invalid or too few frames)\n"
          ]
        },
        {
          "name": "stderr",
          "output_type": "stream",
          "text": [
            "OpenCV: Couldn't read video stream from file \"/Users/blag/Documents/UChicago MS/2025 Spring/Computer Vision with DL/LipReading_CV/data/video1/at/934.mp4\"\n"
          ]
        },
        {
          "name": "stdout",
          "output_type": "stream",
          "text": [
            " Could not read frame in video: /Users/blag/Documents/UChicago MS/2025 Spring/Computer Vision with DL/LipReading_CV/data/video1/at/934.mp4\n",
            " Skipping video: /Users/blag/Documents/UChicago MS/2025 Spring/Computer Vision with DL/LipReading_CV/data/video1/at/934.mp4 (Invalid or too few frames)\n"
          ]
        },
        {
          "name": "stderr",
          "output_type": "stream",
          "text": [
            "OpenCV: Couldn't read video stream from file \"/Users/blag/Documents/UChicago MS/2025 Spring/Computer Vision with DL/LipReading_CV/data/video1/in/1717.mp4\"\n"
          ]
        },
        {
          "name": "stdout",
          "output_type": "stream",
          "text": [
            " Could not read frame in video: /Users/blag/Documents/UChicago MS/2025 Spring/Computer Vision with DL/LipReading_CV/data/video1/in/1717.mp4\n",
            " Skipping video: /Users/blag/Documents/UChicago MS/2025 Spring/Computer Vision with DL/LipReading_CV/data/video1/in/1717.mp4 (Invalid or too few frames)\n"
          ]
        },
        {
          "name": "stderr",
          "output_type": "stream",
          "text": [
            "OpenCV: Couldn't read video stream from file \"/Users/blag/Documents/UChicago MS/2025 Spring/Computer Vision with DL/LipReading_CV/data/video1/of/1441.mp4\"\n"
          ]
        },
        {
          "name": "stdout",
          "output_type": "stream",
          "text": [
            " Could not read frame in video: /Users/blag/Documents/UChicago MS/2025 Spring/Computer Vision with DL/LipReading_CV/data/video1/of/1441.mp4\n",
            " Skipping video: /Users/blag/Documents/UChicago MS/2025 Spring/Computer Vision with DL/LipReading_CV/data/video1/of/1441.mp4 (Invalid or too few frames)\n"
          ]
        },
        {
          "name": "stderr",
          "output_type": "stream",
          "text": [
            "OpenCV: Couldn't read video stream from file \"/Users/blag/Documents/UChicago MS/2025 Spring/Computer Vision with DL/LipReading_CV/data/video1/of/584.mp4\"\n"
          ]
        },
        {
          "name": "stdout",
          "output_type": "stream",
          "text": [
            " Could not read frame in video: /Users/blag/Documents/UChicago MS/2025 Spring/Computer Vision with DL/LipReading_CV/data/video1/of/584.mp4\n",
            " Skipping video: /Users/blag/Documents/UChicago MS/2025 Spring/Computer Vision with DL/LipReading_CV/data/video1/of/584.mp4 (Invalid or too few frames)\n"
          ]
        },
        {
          "name": "stderr",
          "output_type": "stream",
          "text": [
            "OpenCV: Couldn't read video stream from file \"/Users/blag/Documents/UChicago MS/2025 Spring/Computer Vision with DL/LipReading_CV/data/video1/of/1122.mp4\"\n"
          ]
        },
        {
          "name": "stdout",
          "output_type": "stream",
          "text": [
            " Could not read frame in video: /Users/blag/Documents/UChicago MS/2025 Spring/Computer Vision with DL/LipReading_CV/data/video1/of/1122.mp4\n",
            " Skipping video: /Users/blag/Documents/UChicago MS/2025 Spring/Computer Vision with DL/LipReading_CV/data/video1/of/1122.mp4 (Invalid or too few frames)\n"
          ]
        },
        {
          "name": "stderr",
          "output_type": "stream",
          "text": [
            "OpenCV: Couldn't read video stream from file \"/Users/blag/Documents/UChicago MS/2025 Spring/Computer Vision with DL/LipReading_CV/data/video1/of/1114.mp4\"\n"
          ]
        },
        {
          "name": "stdout",
          "output_type": "stream",
          "text": [
            " Could not read frame in video: /Users/blag/Documents/UChicago MS/2025 Spring/Computer Vision with DL/LipReading_CV/data/video1/of/1114.mp4\n",
            " Skipping video: /Users/blag/Documents/UChicago MS/2025 Spring/Computer Vision with DL/LipReading_CV/data/video1/of/1114.mp4 (Invalid or too few frames)\n"
          ]
        },
        {
          "name": "stderr",
          "output_type": "stream",
          "text": [
            "OpenCV: Couldn't read video stream from file \"/Users/blag/Documents/UChicago MS/2025 Spring/Computer Vision with DL/LipReading_CV/data/video1/to/1414.mp4\"\n"
          ]
        },
        {
          "name": "stdout",
          "output_type": "stream",
          "text": [
            " Could not read frame in video: /Users/blag/Documents/UChicago MS/2025 Spring/Computer Vision with DL/LipReading_CV/data/video1/to/1414.mp4\n",
            " Skipping video: /Users/blag/Documents/UChicago MS/2025 Spring/Computer Vision with DL/LipReading_CV/data/video1/to/1414.mp4 (Invalid or too few frames)\n"
          ]
        },
        {
          "name": "stderr",
          "output_type": "stream",
          "text": [
            "OpenCV: Couldn't read video stream from file \"/Users/blag/Documents/UChicago MS/2025 Spring/Computer Vision with DL/LipReading_CV/data/video1/of/1145.mp4\"\n"
          ]
        },
        {
          "name": "stdout",
          "output_type": "stream",
          "text": [
            " Could not read frame in video: /Users/blag/Documents/UChicago MS/2025 Spring/Computer Vision with DL/LipReading_CV/data/video1/of/1145.mp4\n",
            " Skipping video: /Users/blag/Documents/UChicago MS/2025 Spring/Computer Vision with DL/LipReading_CV/data/video1/of/1145.mp4 (Invalid or too few frames)\n"
          ]
        },
        {
          "name": "stderr",
          "output_type": "stream",
          "text": [
            "OpenCV: Couldn't read video stream from file \"/Users/blag/Documents/UChicago MS/2025 Spring/Computer Vision with DL/LipReading_CV/data/video1/of/474.mp4\"\n"
          ]
        },
        {
          "name": "stdout",
          "output_type": "stream",
          "text": [
            " Could not read frame in video: /Users/blag/Documents/UChicago MS/2025 Spring/Computer Vision with DL/LipReading_CV/data/video1/of/474.mp4\n",
            " Skipping video: /Users/blag/Documents/UChicago MS/2025 Spring/Computer Vision with DL/LipReading_CV/data/video1/of/474.mp4 (Invalid or too few frames)\n"
          ]
        },
        {
          "name": "stderr",
          "output_type": "stream",
          "text": [
            "OpenCV: Couldn't read video stream from file \"/Users/blag/Documents/UChicago MS/2025 Spring/Computer Vision with DL/LipReading_CV/data/video1/to/1164.mp4\"\n"
          ]
        },
        {
          "name": "stdout",
          "output_type": "stream",
          "text": [
            " Could not read frame in video: /Users/blag/Documents/UChicago MS/2025 Spring/Computer Vision with DL/LipReading_CV/data/video1/to/1164.mp4\n",
            " Skipping video: /Users/blag/Documents/UChicago MS/2025 Spring/Computer Vision with DL/LipReading_CV/data/video1/to/1164.mp4 (Invalid or too few frames)\n"
          ]
        },
        {
          "name": "stderr",
          "output_type": "stream",
          "text": [
            "OpenCV: Couldn't read video stream from file \"/Users/blag/Documents/UChicago MS/2025 Spring/Computer Vision with DL/LipReading_CV/data/video1/10/1283.mp4\"\n"
          ]
        },
        {
          "name": "stdout",
          "output_type": "stream",
          "text": [
            " Could not read frame in video: /Users/blag/Documents/UChicago MS/2025 Spring/Computer Vision with DL/LipReading_CV/data/video1/10/1283.mp4\n",
            " Skipping video: /Users/blag/Documents/UChicago MS/2025 Spring/Computer Vision with DL/LipReading_CV/data/video1/10/1283.mp4 (Invalid or too few frames)\n",
            " Could not read frame in video: /Users/blag/Documents/UChicago MS/2025 Spring/Computer Vision with DL/LipReading_CV/data/video1/of/810.mp4\n",
            " Skipping video: /Users/blag/Documents/UChicago MS/2025 Spring/Computer Vision with DL/LipReading_CV/data/video1/of/810.mp4 (Invalid or too few frames)\n"
          ]
        },
        {
          "name": "stderr",
          "output_type": "stream",
          "text": [
            "OpenCV: Couldn't read video stream from file \"/Users/blag/Documents/UChicago MS/2025 Spring/Computer Vision with DL/LipReading_CV/data/video1/of/810.mp4\"\n",
            "OpenCV: Couldn't read video stream from file \"/Users/blag/Documents/UChicago MS/2025 Spring/Computer Vision with DL/LipReading_CV/data/video1/of/770.mp4\"\n"
          ]
        },
        {
          "name": "stdout",
          "output_type": "stream",
          "text": [
            " Could not read frame in video: /Users/blag/Documents/UChicago MS/2025 Spring/Computer Vision with DL/LipReading_CV/data/video1/of/770.mp4\n",
            " Skipping video: /Users/blag/Documents/UChicago MS/2025 Spring/Computer Vision with DL/LipReading_CV/data/video1/of/770.mp4 (Invalid or too few frames)\n"
          ]
        },
        {
          "name": "stderr",
          "output_type": "stream",
          "text": [
            "OpenCV: Couldn't read video stream from file \"/Users/blag/Documents/UChicago MS/2025 Spring/Computer Vision with DL/LipReading_CV/data/video1/of/960.mp4\"\n",
            "OpenCV: Couldn't read video stream from file \"/Users/blag/Documents/UChicago MS/2025 Spring/Computer Vision with DL/LipReading_CV/data/video1/if/766.mp4\"\n"
          ]
        },
        {
          "name": "stdout",
          "output_type": "stream",
          "text": [
            " Could not read frame in video: /Users/blag/Documents/UChicago MS/2025 Spring/Computer Vision with DL/LipReading_CV/data/video1/of/960.mp4\n",
            " Skipping video: /Users/blag/Documents/UChicago MS/2025 Spring/Computer Vision with DL/LipReading_CV/data/video1/of/960.mp4 (Invalid or too few frames)\n",
            " Could not read frame in video: /Users/blag/Documents/UChicago MS/2025 Spring/Computer Vision with DL/LipReading_CV/data/video1/if/766.mp4\n",
            " Skipping video: /Users/blag/Documents/UChicago MS/2025 Spring/Computer Vision with DL/LipReading_CV/data/video1/if/766.mp4 (Invalid or too few frames)\n",
            "\u001b[1m53/53\u001b[0m \u001b[32m━━━━━━━━━━━━━━━━━━━━\u001b[0m\u001b[37m\u001b[0m \u001b[1m849s\u001b[0m 16s/step - accuracy: 0.0044 - loss: 0.0188 - val_accuracy: 0.0053 - val_loss: 0.0207\n",
            "Epoch 3/50\n"
          ]
        },
        {
          "name": "stderr",
          "output_type": "stream",
          "text": [
            "2025-04-23 17:03:47.417623: I tensorflow/core/framework/local_rendezvous.cc:426] Local rendezvous recv item cancelled. Key hash: 823709620357693600\n",
            "2025-04-23 17:03:47.417652: I tensorflow/core/framework/local_rendezvous.cc:426] Local rendezvous recv item cancelled. Key hash: 11237179238703235368\n",
            "2025-04-23 17:03:47.417659: I tensorflow/core/framework/local_rendezvous.cc:426] Local rendezvous recv item cancelled. Key hash: 4796588805928813386\n",
            "2025-04-23 17:03:47.417663: I tensorflow/core/framework/local_rendezvous.cc:407] Local rendezvous is aborting with status: OUT_OF_RANGE: End of sequence\n",
            "\t [[{{node IteratorGetNext}}]]\n",
            "\t [[StatefulPartitionedCall/functional_16_1/residual_main_1_2/sequential_6_1/conv2_plus1d_4_1/sequential_5_1/conv3d_9_1/convolution/ReadVariableOp/_61]]\n",
            "2025-04-23 17:03:47.417673: I tensorflow/core/framework/local_rendezvous.cc:426] Local rendezvous recv item cancelled. Key hash: 14904102309511840918\n",
            "2025-04-23 17:03:47.417677: I tensorflow/core/framework/local_rendezvous.cc:426] Local rendezvous recv item cancelled. Key hash: 8077168388745060453\n",
            "2025-04-23 17:03:47.417679: I tensorflow/core/framework/local_rendezvous.cc:426] Local rendezvous recv item cancelled. Key hash: 15894728674144306112\n",
            "2025-04-23 17:03:47.417682: I tensorflow/core/framework/local_rendezvous.cc:426] Local rendezvous recv item cancelled. Key hash: 16697507669052727009\n",
            "2025-04-23 17:03:47.417684: I tensorflow/core/framework/local_rendezvous.cc:426] Local rendezvous recv item cancelled. Key hash: 5909436340715915176\n",
            "2025-04-23 17:03:47.417686: I tensorflow/core/framework/local_rendezvous.cc:426] Local rendezvous recv item cancelled. Key hash: 6993587253166710543\n",
            "2025-04-23 17:03:47.417687: I tensorflow/core/framework/local_rendezvous.cc:426] Local rendezvous recv item cancelled. Key hash: 10427378802699405972\n",
            "2025-04-23 17:03:47.417690: I tensorflow/core/framework/local_rendezvous.cc:426] Local rendezvous recv item cancelled. Key hash: 3505650311043636557\n",
            "2025-04-23 17:03:47.417692: I tensorflow/core/framework/local_rendezvous.cc:426] Local rendezvous recv item cancelled. Key hash: 15837215331699149312\n",
            "2025-04-23 17:03:47.417694: I tensorflow/core/framework/local_rendezvous.cc:426] Local rendezvous recv item cancelled. Key hash: 1629491765799871869\n",
            "2025-04-23 17:03:47.417695: I tensorflow/core/framework/local_rendezvous.cc:426] Local rendezvous recv item cancelled. Key hash: 17823122615755508660\n",
            "2025-04-23 17:03:47.417697: I tensorflow/core/framework/local_rendezvous.cc:426] Local rendezvous recv item cancelled. Key hash: 11258190512633644997\n",
            "2025-04-23 17:03:47.417699: I tensorflow/core/framework/local_rendezvous.cc:426] Local rendezvous recv item cancelled. Key hash: 12787404794116181240\n",
            "2025-04-23 17:03:47.417701: I tensorflow/core/framework/local_rendezvous.cc:426] Local rendezvous recv item cancelled. Key hash: 8158016698962715317\n",
            "2025-04-23 17:03:47.417702: I tensorflow/core/framework/local_rendezvous.cc:426] Local rendezvous recv item cancelled. Key hash: 13119647137628393426\n",
            "2025-04-23 17:03:47.417704: I tensorflow/core/framework/local_rendezvous.cc:426] Local rendezvous recv item cancelled. Key hash: 6734363406224935299\n",
            "2025-04-23 17:03:47.417705: I tensorflow/core/framework/local_rendezvous.cc:426] Local rendezvous recv item cancelled. Key hash: 11353848791523758074\n",
            "2025-04-23 17:03:47.417708: I tensorflow/core/framework/local_rendezvous.cc:426] Local rendezvous recv item cancelled. Key hash: 9442524955709319741\n",
            "2025-04-23 17:03:47.417709: I tensorflow/core/framework/local_rendezvous.cc:426] Local rendezvous recv item cancelled. Key hash: 11264067761160049662\n",
            "2025-04-23 17:03:47.417711: I tensorflow/core/framework/local_rendezvous.cc:426] Local rendezvous recv item cancelled. Key hash: 10273744365220047513\n",
            "2025-04-23 17:03:47.417713: I tensorflow/core/framework/local_rendezvous.cc:426] Local rendezvous recv item cancelled. Key hash: 7789717365363135284\n",
            "2025-04-23 17:03:47.417715: I tensorflow/core/framework/local_rendezvous.cc:426] Local rendezvous recv item cancelled. Key hash: 9450689871647026237\n",
            "2025-04-23 17:03:47.417717: I tensorflow/core/framework/local_rendezvous.cc:426] Local rendezvous recv item cancelled. Key hash: 2325744772278228708\n",
            "2025-04-23 17:03:47.417719: I tensorflow/core/framework/local_rendezvous.cc:426] Local rendezvous recv item cancelled. Key hash: 16461033291469312855\n",
            "2025-04-23 17:03:47.417721: I tensorflow/core/framework/local_rendezvous.cc:426] Local rendezvous recv item cancelled. Key hash: 313782265382377822\n",
            "2025-04-23 17:03:47.417723: I tensorflow/core/framework/local_rendezvous.cc:426] Local rendezvous recv item cancelled. Key hash: 6369895286532551979\n",
            "2025-04-23 17:03:47.417724: I tensorflow/core/framework/local_rendezvous.cc:426] Local rendezvous recv item cancelled. Key hash: 3021968092726501374\n",
            "2025-04-23 17:03:47.417727: I tensorflow/core/framework/local_rendezvous.cc:426] Local rendezvous recv item cancelled. Key hash: 13453454556487589660\n",
            "2025-04-23 17:03:47.417730: I tensorflow/core/framework/local_rendezvous.cc:426] Local rendezvous recv item cancelled. Key hash: 13660521204358813195\n",
            "2025-04-23 17:03:47.417734: I tensorflow/core/framework/local_rendezvous.cc:426] Local rendezvous recv item cancelled. Key hash: 13186826181073458921\n",
            "2025-04-23 17:03:47.417736: I tensorflow/core/framework/local_rendezvous.cc:426] Local rendezvous recv item cancelled. Key hash: 2143570844493079194\n",
            "2025-04-23 17:03:47.417750: I tensorflow/core/framework/local_rendezvous.cc:426] Local rendezvous recv item cancelled. Key hash: 5908876780261865823\n",
            "2025-04-23 17:03:47.417761: I tensorflow/core/framework/local_rendezvous.cc:426] Local rendezvous recv item cancelled. Key hash: 1316756286958806148\n",
            "2025-04-23 17:03:47.417775: I tensorflow/core/framework/local_rendezvous.cc:426] Local rendezvous recv item cancelled. Key hash: 4222192129809152819\n",
            "2025-04-23 17:03:47.417781: I tensorflow/core/framework/local_rendezvous.cc:426] Local rendezvous recv item cancelled. Key hash: 15806429282266570746\n",
            "2025-04-23 17:03:47.417783: I tensorflow/core/framework/local_rendezvous.cc:426] Local rendezvous recv item cancelled. Key hash: 12209150014450351249\n",
            "2025-04-23 17:03:47.417787: I tensorflow/core/framework/local_rendezvous.cc:426] Local rendezvous recv item cancelled. Key hash: 15698429944618493792\n",
            "2025-04-23 17:03:47.417788: I tensorflow/core/framework/local_rendezvous.cc:426] Local rendezvous recv item cancelled. Key hash: 1224763049518226767\n",
            "2025-04-23 17:03:47.417791: I tensorflow/core/framework/local_rendezvous.cc:426] Local rendezvous recv item cancelled. Key hash: 11338226789238975002\n",
            "2025-04-23 17:03:47.417792: I tensorflow/core/framework/local_rendezvous.cc:426] Local rendezvous recv item cancelled. Key hash: 2284057628064857421\n",
            "2025-04-23 17:03:47.417795: I tensorflow/core/framework/local_rendezvous.cc:426] Local rendezvous recv item cancelled. Key hash: 2191002296433700464\n",
            "2025-04-23 17:03:47.417796: I tensorflow/core/framework/local_rendezvous.cc:426] Local rendezvous recv item cancelled. Key hash: 6475063507634618361\n",
            "2025-04-23 17:03:47.417798: I tensorflow/core/framework/local_rendezvous.cc:426] Local rendezvous recv item cancelled. Key hash: 2942214780824989380\n",
            "2025-04-23 17:03:47.417802: I tensorflow/core/framework/local_rendezvous.cc:426] Local rendezvous recv item cancelled. Key hash: 15562167495790882934\n",
            "2025-04-23 17:03:47.417805: I tensorflow/core/framework/local_rendezvous.cc:426] Local rendezvous recv item cancelled. Key hash: 1196045291940638986\n",
            "2025-04-23 17:03:47.417808: I tensorflow/core/framework/local_rendezvous.cc:426] Local rendezvous recv item cancelled. Key hash: 13530406318931947506\n",
            "2025-04-23 17:03:47.417811: I tensorflow/core/framework/local_rendezvous.cc:426] Local rendezvous recv item cancelled. Key hash: 663403020555711538\n",
            "2025-04-23 17:03:47.417815: I tensorflow/core/framework/local_rendezvous.cc:426] Local rendezvous recv item cancelled. Key hash: 16544353310570853872\n",
            "2025-04-23 17:03:47.417818: I tensorflow/core/framework/local_rendezvous.cc:426] Local rendezvous recv item cancelled. Key hash: 7195450219371558428\n",
            "2025-04-23 17:03:47.417821: I tensorflow/core/framework/local_rendezvous.cc:426] Local rendezvous recv item cancelled. Key hash: 4162038170072069616\n",
            "2025-04-23 17:03:47.417824: I tensorflow/core/framework/local_rendezvous.cc:426] Local rendezvous recv item cancelled. Key hash: 6236131304215067218\n",
            "2025-04-23 17:03:47.417827: I tensorflow/core/framework/local_rendezvous.cc:426] Local rendezvous recv item cancelled. Key hash: 18395627726604680260\n",
            "2025-04-23 17:03:47.417830: I tensorflow/core/framework/local_rendezvous.cc:426] Local rendezvous recv item cancelled. Key hash: 6694520215818764008\n"
          ]
        },
        {
          "name": "stdout",
          "output_type": "stream",
          "text": [
            " Could not read frame in video: /Users/blag/Documents/UChicago MS/2025 Spring/Computer Vision with DL/LipReading_CV/data/video1/we/1452.mp4\n",
            " Skipping video: /Users/blag/Documents/UChicago MS/2025 Spring/Computer Vision with DL/LipReading_CV/data/video1/we/1452.mp4 (Invalid or too few frames)\n"
          ]
        },
        {
          "name": "stderr",
          "output_type": "stream",
          "text": [
            "OpenCV: Couldn't read video stream from file \"/Users/blag/Documents/UChicago MS/2025 Spring/Computer Vision with DL/LipReading_CV/data/video1/we/1452.mp4\"\n"
          ]
        },
        {
          "name": "stdout",
          "output_type": "stream",
          "text": [
            "\u001b[1m 1/53\u001b[0m \u001b[37m━━━━━━━━━━━━━━━━━━━━\u001b[0m \u001b[1m11:57\u001b[0m 14s/step - accuracy: 0.0000e+00 - loss: 0.0000e+00 Could not read frame in video: /Users/blag/Documents/UChicago MS/2025 Spring/Computer Vision with DL/LipReading_CV/data/video1/or/1177.mp4\n",
            " Skipping video: /Users/blag/Documents/UChicago MS/2025 Spring/Computer Vision with DL/LipReading_CV/data/video1/or/1177.mp4 (Invalid or too few frames)\n"
          ]
        },
        {
          "name": "stderr",
          "output_type": "stream",
          "text": [
            "OpenCV: Couldn't read video stream from file \"/Users/blag/Documents/UChicago MS/2025 Spring/Computer Vision with DL/LipReading_CV/data/video1/or/1177.mp4\"\n",
            "OpenCV: Couldn't read video stream from file \"/Users/blag/Documents/UChicago MS/2025 Spring/Computer Vision with DL/LipReading_CV/data/video1/of/770.mp4\"\n"
          ]
        },
        {
          "name": "stdout",
          "output_type": "stream",
          "text": [
            " Could not read frame in video: /Users/blag/Documents/UChicago MS/2025 Spring/Computer Vision with DL/LipReading_CV/data/video1/of/770.mp4\n",
            " Skipping video: /Users/blag/Documents/UChicago MS/2025 Spring/Computer Vision with DL/LipReading_CV/data/video1/of/770.mp4 (Invalid or too few frames)\n",
            "\u001b[1m 2/53\u001b[0m \u001b[37m━━━━━━━━━━━━━━━━━━━━\u001b[0m \u001b[1m10:43\u001b[0m 13s/step - accuracy: 0.0000e+00 - loss: 0.0000e+00"
          ]
        },
        {
          "name": "stderr",
          "output_type": "stream",
          "text": [
            "OpenCV: Couldn't read video stream from file \"/Users/blag/Documents/UChicago MS/2025 Spring/Computer Vision with DL/LipReading_CV/data/video1/at/934.mp4\"\n"
          ]
        },
        {
          "name": "stdout",
          "output_type": "stream",
          "text": [
            " Could not read frame in video: /Users/blag/Documents/UChicago MS/2025 Spring/Computer Vision with DL/LipReading_CV/data/video1/at/934.mp4\n",
            " Skipping video: /Users/blag/Documents/UChicago MS/2025 Spring/Computer Vision with DL/LipReading_CV/data/video1/at/934.mp4 (Invalid or too few frames)\n",
            "\u001b[1m 4/53\u001b[0m \u001b[32m━\u001b[0m\u001b[37m━━━━━━━━━━━━━━━━━━━\u001b[0m \u001b[1m10:19\u001b[0m 13s/step - accuracy: 0.0020 - loss: 0.0038         Could not read frame in video: /Users/blag/Documents/UChicago MS/2025 Spring/Computer Vision with DL/LipReading_CV/data/video1/i/1251.mp4\n",
            " Skipping video: /Users/blag/Documents/UChicago MS/2025 Spring/Computer Vision with DL/LipReading_CV/data/video1/i/1251.mp4 (Invalid or too few frames)\n"
          ]
        },
        {
          "name": "stderr",
          "output_type": "stream",
          "text": [
            "OpenCV: Couldn't read video stream from file \"/Users/blag/Documents/UChicago MS/2025 Spring/Computer Vision with DL/LipReading_CV/data/video1/i/1251.mp4\"\n"
          ]
        },
        {
          "name": "stdout",
          "output_type": "stream",
          "text": [
            "\u001b[1m 5/53\u001b[0m \u001b[32m━\u001b[0m\u001b[37m━━━━━━━━━━━━━━━━━━━\u001b[0m \u001b[1m10:14\u001b[0m 13s/step - accuracy: 0.0041 - loss: 0.0079"
          ]
        },
        {
          "name": "stderr",
          "output_type": "stream",
          "text": [
            "OpenCV: Couldn't read video stream from file \"/Users/blag/Documents/UChicago MS/2025 Spring/Computer Vision with DL/LipReading_CV/data/video1/to/1414.mp4\"\n"
          ]
        },
        {
          "name": "stdout",
          "output_type": "stream",
          "text": [
            " Could not read frame in video: /Users/blag/Documents/UChicago MS/2025 Spring/Computer Vision with DL/LipReading_CV/data/video1/to/1414.mp4\n",
            " Skipping video: /Users/blag/Documents/UChicago MS/2025 Spring/Computer Vision with DL/LipReading_CV/data/video1/to/1414.mp4 (Invalid or too few frames)\n",
            "\u001b[1m 6/53\u001b[0m \u001b[32m━━\u001b[0m\u001b[37m━━━━━━━━━━━━━━━━━━\u001b[0m \u001b[1m9:58\u001b[0m 13s/step - accuracy: 0.0051 - loss: 0.0099 "
          ]
        },
        {
          "name": "stderr",
          "output_type": "stream",
          "text": [
            "OpenCV: Couldn't read video stream from file \"/Users/blag/Documents/UChicago MS/2025 Spring/Computer Vision with DL/LipReading_CV/data/video1/of/1680.mp4\"\n"
          ]
        },
        {
          "name": "stdout",
          "output_type": "stream",
          "text": [
            " Could not read frame in video: /Users/blag/Documents/UChicago MS/2025 Spring/Computer Vision with DL/LipReading_CV/data/video1/of/1680.mp4\n",
            " Skipping video: /Users/blag/Documents/UChicago MS/2025 Spring/Computer Vision with DL/LipReading_CV/data/video1/of/1680.mp4 (Invalid or too few frames)\n"
          ]
        },
        {
          "name": "stderr",
          "output_type": "stream",
          "text": [
            "OpenCV: Couldn't read video stream from file \"/Users/blag/Documents/UChicago MS/2025 Spring/Computer Vision with DL/LipReading_CV/data/video1/of/474.mp4\"\n"
          ]
        },
        {
          "name": "stdout",
          "output_type": "stream",
          "text": [
            " Could not read frame in video: /Users/blag/Documents/UChicago MS/2025 Spring/Computer Vision with DL/LipReading_CV/data/video1/of/474.mp4\n",
            " Skipping video: /Users/blag/Documents/UChicago MS/2025 Spring/Computer Vision with DL/LipReading_CV/data/video1/of/474.mp4 (Invalid or too few frames)\n",
            "\u001b[1m 7/53\u001b[0m \u001b[32m━━\u001b[0m\u001b[37m━━━━━━━━━━━━━━━━━━\u001b[0m \u001b[1m9:40\u001b[0m 13s/step - accuracy: 0.0057 - loss: 0.0110"
          ]
        },
        {
          "name": "stderr",
          "output_type": "stream",
          "text": [
            "OpenCV: Couldn't read video stream from file \"/Users/blag/Documents/UChicago MS/2025 Spring/Computer Vision with DL/LipReading_CV/data/video1/to/1181.mp4\"\n"
          ]
        },
        {
          "name": "stdout",
          "output_type": "stream",
          "text": [
            " Could not read frame in video: /Users/blag/Documents/UChicago MS/2025 Spring/Computer Vision with DL/LipReading_CV/data/video1/to/1181.mp4\n",
            " Skipping video: /Users/blag/Documents/UChicago MS/2025 Spring/Computer Vision with DL/LipReading_CV/data/video1/to/1181.mp4 (Invalid or too few frames)\n",
            "\u001b[1m10/53\u001b[0m \u001b[32m━━━\u001b[0m\u001b[37m━━━━━━━━━━━━━━━━━\u001b[0m \u001b[1m9:06\u001b[0m 13s/step - accuracy: 0.0064 - loss: 0.0155 Could not read frame in video: /Users/blag/Documents/UChicago MS/2025 Spring/Computer Vision with DL/LipReading_CV/data/video1/of/1122.mp4\n",
            " Skipping video: /Users/blag/Documents/UChicago MS/2025 Spring/Computer Vision with DL/LipReading_CV/data/video1/of/1122.mp4 (Invalid or too few frames)\n",
            " Could not read frame in video: /Users/blag/Documents/UChicago MS/2025 Spring/Computer Vision with DL/LipReading_CV/data/video1/an/616.mp4\n",
            " Skipping video: /Users/blag/Documents/UChicago MS/2025 Spring/Computer Vision with DL/LipReading_CV/data/video1/an/616.mp4 (Invalid or too few frames)\n"
          ]
        },
        {
          "name": "stderr",
          "output_type": "stream",
          "text": [
            "OpenCV: Couldn't read video stream from file \"/Users/blag/Documents/UChicago MS/2025 Spring/Computer Vision with DL/LipReading_CV/data/video1/of/1122.mp4\"\n",
            "OpenCV: Couldn't read video stream from file \"/Users/blag/Documents/UChicago MS/2025 Spring/Computer Vision with DL/LipReading_CV/data/video1/an/616.mp4\"\n"
          ]
        },
        {
          "name": "stdout",
          "output_type": "stream",
          "text": [
            "\u001b[1m13/53\u001b[0m \u001b[32m━━━━\u001b[0m\u001b[37m━━━━━━━━━━━━━━━━\u001b[0m \u001b[1m8:30\u001b[0m 13s/step - accuracy: 0.0071 - loss: 0.0219"
          ]
        },
        {
          "name": "stderr",
          "output_type": "stream",
          "text": [
            "OpenCV: Couldn't read video stream from file \"/Users/blag/Documents/UChicago MS/2025 Spring/Computer Vision with DL/LipReading_CV/data/video1/of/1114.mp4\"\n"
          ]
        },
        {
          "name": "stdout",
          "output_type": "stream",
          "text": [
            " Could not read frame in video: /Users/blag/Documents/UChicago MS/2025 Spring/Computer Vision with DL/LipReading_CV/data/video1/of/1114.mp4\n",
            " Skipping video: /Users/blag/Documents/UChicago MS/2025 Spring/Computer Vision with DL/LipReading_CV/data/video1/of/1114.mp4 (Invalid or too few frames)\n",
            "\u001b[1m15/53\u001b[0m \u001b[32m━━━━━\u001b[0m\u001b[37m━━━━━━━━━━━━━━━\u001b[0m \u001b[1m8:04\u001b[0m 13s/step - accuracy: 0.0073 - loss: 0.0239 Could not read frame in video: /Users/blag/Documents/UChicago MS/2025 Spring/Computer Vision with DL/LipReading_CV/data/video1/of/960.mp4\n",
            " Skipping video: /Users/blag/Documents/UChicago MS/2025 Spring/Computer Vision with DL/LipReading_CV/data/video1/of/960.mp4 (Invalid or too few frames)\n"
          ]
        },
        {
          "name": "stderr",
          "output_type": "stream",
          "text": [
            "OpenCV: Couldn't read video stream from file \"/Users/blag/Documents/UChicago MS/2025 Spring/Computer Vision with DL/LipReading_CV/data/video1/of/960.mp4\"\n"
          ]
        },
        {
          "name": "stdout",
          "output_type": "stream",
          "text": [
            "\u001b[1m16/53\u001b[0m \u001b[32m━━━━━━\u001b[0m\u001b[37m━━━━━━━━━━━━━━\u001b[0m \u001b[1m7:52\u001b[0m 13s/step - accuracy: 0.0073 - loss: 0.0245"
          ]
        },
        {
          "name": "stderr",
          "output_type": "stream",
          "text": [
            "OpenCV: Couldn't read video stream from file \"/Users/blag/Documents/UChicago MS/2025 Spring/Computer Vision with DL/LipReading_CV/data/video1/to/1164.mp4\"\n"
          ]
        },
        {
          "name": "stdout",
          "output_type": "stream",
          "text": [
            " Could not read frame in video: /Users/blag/Documents/UChicago MS/2025 Spring/Computer Vision with DL/LipReading_CV/data/video1/to/1164.mp4\n",
            " Skipping video: /Users/blag/Documents/UChicago MS/2025 Spring/Computer Vision with DL/LipReading_CV/data/video1/to/1164.mp4 (Invalid or too few frames)\n",
            "\u001b[1m17/53\u001b[0m \u001b[32m━━━━━━\u001b[0m\u001b[37m━━━━━━━━━━━━━━\u001b[0m \u001b[1m7:40\u001b[0m 13s/step - accuracy: 0.0073 - loss: 0.0249 Could not read frame in video: /Users/blag/Documents/UChicago MS/2025 Spring/Computer Vision with DL/LipReading_CV/data/video1/in/751.mp4\n",
            " Skipping video: /Users/blag/Documents/UChicago MS/2025 Spring/Computer Vision with DL/LipReading_CV/data/video1/in/751.mp4 (Invalid or too few frames)\n"
          ]
        },
        {
          "name": "stderr",
          "output_type": "stream",
          "text": [
            "OpenCV: Couldn't read video stream from file \"/Users/blag/Documents/UChicago MS/2025 Spring/Computer Vision with DL/LipReading_CV/data/video1/in/751.mp4\"\n"
          ]
        },
        {
          "name": "stdout",
          "output_type": "stream",
          "text": [
            "\u001b[1m19/53\u001b[0m \u001b[32m━━━━━━━\u001b[0m\u001b[37m━━━━━━━━━━━━━\u001b[0m \u001b[1m7:21\u001b[0m 13s/step - accuracy: 0.0073 - loss: 0.0253 Could not read frame in video: /Users/blag/Documents/UChicago MS/2025 Spring/Computer Vision with DL/LipReading_CV/data/video1/of/802.mp4\n",
            " Skipping video: /Users/blag/Documents/UChicago MS/2025 Spring/Computer Vision with DL/LipReading_CV/data/video1/of/802.mp4 (Invalid or too few frames)\n"
          ]
        },
        {
          "name": "stderr",
          "output_type": "stream",
          "text": [
            "OpenCV: Couldn't read video stream from file \"/Users/blag/Documents/UChicago MS/2025 Spring/Computer Vision with DL/LipReading_CV/data/video1/of/802.mp4\"\n"
          ]
        },
        {
          "name": "stdout",
          "output_type": "stream",
          "text": [
            "\u001b[1m22/53\u001b[0m \u001b[32m━━━━━━━━\u001b[0m\u001b[37m━━━━━━━━━━━━\u001b[0m \u001b[1m6:43\u001b[0m 13s/step - accuracy: 0.0071 - loss: 0.0254"
          ]
        },
        {
          "name": "stderr",
          "output_type": "stream",
          "text": [
            "OpenCV: Couldn't read video stream from file \"/Users/blag/Documents/UChicago MS/2025 Spring/Computer Vision with DL/LipReading_CV/data/video1/of/810.mp4\"\n"
          ]
        },
        {
          "name": "stdout",
          "output_type": "stream",
          "text": [
            " Could not read frame in video: /Users/blag/Documents/UChicago MS/2025 Spring/Computer Vision with DL/LipReading_CV/data/video1/of/810.mp4\n",
            " Skipping video: /Users/blag/Documents/UChicago MS/2025 Spring/Computer Vision with DL/LipReading_CV/data/video1/of/810.mp4 (Invalid or too few frames)\n",
            "\u001b[1m24/53\u001b[0m \u001b[32m━━━━━━━━━\u001b[0m\u001b[37m━━━━━━━━━━━\u001b[0m \u001b[1m6:16\u001b[0m 13s/step - accuracy: 0.0070 - loss: 0.0252 Could not read frame in video: /Users/blag/Documents/UChicago MS/2025 Spring/Computer Vision with DL/LipReading_CV/data/video1/at/656.mp4\n",
            " Skipping video: /Users/blag/Documents/UChicago MS/2025 Spring/Computer Vision with DL/LipReading_CV/data/video1/at/656.mp4 (Invalid or too few frames)\n"
          ]
        },
        {
          "name": "stderr",
          "output_type": "stream",
          "text": [
            "OpenCV: Couldn't read video stream from file \"/Users/blag/Documents/UChicago MS/2025 Spring/Computer Vision with DL/LipReading_CV/data/video1/at/656.mp4\"\n"
          ]
        },
        {
          "name": "stdout",
          "output_type": "stream",
          "text": [
            "\u001b[1m27/53\u001b[0m \u001b[32m━━━━━━━━━━\u001b[0m\u001b[37m━━━━━━━━━━\u001b[0m \u001b[1m5:38\u001b[0m 13s/step - accuracy: 0.0068 - loss: 0.0249"
          ]
        },
        {
          "name": "stderr",
          "output_type": "stream",
          "text": [
            "OpenCV: Couldn't read video stream from file \"/Users/blag/Documents/UChicago MS/2025 Spring/Computer Vision with DL/LipReading_CV/data/video1/of/681.mp4\"\n"
          ]
        },
        {
          "name": "stdout",
          "output_type": "stream",
          "text": [
            " Could not read frame in video: /Users/blag/Documents/UChicago MS/2025 Spring/Computer Vision with DL/LipReading_CV/data/video1/of/681.mp4\n",
            " Skipping video: /Users/blag/Documents/UChicago MS/2025 Spring/Computer Vision with DL/LipReading_CV/data/video1/of/681.mp4 (Invalid or too few frames)\n"
          ]
        },
        {
          "name": "stderr",
          "output_type": "stream",
          "text": [
            "OpenCV: Couldn't read video stream from file \"/Users/blag/Documents/UChicago MS/2025 Spring/Computer Vision with DL/LipReading_CV/data/video1/an/686.mp4\"\n"
          ]
        },
        {
          "name": "stdout",
          "output_type": "stream",
          "text": [
            " Could not read frame in video: /Users/blag/Documents/UChicago MS/2025 Spring/Computer Vision with DL/LipReading_CV/data/video1/an/686.mp4\n",
            " Skipping video: /Users/blag/Documents/UChicago MS/2025 Spring/Computer Vision with DL/LipReading_CV/data/video1/an/686.mp4 (Invalid or too few frames)\n",
            " Could not read frame in video: /Users/blag/Documents/UChicago MS/2025 Spring/Computer Vision with DL/LipReading_CV/data/video1/in/1717.mp4\n",
            " Skipping video: /Users/blag/Documents/UChicago MS/2025 Spring/Computer Vision with DL/LipReading_CV/data/video1/in/1717.mp4 (Invalid or too few frames)\n"
          ]
        },
        {
          "name": "stderr",
          "output_type": "stream",
          "text": [
            "OpenCV: Couldn't read video stream from file \"/Users/blag/Documents/UChicago MS/2025 Spring/Computer Vision with DL/LipReading_CV/data/video1/in/1717.mp4\"\n"
          ]
        },
        {
          "name": "stdout",
          "output_type": "stream",
          "text": [
            "\u001b[1m31/53\u001b[0m \u001b[32m━━━━━━━━━━━\u001b[0m\u001b[37m━━━━━━━━━\u001b[0m \u001b[1m4:45\u001b[0m 13s/step - accuracy: 0.0068 - loss: 0.0250 Could not read frame in video: /Users/blag/Documents/UChicago MS/2025 Spring/Computer Vision with DL/LipReading_CV/data/video1/of/1441.mp4\n",
            " Skipping video: /Users/blag/Documents/UChicago MS/2025 Spring/Computer Vision with DL/LipReading_CV/data/video1/of/1441.mp4 (Invalid or too few frames)\n"
          ]
        },
        {
          "name": "stderr",
          "output_type": "stream",
          "text": [
            "OpenCV: Couldn't read video stream from file \"/Users/blag/Documents/UChicago MS/2025 Spring/Computer Vision with DL/LipReading_CV/data/video1/of/1441.mp4\"\n",
            "OpenCV: Couldn't read video stream from file \"/Users/blag/Documents/UChicago MS/2025 Spring/Computer Vision with DL/LipReading_CV/data/video1/it/873.mp4\"\n"
          ]
        },
        {
          "name": "stdout",
          "output_type": "stream",
          "text": [
            " Could not read frame in video: /Users/blag/Documents/UChicago MS/2025 Spring/Computer Vision with DL/LipReading_CV/data/video1/it/873.mp4\n",
            " Skipping video: /Users/blag/Documents/UChicago MS/2025 Spring/Computer Vision with DL/LipReading_CV/data/video1/it/873.mp4 (Invalid or too few frames)\n",
            "\u001b[1m32/53\u001b[0m \u001b[32m━━━━━━━━━━━━\u001b[0m\u001b[37m━━━━━━━━\u001b[0m \u001b[1m4:32\u001b[0m 13s/step - accuracy: 0.0068 - loss: 0.0250"
          ]
        },
        {
          "name": "stderr",
          "output_type": "stream",
          "text": [
            "OpenCV: Couldn't read video stream from file \"/Users/blag/Documents/UChicago MS/2025 Spring/Computer Vision with DL/LipReading_CV/data/video1/of/584.mp4\"\n"
          ]
        },
        {
          "name": "stdout",
          "output_type": "stream",
          "text": [
            " Could not read frame in video: /Users/blag/Documents/UChicago MS/2025 Spring/Computer Vision with DL/LipReading_CV/data/video1/of/584.mp4\n",
            " Skipping video: /Users/blag/Documents/UChicago MS/2025 Spring/Computer Vision with DL/LipReading_CV/data/video1/of/584.mp4 (Invalid or too few frames)\n",
            "\u001b[1m33/53\u001b[0m \u001b[32m━━━━━━━━━━━━\u001b[0m\u001b[37m━━━━━━━━\u001b[0m \u001b[1m4:19\u001b[0m 13s/step - accuracy: 0.0068 - loss: 0.0250 Could not read frame in video: /Users/blag/Documents/UChicago MS/2025 Spring/Computer Vision with DL/LipReading_CV/data/video1/10/1283.mp4\n",
            " Skipping video: /Users/blag/Documents/UChicago MS/2025 Spring/Computer Vision with DL/LipReading_CV/data/video1/10/1283.mp4 (Invalid or too few frames)\n"
          ]
        },
        {
          "name": "stderr",
          "output_type": "stream",
          "text": [
            "OpenCV: Couldn't read video stream from file \"/Users/blag/Documents/UChicago MS/2025 Spring/Computer Vision with DL/LipReading_CV/data/video1/10/1283.mp4\"\n"
          ]
        },
        {
          "name": "stdout",
          "output_type": "stream",
          "text": [
            "\u001b[1m35/53\u001b[0m \u001b[32m━━━━━━━━━━━━━\u001b[0m\u001b[37m━━━━━━━\u001b[0m \u001b[1m3:53\u001b[0m 13s/step - accuracy: 0.0068 - loss: 0.0249 Could not read frame in video: /Users/blag/Documents/UChicago MS/2025 Spring/Computer Vision with DL/LipReading_CV/data/video1/of/300.mp4\n",
            " Skipping video: /Users/blag/Documents/UChicago MS/2025 Spring/Computer Vision with DL/LipReading_CV/data/video1/of/300.mp4 (Invalid or too few frames)\n"
          ]
        },
        {
          "name": "stderr",
          "output_type": "stream",
          "text": [
            "OpenCV: Couldn't read video stream from file \"/Users/blag/Documents/UChicago MS/2025 Spring/Computer Vision with DL/LipReading_CV/data/video1/of/300.mp4\"\n"
          ]
        },
        {
          "name": "stdout",
          "output_type": "stream",
          "text": [
            "\u001b[1m36/53\u001b[0m \u001b[32m━━━━━━━━━━━━━\u001b[0m\u001b[37m━━━━━━━\u001b[0m \u001b[1m3:39\u001b[0m 13s/step - accuracy: 0.0068 - loss: 0.0248 Could not read frame in video: /Users/blag/Documents/UChicago MS/2025 Spring/Computer Vision with DL/LipReading_CV/data/video1/if/766.mp4\n",
            " Skipping video: /Users/blag/Documents/UChicago MS/2025 Spring/Computer Vision with DL/LipReading_CV/data/video1/if/766.mp4 (Invalid or too few frames)\n"
          ]
        },
        {
          "name": "stderr",
          "output_type": "stream",
          "text": [
            "OpenCV: Couldn't read video stream from file \"/Users/blag/Documents/UChicago MS/2025 Spring/Computer Vision with DL/LipReading_CV/data/video1/if/766.mp4\"\n"
          ]
        },
        {
          "name": "stdout",
          "output_type": "stream",
          "text": [
            "\u001b[1m41/53\u001b[0m \u001b[32m━━━━━━━━━━━━━━━\u001b[0m\u001b[37m━━━━━\u001b[0m \u001b[1m2:34\u001b[0m 13s/step - accuracy: 0.0066 - loss: 0.0244 Could not read frame in video: /Users/blag/Documents/UChicago MS/2025 Spring/Computer Vision with DL/LipReading_CV/data/video1/to/1370.mp4\n",
            " Skipping video: /Users/blag/Documents/UChicago MS/2025 Spring/Computer Vision with DL/LipReading_CV/data/video1/to/1370.mp4 (Invalid or too few frames)\n"
          ]
        },
        {
          "name": "stderr",
          "output_type": "stream",
          "text": [
            "OpenCV: Couldn't read video stream from file \"/Users/blag/Documents/UChicago MS/2025 Spring/Computer Vision with DL/LipReading_CV/data/video1/to/1370.mp4\"\n"
          ]
        },
        {
          "name": "stdout",
          "output_type": "stream",
          "text": [
            "\u001b[1m42/53\u001b[0m \u001b[32m━━━━━━━━━━━━━━━\u001b[0m\u001b[37m━━━━━\u001b[0m \u001b[1m2:21\u001b[0m 13s/step - accuracy: 0.0066 - loss: 0.0244"
          ]
        },
        {
          "name": "stderr",
          "output_type": "stream",
          "text": [
            "OpenCV: Couldn't read video stream from file \"/Users/blag/Documents/UChicago MS/2025 Spring/Computer Vision with DL/LipReading_CV/data/video1/to/1568.mp4\"\n"
          ]
        },
        {
          "name": "stdout",
          "output_type": "stream",
          "text": [
            " Could not read frame in video: /Users/blag/Documents/UChicago MS/2025 Spring/Computer Vision with DL/LipReading_CV/data/video1/to/1568.mp4\n",
            " Skipping video: /Users/blag/Documents/UChicago MS/2025 Spring/Computer Vision with DL/LipReading_CV/data/video1/to/1568.mp4 (Invalid or too few frames)\n",
            "\u001b[1m43/53\u001b[0m \u001b[32m━━━━━━━━━━━━━━━━\u001b[0m\u001b[37m━━━━\u001b[0m \u001b[1m2:08\u001b[0m 13s/step - accuracy: 0.0066 - loss: 0.0244"
          ]
        },
        {
          "name": "stderr",
          "output_type": "stream",
          "text": [
            "OpenCV: Couldn't read video stream from file \"/Users/blag/Documents/UChicago MS/2025 Spring/Computer Vision with DL/LipReading_CV/data/video1/of/1547.mp4\"\n"
          ]
        },
        {
          "name": "stdout",
          "output_type": "stream",
          "text": [
            " Could not read frame in video: /Users/blag/Documents/UChicago MS/2025 Spring/Computer Vision with DL/LipReading_CV/data/video1/of/1547.mp4\n",
            " Skipping video: /Users/blag/Documents/UChicago MS/2025 Spring/Computer Vision with DL/LipReading_CV/data/video1/of/1547.mp4 (Invalid or too few frames)\n",
            "\u001b[1m45/53\u001b[0m \u001b[32m━━━━━━━━━━━━━━━━\u001b[0m\u001b[37m━━━━\u001b[0m \u001b[1m1:42\u001b[0m 13s/step - accuracy: 0.0065 - loss: 0.0243"
          ]
        },
        {
          "name": "stderr",
          "output_type": "stream",
          "text": [
            "OpenCV: Couldn't read video stream from file \"/Users/blag/Documents/UChicago MS/2025 Spring/Computer Vision with DL/LipReading_CV/data/video1/of/1145.mp4\"\n"
          ]
        },
        {
          "name": "stdout",
          "output_type": "stream",
          "text": [
            " Could not read frame in video: /Users/blag/Documents/UChicago MS/2025 Spring/Computer Vision with DL/LipReading_CV/data/video1/of/1145.mp4\n",
            " Skipping video: /Users/blag/Documents/UChicago MS/2025 Spring/Computer Vision with DL/LipReading_CV/data/video1/of/1145.mp4 (Invalid or too few frames)\n",
            "\u001b[1m48/53\u001b[0m \u001b[32m━━━━━━━━━━━━━━━━━━\u001b[0m\u001b[37m━━\u001b[0m \u001b[1m1:04\u001b[0m 13s/step - accuracy: 0.0064 - loss: 0.0242"
          ]
        },
        {
          "name": "stderr",
          "output_type": "stream",
          "text": [
            "OpenCV: Couldn't read video stream from file \"/Users/blag/Documents/UChicago MS/2025 Spring/Computer Vision with DL/LipReading_CV/data/video1/an/209.mp4\"\n"
          ]
        },
        {
          "name": "stdout",
          "output_type": "stream",
          "text": [
            " Could not read frame in video: /Users/blag/Documents/UChicago MS/2025 Spring/Computer Vision with DL/LipReading_CV/data/video1/an/209.mp4\n",
            " Skipping video: /Users/blag/Documents/UChicago MS/2025 Spring/Computer Vision with DL/LipReading_CV/data/video1/an/209.mp4 (Invalid or too few frames)\n",
            "\u001b[1m49/53\u001b[0m \u001b[32m━━━━━━━━━━━━━━━━━━\u001b[0m\u001b[37m━━\u001b[0m \u001b[1m51s\u001b[0m 13s/step - accuracy: 0.0064 - loss: 0.0242 "
          ]
        },
        {
          "name": "stderr",
          "output_type": "stream",
          "text": [
            "OpenCV: Couldn't read video stream from file \"/Users/blag/Documents/UChicago MS/2025 Spring/Computer Vision with DL/LipReading_CV/data/video1/of/482.mp4\"\n"
          ]
        },
        {
          "name": "stdout",
          "output_type": "stream",
          "text": [
            " Could not read frame in video: /Users/blag/Documents/UChicago MS/2025 Spring/Computer Vision with DL/LipReading_CV/data/video1/of/482.mp4\n",
            " Skipping video: /Users/blag/Documents/UChicago MS/2025 Spring/Computer Vision with DL/LipReading_CV/data/video1/of/482.mp4 (Invalid or too few frames)\n",
            "\u001b[1m53/53\u001b[0m \u001b[32m━━━━━━━━━━━━━━━━━━━━\u001b[0m\u001b[37m\u001b[0m \u001b[1m0s\u001b[0m 13s/step - accuracy: 0.0063 - loss: 0.0240 "
          ]
        },
        {
          "name": "stderr",
          "output_type": "stream",
          "text": [
            "2025-04-23 17:15:01.318847: I tensorflow/core/framework/local_rendezvous.cc:426] Local rendezvous recv item cancelled. Key hash: 15074135823805251711\n",
            "2025-04-23 17:15:01.319539: I tensorflow/core/framework/local_rendezvous.cc:426] Local rendezvous recv item cancelled. Key hash: 908130241843295061\n",
            "2025-04-23 17:15:01.319544: I tensorflow/core/framework/local_rendezvous.cc:426] Local rendezvous recv item cancelled. Key hash: 78023203423781927\n",
            "2025-04-23 17:15:01.319548: I tensorflow/core/framework/local_rendezvous.cc:426] Local rendezvous recv item cancelled. Key hash: 599918962782702325\n",
            "2025-04-23 17:15:01.319552: I tensorflow/core/framework/local_rendezvous.cc:426] Local rendezvous recv item cancelled. Key hash: 1062322482010786349\n",
            "2025-04-23 17:15:01.319555: I tensorflow/core/framework/local_rendezvous.cc:426] Local rendezvous recv item cancelled. Key hash: 14748901083748240351\n",
            "2025-04-23 17:15:01.319558: I tensorflow/core/framework/local_rendezvous.cc:426] Local rendezvous recv item cancelled. Key hash: 907480019941526997\n",
            "2025-04-23 17:15:01.319561: I tensorflow/core/framework/local_rendezvous.cc:426] Local rendezvous recv item cancelled. Key hash: 4105155351109045689\n",
            "2025-04-23 17:15:01.319564: I tensorflow/core/framework/local_rendezvous.cc:426] Local rendezvous recv item cancelled. Key hash: 18437500258684768021\n",
            "2025-04-23 17:15:01.319567: I tensorflow/core/framework/local_rendezvous.cc:426] Local rendezvous recv item cancelled. Key hash: 17649277961457504367\n",
            "2025-04-23 17:15:01.319570: I tensorflow/core/framework/local_rendezvous.cc:426] Local rendezvous recv item cancelled. Key hash: 17393392187340558843\n",
            "2025-04-23 17:15:01.319573: I tensorflow/core/framework/local_rendezvous.cc:426] Local rendezvous recv item cancelled. Key hash: 11842557655731474881\n",
            "2025-04-23 17:15:01.319576: I tensorflow/core/framework/local_rendezvous.cc:426] Local rendezvous recv item cancelled. Key hash: 5501206145640435773\n",
            "2025-04-23 17:15:01.319579: I tensorflow/core/framework/local_rendezvous.cc:426] Local rendezvous recv item cancelled. Key hash: 9389277929482490677\n",
            "2025-04-23 17:15:01.319582: I tensorflow/core/framework/local_rendezvous.cc:426] Local rendezvous recv item cancelled. Key hash: 14982293173335299645\n",
            "2025-04-23 17:15:01.319585: I tensorflow/core/framework/local_rendezvous.cc:426] Local rendezvous recv item cancelled. Key hash: 8451655409735440253\n",
            "2025-04-23 17:15:01.319587: I tensorflow/core/framework/local_rendezvous.cc:426] Local rendezvous recv item cancelled. Key hash: 10090737968491337755\n",
            "2025-04-23 17:15:01.319590: I tensorflow/core/framework/local_rendezvous.cc:426] Local rendezvous recv item cancelled. Key hash: 13667627586015402333\n",
            "2025-04-23 17:15:01.319593: I tensorflow/core/framework/local_rendezvous.cc:426] Local rendezvous recv item cancelled. Key hash: 15166110427087182503\n",
            "2025-04-23 17:15:01.319596: I tensorflow/core/framework/local_rendezvous.cc:426] Local rendezvous recv item cancelled. Key hash: 16886382845718305373\n",
            "2025-04-23 17:15:01.319599: I tensorflow/core/framework/local_rendezvous.cc:426] Local rendezvous recv item cancelled. Key hash: 7854370827521694853\n",
            "2025-04-23 17:15:01.319602: I tensorflow/core/framework/local_rendezvous.cc:426] Local rendezvous recv item cancelled. Key hash: 17553908431413910861\n",
            "2025-04-23 17:15:01.319604: I tensorflow/core/framework/local_rendezvous.cc:426] Local rendezvous recv item cancelled. Key hash: 17362571583599746665\n",
            "2025-04-23 17:15:01.319607: I tensorflow/core/framework/local_rendezvous.cc:426] Local rendezvous recv item cancelled. Key hash: 11227475328956242519\n",
            "2025-04-23 17:15:01.319610: I tensorflow/core/framework/local_rendezvous.cc:426] Local rendezvous recv item cancelled. Key hash: 16351729744614531717\n",
            "2025-04-23 17:15:01.319613: I tensorflow/core/framework/local_rendezvous.cc:426] Local rendezvous recv item cancelled. Key hash: 17945570920568071321\n",
            "2025-04-23 17:15:01.319616: I tensorflow/core/framework/local_rendezvous.cc:426] Local rendezvous recv item cancelled. Key hash: 4253215292999607999\n",
            "2025-04-23 17:15:01.319619: I tensorflow/core/framework/local_rendezvous.cc:426] Local rendezvous recv item cancelled. Key hash: 4036468366415964109\n",
            "2025-04-23 17:15:01.319621: I tensorflow/core/framework/local_rendezvous.cc:426] Local rendezvous recv item cancelled. Key hash: 6310549749788059649\n",
            "2025-04-23 17:15:01.319624: I tensorflow/core/framework/local_rendezvous.cc:426] Local rendezvous recv item cancelled. Key hash: 9383112737514990573\n",
            "2025-04-23 17:15:01.319627: I tensorflow/core/framework/local_rendezvous.cc:426] Local rendezvous recv item cancelled. Key hash: 11799702221180644549\n",
            "2025-04-23 17:15:01.319630: I tensorflow/core/framework/local_rendezvous.cc:426] Local rendezvous recv item cancelled. Key hash: 6448314559660764337\n",
            "2025-04-23 17:15:01.319633: I tensorflow/core/framework/local_rendezvous.cc:426] Local rendezvous recv item cancelled. Key hash: 14194875575937871423\n",
            "2025-04-23 17:15:01.319636: I tensorflow/core/framework/local_rendezvous.cc:426] Local rendezvous recv item cancelled. Key hash: 13389649880367050857\n",
            "2025-04-23 17:15:01.319639: I tensorflow/core/framework/local_rendezvous.cc:426] Local rendezvous recv item cancelled. Key hash: 4503282526082052521\n",
            "2025-04-23 17:15:01.319643: I tensorflow/core/framework/local_rendezvous.cc:426] Local rendezvous recv item cancelled. Key hash: 4551425261408629641\n",
            "2025-04-23 17:15:01.319646: I tensorflow/core/framework/local_rendezvous.cc:426] Local rendezvous recv item cancelled. Key hash: 6598063386170569547\n",
            "2025-04-23 17:15:01.319650: I tensorflow/core/framework/local_rendezvous.cc:426] Local rendezvous recv item cancelled. Key hash: 6169905678406530443\n",
            "2025-04-23 17:15:01.319653: I tensorflow/core/framework/local_rendezvous.cc:426] Local rendezvous recv item cancelled. Key hash: 11419134934378756037\n",
            "2025-04-23 17:15:01.319656: I tensorflow/core/framework/local_rendezvous.cc:426] Local rendezvous recv item cancelled. Key hash: 12652455647036979853\n",
            "2025-04-23 17:15:01.319659: I tensorflow/core/framework/local_rendezvous.cc:426] Local rendezvous recv item cancelled. Key hash: 8130601984674642905\n",
            "2025-04-23 17:15:01.319662: I tensorflow/core/framework/local_rendezvous.cc:426] Local rendezvous recv item cancelled. Key hash: 15357279611670641411\n",
            "2025-04-23 17:15:01.319665: I tensorflow/core/framework/local_rendezvous.cc:426] Local rendezvous recv item cancelled. Key hash: 10624089953968799827\n",
            "2025-04-23 17:15:01.319668: I tensorflow/core/framework/local_rendezvous.cc:426] Local rendezvous recv item cancelled. Key hash: 9886229666171207959\n",
            "2025-04-23 17:15:01.319671: I tensorflow/core/framework/local_rendezvous.cc:426] Local rendezvous recv item cancelled. Key hash: 1849457317463475967\n",
            "2025-04-23 17:15:01.319674: I tensorflow/core/framework/local_rendezvous.cc:426] Local rendezvous recv item cancelled. Key hash: 11986686363649459897\n",
            "2025-04-23 17:15:01.319677: I tensorflow/core/framework/local_rendezvous.cc:426] Local rendezvous recv item cancelled. Key hash: 5995528749034260515\n",
            "2025-04-23 17:15:01.319679: I tensorflow/core/framework/local_rendezvous.cc:426] Local rendezvous recv item cancelled. Key hash: 3002081712182282647\n",
            "2025-04-23 17:15:01.319682: I tensorflow/core/framework/local_rendezvous.cc:426] Local rendezvous recv item cancelled. Key hash: 18071835266380876357\n",
            "2025-04-23 17:15:01.319685: I tensorflow/core/framework/local_rendezvous.cc:426] Local rendezvous recv item cancelled. Key hash: 12730944166418402769\n",
            "2025-04-23 17:15:01.319688: I tensorflow/core/framework/local_rendezvous.cc:426] Local rendezvous recv item cancelled. Key hash: 4769188136258064109\n",
            "2025-04-23 17:15:01.319691: I tensorflow/core/framework/local_rendezvous.cc:426] Local rendezvous recv item cancelled. Key hash: 16383813110419247641\n",
            "2025-04-23 17:15:01.319694: I tensorflow/core/framework/local_rendezvous.cc:426] Local rendezvous recv item cancelled. Key hash: 9676757329833252105\n",
            "2025-04-23 17:15:01.319697: I tensorflow/core/framework/local_rendezvous.cc:426] Local rendezvous recv item cancelled. Key hash: 12643076139924346793\n",
            "2025-04-23 17:15:01.319700: I tensorflow/core/framework/local_rendezvous.cc:426] Local rendezvous recv item cancelled. Key hash: 10786398192406714801\n",
            "2025-04-23 17:15:01.319703: I tensorflow/core/framework/local_rendezvous.cc:426] Local rendezvous recv item cancelled. Key hash: 17404555501908089421\n",
            "2025-04-23 17:15:01.319705: I tensorflow/core/framework/local_rendezvous.cc:426] Local rendezvous recv item cancelled. Key hash: 10888103091883236589\n",
            "2025-04-23 17:15:01.319709: I tensorflow/core/framework/local_rendezvous.cc:426] Local rendezvous recv item cancelled. Key hash: 8646176279871380533\n",
            "2025-04-23 17:15:01.319712: I tensorflow/core/framework/local_rendezvous.cc:426] Local rendezvous recv item cancelled. Key hash: 13205844460649996235\n",
            "2025-04-23 17:15:01.319715: I tensorflow/core/framework/local_rendezvous.cc:426] Local rendezvous recv item cancelled. Key hash: 16911232040989909153\n",
            "2025-04-23 17:15:01.319716: I tensorflow/core/framework/local_rendezvous.cc:430] Local rendezvous send item cancelled. Key hash: 17944350509574610929\n",
            "2025-04-23 17:15:01.319719: I tensorflow/core/framework/local_rendezvous.cc:426] Local rendezvous recv item cancelled. Key hash: 706907256218346617\n",
            "2025-04-23 17:15:01.319722: I tensorflow/core/framework/local_rendezvous.cc:426] Local rendezvous recv item cancelled. Key hash: 6435981496259208523\n",
            "2025-04-23 17:15:01.319725: I tensorflow/core/framework/local_rendezvous.cc:426] Local rendezvous recv item cancelled. Key hash: 12203979699196290423\n",
            "2025-04-23 17:15:01.319728: I tensorflow/core/framework/local_rendezvous.cc:426] Local rendezvous recv item cancelled. Key hash: 14319064057464973185\n",
            "2025-04-23 17:15:01.319731: I tensorflow/core/framework/local_rendezvous.cc:426] Local rendezvous recv item cancelled. Key hash: 12416901827719292353\n",
            "2025-04-23 17:15:01.319734: I tensorflow/core/framework/local_rendezvous.cc:426] Local rendezvous recv item cancelled. Key hash: 1871908141629925051\n",
            "2025-04-23 17:15:01.319737: I tensorflow/core/framework/local_rendezvous.cc:426] Local rendezvous recv item cancelled. Key hash: 12335632925512262941\n",
            "2025-04-23 17:15:01.319740: I tensorflow/core/framework/local_rendezvous.cc:426] Local rendezvous recv item cancelled. Key hash: 6768297732211371469\n",
            "2025-04-23 17:15:01.319743: I tensorflow/core/framework/local_rendezvous.cc:426] Local rendezvous recv item cancelled. Key hash: 762964585167875803\n",
            "2025-04-23 17:15:01.319745: I tensorflow/core/framework/local_rendezvous.cc:426] Local rendezvous recv item cancelled. Key hash: 9381458255724179245\n",
            "2025-04-23 17:15:01.319749: I tensorflow/core/framework/local_rendezvous.cc:426] Local rendezvous recv item cancelled. Key hash: 2903102615807357177\n",
            "2025-04-23 17:15:01.319752: I tensorflow/core/framework/local_rendezvous.cc:426] Local rendezvous recv item cancelled. Key hash: 4467965843429683657\n",
            "2025-04-23 17:15:01.319755: I tensorflow/core/framework/local_rendezvous.cc:426] Local rendezvous recv item cancelled. Key hash: 13693018145260270027\n",
            "2025-04-23 17:15:01.319758: I tensorflow/core/framework/local_rendezvous.cc:426] Local rendezvous recv item cancelled. Key hash: 5427008857558775409\n",
            "2025-04-23 17:15:01.319761: I tensorflow/core/framework/local_rendezvous.cc:426] Local rendezvous recv item cancelled. Key hash: 11764776064065042185\n",
            "2025-04-23 17:15:01.319764: I tensorflow/core/framework/local_rendezvous.cc:426] Local rendezvous recv item cancelled. Key hash: 1822963302553778287\n",
            "2025-04-23 17:15:01.319767: I tensorflow/core/framework/local_rendezvous.cc:426] Local rendezvous recv item cancelled. Key hash: 10791491185518213253\n",
            "2025-04-23 17:15:01.319770: I tensorflow/core/framework/local_rendezvous.cc:426] Local rendezvous recv item cancelled. Key hash: 17010576670154586125\n",
            "2025-04-23 17:15:01.319772: I tensorflow/core/framework/local_rendezvous.cc:430] Local rendezvous send item cancelled. Key hash: 12956748017306860395\n",
            "2025-04-23 17:15:01.319774: I tensorflow/core/framework/local_rendezvous.cc:426] Local rendezvous recv item cancelled. Key hash: 10042448695935663899\n",
            "2025-04-23 17:15:01.319777: I tensorflow/core/framework/local_rendezvous.cc:426] Local rendezvous recv item cancelled. Key hash: 3550358191408119557\n",
            "2025-04-23 17:15:01.319780: I tensorflow/core/framework/local_rendezvous.cc:426] Local rendezvous recv item cancelled. Key hash: 14031342069630074765\n",
            "2025-04-23 17:15:01.319783: I tensorflow/core/framework/local_rendezvous.cc:426] Local rendezvous recv item cancelled. Key hash: 10425510585324438025\n",
            "2025-04-23 17:15:01.319786: I tensorflow/core/framework/local_rendezvous.cc:426] Local rendezvous recv item cancelled. Key hash: 8447890447620343067\n",
            "2025-04-23 17:15:01.319789: I tensorflow/core/framework/local_rendezvous.cc:426] Local rendezvous recv item cancelled. Key hash: 10651167502388135445\n",
            "2025-04-23 17:15:01.319792: I tensorflow/core/framework/local_rendezvous.cc:426] Local rendezvous recv item cancelled. Key hash: 5571927490692351707\n",
            "2025-04-23 17:15:01.319795: I tensorflow/core/framework/local_rendezvous.cc:426] Local rendezvous recv item cancelled. Key hash: 10757640284025948389\n",
            "2025-04-23 17:15:01.319798: I tensorflow/core/framework/local_rendezvous.cc:426] Local rendezvous recv item cancelled. Key hash: 13365180363042684889\n",
            "2025-04-23 17:15:01.319800: I tensorflow/core/framework/local_rendezvous.cc:426] Local rendezvous recv item cancelled. Key hash: 11000424939678305159\n",
            "2025-04-23 17:15:01.319803: I tensorflow/core/framework/local_rendezvous.cc:426] Local rendezvous recv item cancelled. Key hash: 15932173759295488743\n",
            "2025-04-23 17:15:01.319806: I tensorflow/core/framework/local_rendezvous.cc:426] Local rendezvous recv item cancelled. Key hash: 2628760862469492237\n",
            "2025-04-23 17:15:01.319809: I tensorflow/core/framework/local_rendezvous.cc:426] Local rendezvous recv item cancelled. Key hash: 4521567689937883173\n",
            "2025-04-23 17:15:01.319812: I tensorflow/core/framework/local_rendezvous.cc:426] Local rendezvous recv item cancelled. Key hash: 8115369447710820473\n",
            "2025-04-23 17:15:01.319815: I tensorflow/core/framework/local_rendezvous.cc:426] Local rendezvous recv item cancelled. Key hash: 4404137522245899301\n",
            "2025-04-23 17:15:01.319817: I tensorflow/core/framework/local_rendezvous.cc:426] Local rendezvous recv item cancelled. Key hash: 18177771955885413821\n",
            "2025-04-23 17:15:01.319820: I tensorflow/core/framework/local_rendezvous.cc:426] Local rendezvous recv item cancelled. Key hash: 14295947159760181399\n",
            "2025-04-23 17:15:01.319823: I tensorflow/core/framework/local_rendezvous.cc:426] Local rendezvous recv item cancelled. Key hash: 18378264411016895593\n",
            "2025-04-23 17:15:01.319826: I tensorflow/core/framework/local_rendezvous.cc:426] Local rendezvous recv item cancelled. Key hash: 9046011902907948323\n",
            "2025-04-23 17:15:01.319829: I tensorflow/core/framework/local_rendezvous.cc:426] Local rendezvous recv item cancelled. Key hash: 3774012763951308755\n",
            "2025-04-23 17:15:01.319832: I tensorflow/core/framework/local_rendezvous.cc:426] Local rendezvous recv item cancelled. Key hash: 14139476013325590349\n",
            "2025-04-23 17:15:01.319835: I tensorflow/core/framework/local_rendezvous.cc:426] Local rendezvous recv item cancelled. Key hash: 3016208986814915127\n",
            "2025-04-23 17:15:01.319838: I tensorflow/core/framework/local_rendezvous.cc:426] Local rendezvous recv item cancelled. Key hash: 6178283291909399419\n",
            "2025-04-23 17:15:01.319841: I tensorflow/core/framework/local_rendezvous.cc:426] Local rendezvous recv item cancelled. Key hash: 18424066514103077065\n",
            "2025-04-23 17:15:01.319844: I tensorflow/core/framework/local_rendezvous.cc:426] Local rendezvous recv item cancelled. Key hash: 4145506682742744353\n",
            "2025-04-23 17:15:01.319847: I tensorflow/core/framework/local_rendezvous.cc:426] Local rendezvous recv item cancelled. Key hash: 10810444866881431505\n",
            "2025-04-23 17:15:01.319851: I tensorflow/core/framework/local_rendezvous.cc:426] Local rendezvous recv item cancelled. Key hash: 16605443284038034699\n",
            "2025-04-23 17:15:01.319854: I tensorflow/core/framework/local_rendezvous.cc:426] Local rendezvous recv item cancelled. Key hash: 758656831394391601\n",
            "2025-04-23 17:15:01.319856: I tensorflow/core/framework/local_rendezvous.cc:426] Local rendezvous recv item cancelled. Key hash: 17814192163791284935\n",
            "2025-04-23 17:15:01.319859: I tensorflow/core/framework/local_rendezvous.cc:426] Local rendezvous recv item cancelled. Key hash: 1394057606081914163\n",
            "2025-04-23 17:15:01.319863: I tensorflow/core/framework/local_rendezvous.cc:426] Local rendezvous recv item cancelled. Key hash: 1862599807359495559\n",
            "2025-04-23 17:15:01.319866: I tensorflow/core/framework/local_rendezvous.cc:426] Local rendezvous recv item cancelled. Key hash: 9426121620883611523\n",
            "2025-04-23 17:15:01.319869: I tensorflow/core/framework/local_rendezvous.cc:426] Local rendezvous recv item cancelled. Key hash: 9272265698589127129\n",
            "2025-04-23 17:15:01.319872: I tensorflow/core/framework/local_rendezvous.cc:426] Local rendezvous recv item cancelled. Key hash: 9477261212777493347\n",
            "2025-04-23 17:15:01.319875: I tensorflow/core/framework/local_rendezvous.cc:426] Local rendezvous recv item cancelled. Key hash: 15233919434487084287\n",
            "2025-04-23 17:15:01.319878: I tensorflow/core/framework/local_rendezvous.cc:426] Local rendezvous recv item cancelled. Key hash: 6573279409509414335\n",
            "2025-04-23 17:15:01.319881: I tensorflow/core/framework/local_rendezvous.cc:426] Local rendezvous recv item cancelled. Key hash: 1341948605946969977\n",
            "2025-04-23 17:15:01.319884: I tensorflow/core/framework/local_rendezvous.cc:426] Local rendezvous recv item cancelled. Key hash: 18369613667539864435\n",
            "2025-04-23 17:15:01.319886: I tensorflow/core/framework/local_rendezvous.cc:426] Local rendezvous recv item cancelled. Key hash: 745761352120192735\n",
            "2025-04-23 17:15:01.319889: I tensorflow/core/framework/local_rendezvous.cc:426] Local rendezvous recv item cancelled. Key hash: 2530559745500238503\n",
            "2025-04-23 17:15:01.319897: I tensorflow/core/framework/local_rendezvous.cc:426] Local rendezvous recv item cancelled. Key hash: 18296331168958436803\n",
            "2025-04-23 17:15:01.319901: I tensorflow/core/framework/local_rendezvous.cc:426] Local rendezvous recv item cancelled. Key hash: 6359154945545721469\n",
            "2025-04-23 17:15:01.319904: I tensorflow/core/framework/local_rendezvous.cc:426] Local rendezvous recv item cancelled. Key hash: 17769896797008024933\n",
            "2025-04-23 17:15:01.319907: I tensorflow/core/framework/local_rendezvous.cc:426] Local rendezvous recv item cancelled. Key hash: 10380465877135186973\n",
            "2025-04-23 17:15:01.319910: I tensorflow/core/framework/local_rendezvous.cc:426] Local rendezvous recv item cancelled. Key hash: 2160583235280624971\n",
            "2025-04-23 17:15:01.319913: I tensorflow/core/framework/local_rendezvous.cc:426] Local rendezvous recv item cancelled. Key hash: 12158706920399626429\n",
            "2025-04-23 17:15:01.319916: I tensorflow/core/framework/local_rendezvous.cc:426] Local rendezvous recv item cancelled. Key hash: 11219104840677188411\n",
            "2025-04-23 17:15:01.319919: I tensorflow/core/framework/local_rendezvous.cc:426] Local rendezvous recv item cancelled. Key hash: 10838860395111048241\n",
            "2025-04-23 17:15:01.319922: I tensorflow/core/framework/local_rendezvous.cc:426] Local rendezvous recv item cancelled. Key hash: 10696205128317134949\n",
            "2025-04-23 17:15:01.319925: I tensorflow/core/framework/local_rendezvous.cc:426] Local rendezvous recv item cancelled. Key hash: 10843412505560016929\n",
            "2025-04-23 17:15:01.319928: I tensorflow/core/framework/local_rendezvous.cc:426] Local rendezvous recv item cancelled. Key hash: 6332728133444233781\n",
            "2025-04-23 17:15:01.319931: I tensorflow/core/framework/local_rendezvous.cc:426] Local rendezvous recv item cancelled. Key hash: 12413592247590579151\n",
            "2025-04-23 17:15:01.319934: I tensorflow/core/framework/local_rendezvous.cc:426] Local rendezvous recv item cancelled. Key hash: 4291750123929135807\n",
            "2025-04-23 17:15:01.319937: I tensorflow/core/framework/local_rendezvous.cc:426] Local rendezvous recv item cancelled. Key hash: 860960913827819609\n",
            "2025-04-23 17:15:01.319939: I tensorflow/core/framework/local_rendezvous.cc:426] Local rendezvous recv item cancelled. Key hash: 16935569720502317101\n",
            "2025-04-23 17:15:01.319942: I tensorflow/core/framework/local_rendezvous.cc:426] Local rendezvous recv item cancelled. Key hash: 16679692041788519133\n",
            "2025-04-23 17:15:01.319946: I tensorflow/core/framework/local_rendezvous.cc:426] Local rendezvous recv item cancelled. Key hash: 10169578016037204033\n",
            "2025-04-23 17:15:01.319949: I tensorflow/core/framework/local_rendezvous.cc:426] Local rendezvous recv item cancelled. Key hash: 1536373091667277015\n",
            "2025-04-23 17:15:01.319952: I tensorflow/core/framework/local_rendezvous.cc:426] Local rendezvous recv item cancelled. Key hash: 14168357077061924087\n",
            "2025-04-23 17:15:01.319955: I tensorflow/core/framework/local_rendezvous.cc:426] Local rendezvous recv item cancelled. Key hash: 3177642849465792173\n",
            "2025-04-23 17:15:01.319958: I tensorflow/core/framework/local_rendezvous.cc:426] Local rendezvous recv item cancelled. Key hash: 10714533152910145523\n",
            "2025-04-23 17:15:01.319961: I tensorflow/core/framework/local_rendezvous.cc:426] Local rendezvous recv item cancelled. Key hash: 4493629770610309185\n",
            "2025-04-23 17:15:01.319964: I tensorflow/core/framework/local_rendezvous.cc:426] Local rendezvous recv item cancelled. Key hash: 1203908349283595841\n",
            "2025-04-23 17:15:01.319966: I tensorflow/core/framework/local_rendezvous.cc:426] Local rendezvous recv item cancelled. Key hash: 15647636190199086197\n",
            "2025-04-23 17:15:01.319969: I tensorflow/core/framework/local_rendezvous.cc:426] Local rendezvous recv item cancelled. Key hash: 3842201026910813487\n",
            "2025-04-23 17:15:01.319972: I tensorflow/core/framework/local_rendezvous.cc:426] Local rendezvous recv item cancelled. Key hash: 17351464709675220583\n",
            "2025-04-23 17:15:01.319975: I tensorflow/core/framework/local_rendezvous.cc:426] Local rendezvous recv item cancelled. Key hash: 9467514268876865215\n",
            "2025-04-23 17:15:01.320010: I tensorflow/core/framework/local_rendezvous.cc:426] Local rendezvous recv item cancelled. Key hash: 11675831570925028498\n",
            "2025-04-23 17:15:01.320013: I tensorflow/core/framework/local_rendezvous.cc:426] Local rendezvous recv item cancelled. Key hash: 10674461637518034260\n",
            "2025-04-23 17:15:01.320016: I tensorflow/core/framework/local_rendezvous.cc:426] Local rendezvous recv item cancelled. Key hash: 1425155840130484832\n",
            "2025-04-23 17:15:01.320019: I tensorflow/core/framework/local_rendezvous.cc:426] Local rendezvous recv item cancelled. Key hash: 11537125991209241226\n",
            "2025-04-23 17:15:01.320022: I tensorflow/core/framework/local_rendezvous.cc:426] Local rendezvous recv item cancelled. Key hash: 13518639427761474632\n",
            "2025-04-23 17:15:01.320025: I tensorflow/core/framework/local_rendezvous.cc:426] Local rendezvous recv item cancelled. Key hash: 7760034169562270764\n",
            "2025-04-23 17:15:01.320027: I tensorflow/core/framework/local_rendezvous.cc:426] Local rendezvous recv item cancelled. Key hash: 3732564310854405862\n",
            "2025-04-23 17:15:01.320030: I tensorflow/core/framework/local_rendezvous.cc:426] Local rendezvous recv item cancelled. Key hash: 852088311446507404\n",
            "2025-04-23 17:15:01.320033: I tensorflow/core/framework/local_rendezvous.cc:426] Local rendezvous recv item cancelled. Key hash: 14315520024534389030\n",
            "2025-04-23 17:15:01.320036: I tensorflow/core/framework/local_rendezvous.cc:426] Local rendezvous recv item cancelled. Key hash: 235518504833061328\n",
            "2025-04-23 17:15:01.320039: I tensorflow/core/framework/local_rendezvous.cc:426] Local rendezvous recv item cancelled. Key hash: 2035347527474353428\n",
            "2025-04-23 17:15:01.320042: I tensorflow/core/framework/local_rendezvous.cc:426] Local rendezvous recv item cancelled. Key hash: 13760294034179168998\n",
            "2025-04-23 17:15:01.320045: I tensorflow/core/framework/local_rendezvous.cc:426] Local rendezvous recv item cancelled. Key hash: 16604716025892840134\n",
            "2025-04-23 17:15:01.320047: I tensorflow/core/framework/local_rendezvous.cc:426] Local rendezvous recv item cancelled. Key hash: 8957382051619284678\n",
            "2025-04-23 17:15:01.320050: I tensorflow/core/framework/local_rendezvous.cc:426] Local rendezvous recv item cancelled. Key hash: 9076777373793986162\n",
            "2025-04-23 17:15:01.320053: I tensorflow/core/framework/local_rendezvous.cc:426] Local rendezvous recv item cancelled. Key hash: 10980810190566074874\n",
            "2025-04-23 17:15:01.320055: I tensorflow/core/framework/local_rendezvous.cc:426] Local rendezvous recv item cancelled. Key hash: 10365177982032554266\n",
            "2025-04-23 17:15:01.320058: I tensorflow/core/framework/local_rendezvous.cc:426] Local rendezvous recv item cancelled. Key hash: 16575506396617714558\n",
            "2025-04-23 17:15:01.320060: I tensorflow/core/framework/local_rendezvous.cc:426] Local rendezvous recv item cancelled. Key hash: 3687153042802814114\n",
            "2025-04-23 17:15:01.320063: I tensorflow/core/framework/local_rendezvous.cc:426] Local rendezvous recv item cancelled. Key hash: 6569630696442179038\n",
            "2025-04-23 17:15:01.320066: I tensorflow/core/framework/local_rendezvous.cc:426] Local rendezvous recv item cancelled. Key hash: 18168066082788552204\n",
            "2025-04-23 17:15:01.320069: I tensorflow/core/framework/local_rendezvous.cc:426] Local rendezvous recv item cancelled. Key hash: 9119633025162620848\n",
            "2025-04-23 17:15:01.320072: I tensorflow/core/framework/local_rendezvous.cc:426] Local rendezvous recv item cancelled. Key hash: 12681343399797731584\n",
            "2025-04-23 17:15:01.320075: I tensorflow/core/framework/local_rendezvous.cc:426] Local rendezvous recv item cancelled. Key hash: 1452005301340091290\n",
            "2025-04-23 17:15:01.320078: I tensorflow/core/framework/local_rendezvous.cc:426] Local rendezvous recv item cancelled. Key hash: 1952165650687800272\n",
            "2025-04-23 17:15:01.320080: I tensorflow/core/framework/local_rendezvous.cc:426] Local rendezvous recv item cancelled. Key hash: 6333218230533961758\n",
            "2025-04-23 17:15:01.320083: I tensorflow/core/framework/local_rendezvous.cc:426] Local rendezvous recv item cancelled. Key hash: 11536021515100240250\n",
            "2025-04-23 17:15:01.320086: I tensorflow/core/framework/local_rendezvous.cc:426] Local rendezvous recv item cancelled. Key hash: 8035795009053735640\n",
            "2025-04-23 17:15:01.320089: I tensorflow/core/framework/local_rendezvous.cc:426] Local rendezvous recv item cancelled. Key hash: 13722504662360144794\n",
            "2025-04-23 17:15:01.320093: I tensorflow/core/framework/local_rendezvous.cc:426] Local rendezvous recv item cancelled. Key hash: 4523843418202520788\n",
            "2025-04-23 17:15:01.320096: I tensorflow/core/framework/local_rendezvous.cc:426] Local rendezvous recv item cancelled. Key hash: 13600421057369685214\n",
            "2025-04-23 17:15:01.320099: I tensorflow/core/framework/local_rendezvous.cc:426] Local rendezvous recv item cancelled. Key hash: 31953808028612776\n",
            "2025-04-23 17:15:01.320102: I tensorflow/core/framework/local_rendezvous.cc:426] Local rendezvous recv item cancelled. Key hash: 8847508404657732828\n",
            "2025-04-23 17:15:01.320105: I tensorflow/core/framework/local_rendezvous.cc:426] Local rendezvous recv item cancelled. Key hash: 98935670871376758\n",
            "2025-04-23 17:15:01.320107: I tensorflow/core/framework/local_rendezvous.cc:426] Local rendezvous recv item cancelled. Key hash: 6636753731218785528\n",
            "2025-04-23 17:15:01.320110: I tensorflow/core/framework/local_rendezvous.cc:426] Local rendezvous recv item cancelled. Key hash: 16336492113604658926\n",
            "2025-04-23 17:15:01.320113: I tensorflow/core/framework/local_rendezvous.cc:426] Local rendezvous recv item cancelled. Key hash: 425889819191949662\n",
            "2025-04-23 17:15:01.320115: I tensorflow/core/framework/local_rendezvous.cc:426] Local rendezvous recv item cancelled. Key hash: 1482121445210213078\n",
            "2025-04-23 17:15:01.320118: I tensorflow/core/framework/local_rendezvous.cc:426] Local rendezvous recv item cancelled. Key hash: 10601360282068732686\n",
            "2025-04-23 17:15:01.320121: I tensorflow/core/framework/local_rendezvous.cc:426] Local rendezvous recv item cancelled. Key hash: 10268670499887272332\n",
            "2025-04-23 17:15:01.320124: I tensorflow/core/framework/local_rendezvous.cc:426] Local rendezvous recv item cancelled. Key hash: 17541347423397761658\n",
            "2025-04-23 17:15:01.320127: I tensorflow/core/framework/local_rendezvous.cc:426] Local rendezvous recv item cancelled. Key hash: 6787939571496539350\n",
            "2025-04-23 17:15:01.320130: I tensorflow/core/framework/local_rendezvous.cc:426] Local rendezvous recv item cancelled. Key hash: 17868762281030931600\n",
            "2025-04-23 17:15:01.320133: I tensorflow/core/framework/local_rendezvous.cc:426] Local rendezvous recv item cancelled. Key hash: 7500085719739947134\n",
            "2025-04-23 17:15:01.320136: I tensorflow/core/framework/local_rendezvous.cc:426] Local rendezvous recv item cancelled. Key hash: 8380768423292197330\n",
            "2025-04-23 17:15:01.320139: I tensorflow/core/framework/local_rendezvous.cc:426] Local rendezvous recv item cancelled. Key hash: 2055859778504185936\n",
            "2025-04-23 17:15:01.320141: I tensorflow/core/framework/local_rendezvous.cc:426] Local rendezvous recv item cancelled. Key hash: 15204575024709393278\n",
            "2025-04-23 17:15:01.320144: I tensorflow/core/framework/local_rendezvous.cc:426] Local rendezvous recv item cancelled. Key hash: 16308472238213258910\n",
            "2025-04-23 17:15:01.320147: I tensorflow/core/framework/local_rendezvous.cc:426] Local rendezvous recv item cancelled. Key hash: 3498261086571487154\n",
            "2025-04-23 17:15:01.320150: I tensorflow/core/framework/local_rendezvous.cc:426] Local rendezvous recv item cancelled. Key hash: 1980200410839083144\n",
            "2025-04-23 17:15:01.320152: I tensorflow/core/framework/local_rendezvous.cc:426] Local rendezvous recv item cancelled. Key hash: 5953697548494334188\n",
            "2025-04-23 17:15:01.320155: I tensorflow/core/framework/local_rendezvous.cc:426] Local rendezvous recv item cancelled. Key hash: 11461936845062564300\n",
            "2025-04-23 17:15:01.320157: I tensorflow/core/framework/local_rendezvous.cc:426] Local rendezvous recv item cancelled. Key hash: 983168693623811482\n",
            "2025-04-23 17:15:01.320160: I tensorflow/core/framework/local_rendezvous.cc:426] Local rendezvous recv item cancelled. Key hash: 17854173241797143864\n",
            "2025-04-23 17:15:01.320163: I tensorflow/core/framework/local_rendezvous.cc:426] Local rendezvous recv item cancelled. Key hash: 12039696715116408678\n",
            "2025-04-23 17:15:01.320165: I tensorflow/core/framework/local_rendezvous.cc:426] Local rendezvous recv item cancelled. Key hash: 9697147686909014046\n",
            "2025-04-23 17:15:01.320168: I tensorflow/core/framework/local_rendezvous.cc:426] Local rendezvous recv item cancelled. Key hash: 10180286491291250338\n",
            "2025-04-23 17:15:01.320171: I tensorflow/core/framework/local_rendezvous.cc:426] Local rendezvous recv item cancelled. Key hash: 10625726002979894254\n",
            "2025-04-23 17:15:01.320173: I tensorflow/core/framework/local_rendezvous.cc:426] Local rendezvous recv item cancelled. Key hash: 16228002024168912406\n",
            "2025-04-23 17:15:01.320176: I tensorflow/core/framework/local_rendezvous.cc:426] Local rendezvous recv item cancelled. Key hash: 9535313972789999186\n",
            "2025-04-23 17:15:01.320179: I tensorflow/core/framework/local_rendezvous.cc:426] Local rendezvous recv item cancelled. Key hash: 16996346175811320054\n",
            "2025-04-23 17:15:01.320181: I tensorflow/core/framework/local_rendezvous.cc:426] Local rendezvous recv item cancelled. Key hash: 18364260895159580376\n",
            "2025-04-23 17:15:01.320184: I tensorflow/core/framework/local_rendezvous.cc:426] Local rendezvous recv item cancelled. Key hash: 2886980087700683168\n",
            "2025-04-23 17:15:01.320187: I tensorflow/core/framework/local_rendezvous.cc:426] Local rendezvous recv item cancelled. Key hash: 3079463995884272804\n",
            "2025-04-23 17:15:01.320190: I tensorflow/core/framework/local_rendezvous.cc:426] Local rendezvous recv item cancelled. Key hash: 345533594227211634\n",
            "2025-04-23 17:15:01.320192: I tensorflow/core/framework/local_rendezvous.cc:426] Local rendezvous recv item cancelled. Key hash: 3414643035223915890\n",
            "2025-04-23 17:15:01.320195: I tensorflow/core/framework/local_rendezvous.cc:426] Local rendezvous recv item cancelled. Key hash: 14621154026162454276\n",
            "2025-04-23 17:15:01.320201: I tensorflow/core/framework/local_rendezvous.cc:426] Local rendezvous recv item cancelled. Key hash: 13408368897423540300\n",
            "2025-04-23 17:15:01.320204: I tensorflow/core/framework/local_rendezvous.cc:426] Local rendezvous recv item cancelled. Key hash: 5812305141084750032\n",
            "2025-04-23 17:15:01.320207: I tensorflow/core/framework/local_rendezvous.cc:426] Local rendezvous recv item cancelled. Key hash: 4461851897016516356\n",
            "2025-04-23 17:15:01.320210: I tensorflow/core/framework/local_rendezvous.cc:426] Local rendezvous recv item cancelled. Key hash: 16439879600507094410\n",
            "2025-04-23 17:15:01.320212: I tensorflow/core/framework/local_rendezvous.cc:426] Local rendezvous recv item cancelled. Key hash: 3755774808101848794\n",
            "2025-04-23 17:15:01.320215: I tensorflow/core/framework/local_rendezvous.cc:426] Local rendezvous recv item cancelled. Key hash: 12716574734219245296\n",
            "2025-04-23 17:15:01.320218: I tensorflow/core/framework/local_rendezvous.cc:426] Local rendezvous recv item cancelled. Key hash: 8749464046215073388\n",
            "2025-04-23 17:15:01.320220: I tensorflow/core/framework/local_rendezvous.cc:426] Local rendezvous recv item cancelled. Key hash: 13166788290070548154\n",
            "2025-04-23 17:15:01.320223: I tensorflow/core/framework/local_rendezvous.cc:426] Local rendezvous recv item cancelled. Key hash: 13876636696744333774\n",
            "2025-04-23 17:15:01.320226: I tensorflow/core/framework/local_rendezvous.cc:426] Local rendezvous recv item cancelled. Key hash: 17455800719579452054\n",
            "2025-04-23 17:15:01.320229: I tensorflow/core/framework/local_rendezvous.cc:426] Local rendezvous recv item cancelled. Key hash: 18394599167198925442\n",
            "2025-04-23 17:15:01.320231: I tensorflow/core/framework/local_rendezvous.cc:426] Local rendezvous recv item cancelled. Key hash: 3522773966917964894\n",
            "2025-04-23 17:15:01.320234: I tensorflow/core/framework/local_rendezvous.cc:426] Local rendezvous recv item cancelled. Key hash: 11905196331029795732\n",
            "2025-04-23 17:15:01.320236: I tensorflow/core/framework/local_rendezvous.cc:426] Local rendezvous recv item cancelled. Key hash: 5274613165593040792\n",
            "2025-04-23 17:15:01.320239: I tensorflow/core/framework/local_rendezvous.cc:426] Local rendezvous recv item cancelled. Key hash: 1302091114350745728\n",
            "2025-04-23 17:15:01.320242: I tensorflow/core/framework/local_rendezvous.cc:426] Local rendezvous recv item cancelled. Key hash: 8172960731053330798\n",
            "2025-04-23 17:15:01.320245: I tensorflow/core/framework/local_rendezvous.cc:426] Local rendezvous recv item cancelled. Key hash: 402888152930622518\n",
            "2025-04-23 17:15:01.320248: I tensorflow/core/framework/local_rendezvous.cc:426] Local rendezvous recv item cancelled. Key hash: 6918294058807566014\n",
            "2025-04-23 17:15:01.320250: I tensorflow/core/framework/local_rendezvous.cc:426] Local rendezvous recv item cancelled. Key hash: 13901310793365364312\n",
            "2025-04-23 17:15:01.320253: I tensorflow/core/framework/local_rendezvous.cc:426] Local rendezvous recv item cancelled. Key hash: 565006317188455938\n",
            "2025-04-23 17:15:01.320256: I tensorflow/core/framework/local_rendezvous.cc:426] Local rendezvous recv item cancelled. Key hash: 7109717490852995598\n",
            "2025-04-23 17:15:01.320258: I tensorflow/core/framework/local_rendezvous.cc:426] Local rendezvous recv item cancelled. Key hash: 4640867044839564118\n",
            "2025-04-23 17:15:01.320261: I tensorflow/core/framework/local_rendezvous.cc:426] Local rendezvous recv item cancelled. Key hash: 1545142218094386814\n",
            "2025-04-23 17:15:01.320264: I tensorflow/core/framework/local_rendezvous.cc:426] Local rendezvous recv item cancelled. Key hash: 4488950973131761128\n",
            "2025-04-23 17:15:01.320266: I tensorflow/core/framework/local_rendezvous.cc:426] Local rendezvous recv item cancelled. Key hash: 14399130805525456230\n",
            "2025-04-23 17:15:01.320269: I tensorflow/core/framework/local_rendezvous.cc:426] Local rendezvous recv item cancelled. Key hash: 14669784370509359000\n",
            "2025-04-23 17:15:01.320272: I tensorflow/core/framework/local_rendezvous.cc:426] Local rendezvous recv item cancelled. Key hash: 14971075091054635256\n",
            "2025-04-23 17:15:01.320275: I tensorflow/core/framework/local_rendezvous.cc:426] Local rendezvous recv item cancelled. Key hash: 15345919568272861378\n",
            "2025-04-23 17:15:01.320277: I tensorflow/core/framework/local_rendezvous.cc:426] Local rendezvous recv item cancelled. Key hash: 14111762646860212774\n",
            "2025-04-23 17:15:01.320280: I tensorflow/core/framework/local_rendezvous.cc:426] Local rendezvous recv item cancelled. Key hash: 14794742519916112688\n",
            "2025-04-23 17:15:01.320282: I tensorflow/core/framework/local_rendezvous.cc:426] Local rendezvous recv item cancelled. Key hash: 6256077412110281770\n",
            "2025-04-23 17:15:01.320285: I tensorflow/core/framework/local_rendezvous.cc:426] Local rendezvous recv item cancelled. Key hash: 8731270589174623526\n",
            "2025-04-23 17:15:01.320287: I tensorflow/core/framework/local_rendezvous.cc:426] Local rendezvous recv item cancelled. Key hash: 3475135800333804624\n",
            "2025-04-23 17:15:01.320290: I tensorflow/core/framework/local_rendezvous.cc:426] Local rendezvous recv item cancelled. Key hash: 18191512307203092676\n",
            "2025-04-23 17:15:01.320293: I tensorflow/core/framework/local_rendezvous.cc:426] Local rendezvous recv item cancelled. Key hash: 591560432040980488\n",
            "2025-04-23 17:15:01.320295: I tensorflow/core/framework/local_rendezvous.cc:426] Local rendezvous recv item cancelled. Key hash: 1806651440316522150\n",
            "2025-04-23 17:15:01.320298: I tensorflow/core/framework/local_rendezvous.cc:426] Local rendezvous recv item cancelled. Key hash: 15600807464763698024\n",
            "2025-04-23 17:15:01.320301: I tensorflow/core/framework/local_rendezvous.cc:426] Local rendezvous recv item cancelled. Key hash: 9506398507756467862\n",
            "2025-04-23 17:15:01.320303: I tensorflow/core/framework/local_rendezvous.cc:426] Local rendezvous recv item cancelled. Key hash: 7510730400091519656\n",
            "2025-04-23 17:15:01.320306: I tensorflow/core/framework/local_rendezvous.cc:426] Local rendezvous recv item cancelled. Key hash: 16543270030311800348\n",
            "2025-04-23 17:15:01.320308: I tensorflow/core/framework/local_rendezvous.cc:426] Local rendezvous recv item cancelled. Key hash: 12872523474488967384\n",
            "2025-04-23 17:15:01.320311: I tensorflow/core/framework/local_rendezvous.cc:426] Local rendezvous recv item cancelled. Key hash: 9671169222355830058\n",
            "2025-04-23 17:15:01.320313: I tensorflow/core/framework/local_rendezvous.cc:426] Local rendezvous recv item cancelled. Key hash: 3753723620768728640\n",
            "2025-04-23 17:15:01.320316: I tensorflow/core/framework/local_rendezvous.cc:426] Local rendezvous recv item cancelled. Key hash: 6815256851012307832\n",
            "2025-04-23 17:15:01.320319: I tensorflow/core/framework/local_rendezvous.cc:426] Local rendezvous recv item cancelled. Key hash: 12690636014826212372\n",
            "2025-04-23 17:15:01.320321: I tensorflow/core/framework/local_rendezvous.cc:426] Local rendezvous recv item cancelled. Key hash: 18221943266461600818\n",
            "2025-04-23 17:15:01.320324: I tensorflow/core/framework/local_rendezvous.cc:426] Local rendezvous recv item cancelled. Key hash: 17883398801875521264\n",
            "2025-04-23 17:15:01.320327: I tensorflow/core/framework/local_rendezvous.cc:426] Local rendezvous recv item cancelled. Key hash: 5076621912164061430\n",
            "2025-04-23 17:15:01.320329: I tensorflow/core/framework/local_rendezvous.cc:426] Local rendezvous recv item cancelled. Key hash: 12809080155093453758\n",
            "2025-04-23 17:15:01.320332: I tensorflow/core/framework/local_rendezvous.cc:426] Local rendezvous recv item cancelled. Key hash: 13599555522600293254\n",
            "2025-04-23 17:15:01.320334: I tensorflow/core/framework/local_rendezvous.cc:426] Local rendezvous recv item cancelled. Key hash: 15498379617699943394\n",
            "2025-04-23 17:15:01.320337: I tensorflow/core/framework/local_rendezvous.cc:426] Local rendezvous recv item cancelled. Key hash: 10890711500029810044\n",
            "2025-04-23 17:15:01.320340: I tensorflow/core/framework/local_rendezvous.cc:426] Local rendezvous recv item cancelled. Key hash: 11968079497620674808\n",
            "2025-04-23 17:15:01.320342: I tensorflow/core/framework/local_rendezvous.cc:426] Local rendezvous recv item cancelled. Key hash: 17433165049916872864\n",
            "2025-04-23 17:15:01.320345: I tensorflow/core/framework/local_rendezvous.cc:426] Local rendezvous recv item cancelled. Key hash: 575479648540482298\n",
            "2025-04-23 17:15:01.320347: I tensorflow/core/framework/local_rendezvous.cc:426] Local rendezvous recv item cancelled. Key hash: 15126008182247971456\n",
            "2025-04-23 17:15:01.320350: I tensorflow/core/framework/local_rendezvous.cc:426] Local rendezvous recv item cancelled. Key hash: 1124205918354725708\n",
            "2025-04-23 17:15:01.320353: I tensorflow/core/framework/local_rendezvous.cc:426] Local rendezvous recv item cancelled. Key hash: 17242789620930041840\n",
            "2025-04-23 17:15:01.320355: I tensorflow/core/framework/local_rendezvous.cc:426] Local rendezvous recv item cancelled. Key hash: 15495371113699729070\n",
            "2025-04-23 17:15:01.320358: I tensorflow/core/framework/local_rendezvous.cc:426] Local rendezvous recv item cancelled. Key hash: 8961815101158646172\n",
            "2025-04-23 17:15:01.320361: I tensorflow/core/framework/local_rendezvous.cc:426] Local rendezvous recv item cancelled. Key hash: 10136074219958231560\n",
            "2025-04-23 17:15:01.320363: I tensorflow/core/framework/local_rendezvous.cc:426] Local rendezvous recv item cancelled. Key hash: 17842829968604128702\n",
            "2025-04-23 17:15:01.320366: I tensorflow/core/framework/local_rendezvous.cc:426] Local rendezvous recv item cancelled. Key hash: 15505766244439943262\n",
            "2025-04-23 17:15:01.320369: I tensorflow/core/framework/local_rendezvous.cc:426] Local rendezvous recv item cancelled. Key hash: 9405692429388343572\n",
            "2025-04-23 17:15:01.320372: I tensorflow/core/framework/local_rendezvous.cc:426] Local rendezvous recv item cancelled. Key hash: 17165634500041763398\n",
            "2025-04-23 17:15:01.320374: I tensorflow/core/framework/local_rendezvous.cc:430] Local rendezvous send item cancelled. Key hash: 15062251542354389622\n",
            "2025-04-23 17:15:01.320377: I tensorflow/core/framework/local_rendezvous.cc:426] Local rendezvous recv item cancelled. Key hash: 15072647065170078780\n",
            "2025-04-23 17:15:01.320379: I tensorflow/core/framework/local_rendezvous.cc:426] Local rendezvous recv item cancelled. Key hash: 15591564869867138316\n",
            "2025-04-23 17:15:01.320382: I tensorflow/core/framework/local_rendezvous.cc:426] Local rendezvous recv item cancelled. Key hash: 14038114602486656910\n",
            "2025-04-23 17:15:01.320397: I tensorflow/core/framework/local_rendezvous.cc:426] Local rendezvous recv item cancelled. Key hash: 6531022744478348918\n",
            "2025-04-23 17:15:01.320400: I tensorflow/core/framework/local_rendezvous.cc:426] Local rendezvous recv item cancelled. Key hash: 1673122395127281486\n",
            "2025-04-23 17:15:01.320404: I tensorflow/core/framework/local_rendezvous.cc:426] Local rendezvous recv item cancelled. Key hash: 4361416996315855094\n",
            "2025-04-23 17:15:01.320407: I tensorflow/core/framework/local_rendezvous.cc:426] Local rendezvous recv item cancelled. Key hash: 15755655554505701876\n",
            "2025-04-23 17:15:01.320411: I tensorflow/core/framework/local_rendezvous.cc:426] Local rendezvous recv item cancelled. Key hash: 4709811707296545954\n",
            "OpenCV: Couldn't read video stream from file \"/Users/blag/Documents/UChicago MS/2025 Spring/Computer Vision with DL/LipReading_CV/data/video1/of/584.mp4\"\n"
          ]
        },
        {
          "name": "stdout",
          "output_type": "stream",
          "text": [
            " Could not read frame in video: /Users/blag/Documents/UChicago MS/2025 Spring/Computer Vision with DL/LipReading_CV/data/video1/of/584.mp4\n",
            " Skipping video: /Users/blag/Documents/UChicago MS/2025 Spring/Computer Vision with DL/LipReading_CV/data/video1/of/584.mp4 (Invalid or too few frames)\n"
          ]
        },
        {
          "name": "stderr",
          "output_type": "stream",
          "text": [
            "OpenCV: Couldn't read video stream from file \"/Users/blag/Documents/UChicago MS/2025 Spring/Computer Vision with DL/LipReading_CV/data/video1/of/770.mp4\"\n"
          ]
        },
        {
          "name": "stdout",
          "output_type": "stream",
          "text": [
            " Could not read frame in video: /Users/blag/Documents/UChicago MS/2025 Spring/Computer Vision with DL/LipReading_CV/data/video1/of/770.mp4\n",
            " Skipping video: /Users/blag/Documents/UChicago MS/2025 Spring/Computer Vision with DL/LipReading_CV/data/video1/of/770.mp4 (Invalid or too few frames)\n"
          ]
        },
        {
          "name": "stderr",
          "output_type": "stream",
          "text": [
            "OpenCV: Couldn't read video stream from file \"/Users/blag/Documents/UChicago MS/2025 Spring/Computer Vision with DL/LipReading_CV/data/video1/of/1680.mp4\"\n"
          ]
        },
        {
          "name": "stdout",
          "output_type": "stream",
          "text": [
            " Could not read frame in video: /Users/blag/Documents/UChicago MS/2025 Spring/Computer Vision with DL/LipReading_CV/data/video1/of/1680.mp4\n",
            " Skipping video: /Users/blag/Documents/UChicago MS/2025 Spring/Computer Vision with DL/LipReading_CV/data/video1/of/1680.mp4 (Invalid or too few frames)\n"
          ]
        },
        {
          "name": "stderr",
          "output_type": "stream",
          "text": [
            "OpenCV: Couldn't read video stream from file \"/Users/blag/Documents/UChicago MS/2025 Spring/Computer Vision with DL/LipReading_CV/data/video1/we/1452.mp4\"\n"
          ]
        },
        {
          "name": "stdout",
          "output_type": "stream",
          "text": [
            " Could not read frame in video: /Users/blag/Documents/UChicago MS/2025 Spring/Computer Vision with DL/LipReading_CV/data/video1/we/1452.mp4\n",
            " Skipping video: /Users/blag/Documents/UChicago MS/2025 Spring/Computer Vision with DL/LipReading_CV/data/video1/we/1452.mp4 (Invalid or too few frames)\n"
          ]
        },
        {
          "name": "stderr",
          "output_type": "stream",
          "text": [
            "OpenCV: Couldn't read video stream from file \"/Users/blag/Documents/UChicago MS/2025 Spring/Computer Vision with DL/LipReading_CV/data/video1/10/1283.mp4\"\n"
          ]
        },
        {
          "name": "stdout",
          "output_type": "stream",
          "text": [
            " Could not read frame in video: /Users/blag/Documents/UChicago MS/2025 Spring/Computer Vision with DL/LipReading_CV/data/video1/10/1283.mp4\n",
            " Skipping video: /Users/blag/Documents/UChicago MS/2025 Spring/Computer Vision with DL/LipReading_CV/data/video1/10/1283.mp4 (Invalid or too few frames)\n"
          ]
        },
        {
          "name": "stderr",
          "output_type": "stream",
          "text": [
            "OpenCV: Couldn't read video stream from file \"/Users/blag/Documents/UChicago MS/2025 Spring/Computer Vision with DL/LipReading_CV/data/video1/of/1547.mp4\"\n"
          ]
        },
        {
          "name": "stdout",
          "output_type": "stream",
          "text": [
            " Could not read frame in video: /Users/blag/Documents/UChicago MS/2025 Spring/Computer Vision with DL/LipReading_CV/data/video1/of/1547.mp4\n",
            " Skipping video: /Users/blag/Documents/UChicago MS/2025 Spring/Computer Vision with DL/LipReading_CV/data/video1/of/1547.mp4 (Invalid or too few frames)\n"
          ]
        },
        {
          "name": "stderr",
          "output_type": "stream",
          "text": [
            "OpenCV: Couldn't read video stream from file \"/Users/blag/Documents/UChicago MS/2025 Spring/Computer Vision with DL/LipReading_CV/data/video1/of/474.mp4\"\n"
          ]
        },
        {
          "name": "stdout",
          "output_type": "stream",
          "text": [
            " Could not read frame in video: /Users/blag/Documents/UChicago MS/2025 Spring/Computer Vision with DL/LipReading_CV/data/video1/of/474.mp4\n",
            " Skipping video: /Users/blag/Documents/UChicago MS/2025 Spring/Computer Vision with DL/LipReading_CV/data/video1/of/474.mp4 (Invalid or too few frames)\n"
          ]
        },
        {
          "name": "stderr",
          "output_type": "stream",
          "text": [
            "OpenCV: Couldn't read video stream from file \"/Users/blag/Documents/UChicago MS/2025 Spring/Computer Vision with DL/LipReading_CV/data/video1/an/616.mp4\"\n"
          ]
        },
        {
          "name": "stdout",
          "output_type": "stream",
          "text": [
            " Could not read frame in video: /Users/blag/Documents/UChicago MS/2025 Spring/Computer Vision with DL/LipReading_CV/data/video1/an/616.mp4\n",
            " Skipping video: /Users/blag/Documents/UChicago MS/2025 Spring/Computer Vision with DL/LipReading_CV/data/video1/an/616.mp4 (Invalid or too few frames)\n"
          ]
        },
        {
          "name": "stderr",
          "output_type": "stream",
          "text": [
            "OpenCV: Couldn't read video stream from file \"/Users/blag/Documents/UChicago MS/2025 Spring/Computer Vision with DL/LipReading_CV/data/video1/an/209.mp4\"\n"
          ]
        },
        {
          "name": "stdout",
          "output_type": "stream",
          "text": [
            " Could not read frame in video: /Users/blag/Documents/UChicago MS/2025 Spring/Computer Vision with DL/LipReading_CV/data/video1/an/209.mp4\n",
            " Skipping video: /Users/blag/Documents/UChicago MS/2025 Spring/Computer Vision with DL/LipReading_CV/data/video1/an/209.mp4 (Invalid or too few frames)\n"
          ]
        },
        {
          "name": "stderr",
          "output_type": "stream",
          "text": [
            "OpenCV: Couldn't read video stream from file \"/Users/blag/Documents/UChicago MS/2025 Spring/Computer Vision with DL/LipReading_CV/data/video1/of/300.mp4\"\n"
          ]
        },
        {
          "name": "stdout",
          "output_type": "stream",
          "text": [
            " Could not read frame in video: /Users/blag/Documents/UChicago MS/2025 Spring/Computer Vision with DL/LipReading_CV/data/video1/of/300.mp4\n",
            " Skipping video: /Users/blag/Documents/UChicago MS/2025 Spring/Computer Vision with DL/LipReading_CV/data/video1/of/300.mp4 (Invalid or too few frames)\n"
          ]
        },
        {
          "name": "stderr",
          "output_type": "stream",
          "text": [
            "OpenCV: Couldn't read video stream from file \"/Users/blag/Documents/UChicago MS/2025 Spring/Computer Vision with DL/LipReading_CV/data/video1/in/751.mp4\"\n",
            "OpenCV: Couldn't read video stream from file \"/Users/blag/Documents/UChicago MS/2025 Spring/Computer Vision with DL/LipReading_CV/data/video1/if/766.mp4\"\n"
          ]
        },
        {
          "name": "stdout",
          "output_type": "stream",
          "text": [
            " Could not read frame in video: /Users/blag/Documents/UChicago MS/2025 Spring/Computer Vision with DL/LipReading_CV/data/video1/in/751.mp4\n",
            " Skipping video: /Users/blag/Documents/UChicago MS/2025 Spring/Computer Vision with DL/LipReading_CV/data/video1/in/751.mp4 (Invalid or too few frames)\n",
            " Could not read frame in video: /Users/blag/Documents/UChicago MS/2025 Spring/Computer Vision with DL/LipReading_CV/data/video1/if/766.mp4\n",
            " Skipping video: /Users/blag/Documents/UChicago MS/2025 Spring/Computer Vision with DL/LipReading_CV/data/video1/if/766.mp4 (Invalid or too few frames)\n"
          ]
        },
        {
          "ename": "KeyboardInterrupt",
          "evalue": "",
          "output_type": "error",
          "traceback": [
            "\u001b[31m---------------------------------------------------------------------------\u001b[39m",
            "\u001b[31mKeyboardInterrupt\u001b[39m                         Traceback (most recent call last)",
            "\u001b[36mCell\u001b[39m\u001b[36m \u001b[39m\u001b[32mIn[15]\u001b[39m\u001b[32m, line 1\u001b[39m\n\u001b[32m----> \u001b[39m\u001b[32m1\u001b[39m history = \u001b[43mmodel\u001b[49m\u001b[43m.\u001b[49m\u001b[43mfit\u001b[49m\u001b[43m(\u001b[49m\u001b[43mx\u001b[49m\u001b[43m \u001b[49m\u001b[43m=\u001b[49m\u001b[43m \u001b[49m\u001b[43mtrain_ds\u001b[49m\u001b[43m,\u001b[49m\n\u001b[32m      2\u001b[39m \u001b[43m                    \u001b[49m\u001b[43mepochs\u001b[49m\u001b[43m \u001b[49m\u001b[43m=\u001b[49m\u001b[43m \u001b[49m\u001b[32;43m50\u001b[39;49m\u001b[43m,\u001b[49m\n\u001b[32m      3\u001b[39m \u001b[43m                    \u001b[49m\u001b[43mvalidation_data\u001b[49m\u001b[43m \u001b[49m\u001b[43m=\u001b[49m\u001b[43m \u001b[49m\u001b[43mtrain_ds\u001b[49m\u001b[43m)\u001b[49m\n",
            "\u001b[36mFile \u001b[39m\u001b[32m~/Documents/UChicago MS/2025 Spring/Computer Vision with DL/.venv/lib/python3.12/site-packages/keras/src/utils/traceback_utils.py:117\u001b[39m, in \u001b[36mfilter_traceback.<locals>.error_handler\u001b[39m\u001b[34m(*args, **kwargs)\u001b[39m\n\u001b[32m    115\u001b[39m filtered_tb = \u001b[38;5;28;01mNone\u001b[39;00m\n\u001b[32m    116\u001b[39m \u001b[38;5;28;01mtry\u001b[39;00m:\n\u001b[32m--> \u001b[39m\u001b[32m117\u001b[39m     \u001b[38;5;28;01mreturn\u001b[39;00m \u001b[43mfn\u001b[49m\u001b[43m(\u001b[49m\u001b[43m*\u001b[49m\u001b[43margs\u001b[49m\u001b[43m,\u001b[49m\u001b[43m \u001b[49m\u001b[43m*\u001b[49m\u001b[43m*\u001b[49m\u001b[43mkwargs\u001b[49m\u001b[43m)\u001b[49m\n\u001b[32m    118\u001b[39m \u001b[38;5;28;01mexcept\u001b[39;00m \u001b[38;5;167;01mException\u001b[39;00m \u001b[38;5;28;01mas\u001b[39;00m e:\n\u001b[32m    119\u001b[39m     filtered_tb = _process_traceback_frames(e.__traceback__)\n",
            "\u001b[36mFile \u001b[39m\u001b[32m~/Documents/UChicago MS/2025 Spring/Computer Vision with DL/.venv/lib/python3.12/site-packages/keras/src/backend/tensorflow/trainer.py:395\u001b[39m, in \u001b[36mTensorFlowTrainer.fit\u001b[39m\u001b[34m(self, x, y, batch_size, epochs, verbose, callbacks, validation_split, validation_data, shuffle, class_weight, sample_weight, initial_epoch, steps_per_epoch, validation_steps, validation_batch_size, validation_freq)\u001b[39m\n\u001b[32m    384\u001b[39m \u001b[38;5;28;01mif\u001b[39;00m \u001b[38;5;28mgetattr\u001b[39m(\u001b[38;5;28mself\u001b[39m, \u001b[33m\"\u001b[39m\u001b[33m_eval_epoch_iterator\u001b[39m\u001b[33m\"\u001b[39m, \u001b[38;5;28;01mNone\u001b[39;00m) \u001b[38;5;129;01mis\u001b[39;00m \u001b[38;5;28;01mNone\u001b[39;00m:\n\u001b[32m    385\u001b[39m     \u001b[38;5;28mself\u001b[39m._eval_epoch_iterator = TFEpochIterator(\n\u001b[32m    386\u001b[39m         x=val_x,\n\u001b[32m    387\u001b[39m         y=val_y,\n\u001b[32m   (...)\u001b[39m\u001b[32m    393\u001b[39m         shuffle=\u001b[38;5;28;01mFalse\u001b[39;00m,\n\u001b[32m    394\u001b[39m     )\n\u001b[32m--> \u001b[39m\u001b[32m395\u001b[39m val_logs = \u001b[38;5;28;43mself\u001b[39;49m\u001b[43m.\u001b[49m\u001b[43mevaluate\u001b[49m\u001b[43m(\u001b[49m\n\u001b[32m    396\u001b[39m \u001b[43m    \u001b[49m\u001b[43mx\u001b[49m\u001b[43m=\u001b[49m\u001b[43mval_x\u001b[49m\u001b[43m,\u001b[49m\n\u001b[32m    397\u001b[39m \u001b[43m    \u001b[49m\u001b[43my\u001b[49m\u001b[43m=\u001b[49m\u001b[43mval_y\u001b[49m\u001b[43m,\u001b[49m\n\u001b[32m    398\u001b[39m \u001b[43m    \u001b[49m\u001b[43msample_weight\u001b[49m\u001b[43m=\u001b[49m\u001b[43mval_sample_weight\u001b[49m\u001b[43m,\u001b[49m\n\u001b[32m    399\u001b[39m \u001b[43m    \u001b[49m\u001b[43mbatch_size\u001b[49m\u001b[43m=\u001b[49m\u001b[43mvalidation_batch_size\u001b[49m\u001b[43m \u001b[49m\u001b[38;5;129;43;01mor\u001b[39;49;00m\u001b[43m \u001b[49m\u001b[43mbatch_size\u001b[49m\u001b[43m,\u001b[49m\n\u001b[32m    400\u001b[39m \u001b[43m    \u001b[49m\u001b[43msteps\u001b[49m\u001b[43m=\u001b[49m\u001b[43mvalidation_steps\u001b[49m\u001b[43m,\u001b[49m\n\u001b[32m    401\u001b[39m \u001b[43m    \u001b[49m\u001b[43mcallbacks\u001b[49m\u001b[43m=\u001b[49m\u001b[43mcallbacks\u001b[49m\u001b[43m,\u001b[49m\n\u001b[32m    402\u001b[39m \u001b[43m    \u001b[49m\u001b[43mreturn_dict\u001b[49m\u001b[43m=\u001b[49m\u001b[38;5;28;43;01mTrue\u001b[39;49;00m\u001b[43m,\u001b[49m\n\u001b[32m    403\u001b[39m \u001b[43m    \u001b[49m\u001b[43m_use_cached_eval_dataset\u001b[49m\u001b[43m=\u001b[49m\u001b[38;5;28;43;01mTrue\u001b[39;49;00m\u001b[43m,\u001b[49m\n\u001b[32m    404\u001b[39m \u001b[43m\u001b[49m\u001b[43m)\u001b[49m\n\u001b[32m    405\u001b[39m val_logs = {\n\u001b[32m    406\u001b[39m     \u001b[33m\"\u001b[39m\u001b[33mval_\u001b[39m\u001b[33m\"\u001b[39m + name: val \u001b[38;5;28;01mfor\u001b[39;00m name, val \u001b[38;5;129;01min\u001b[39;00m val_logs.items()\n\u001b[32m    407\u001b[39m }\n\u001b[32m    408\u001b[39m epoch_logs.update(val_logs)\n",
            "\u001b[36mFile \u001b[39m\u001b[32m~/Documents/UChicago MS/2025 Spring/Computer Vision with DL/.venv/lib/python3.12/site-packages/keras/src/utils/traceback_utils.py:117\u001b[39m, in \u001b[36mfilter_traceback.<locals>.error_handler\u001b[39m\u001b[34m(*args, **kwargs)\u001b[39m\n\u001b[32m    115\u001b[39m filtered_tb = \u001b[38;5;28;01mNone\u001b[39;00m\n\u001b[32m    116\u001b[39m \u001b[38;5;28;01mtry\u001b[39;00m:\n\u001b[32m--> \u001b[39m\u001b[32m117\u001b[39m     \u001b[38;5;28;01mreturn\u001b[39;00m \u001b[43mfn\u001b[49m\u001b[43m(\u001b[49m\u001b[43m*\u001b[49m\u001b[43margs\u001b[49m\u001b[43m,\u001b[49m\u001b[43m \u001b[49m\u001b[43m*\u001b[49m\u001b[43m*\u001b[49m\u001b[43mkwargs\u001b[49m\u001b[43m)\u001b[49m\n\u001b[32m    118\u001b[39m \u001b[38;5;28;01mexcept\u001b[39;00m \u001b[38;5;167;01mException\u001b[39;00m \u001b[38;5;28;01mas\u001b[39;00m e:\n\u001b[32m    119\u001b[39m     filtered_tb = _process_traceback_frames(e.__traceback__)\n",
            "\u001b[36mFile \u001b[39m\u001b[32m~/Documents/UChicago MS/2025 Spring/Computer Vision with DL/.venv/lib/python3.12/site-packages/keras/src/backend/tensorflow/trainer.py:483\u001b[39m, in \u001b[36mTensorFlowTrainer.evaluate\u001b[39m\u001b[34m(self, x, y, batch_size, verbose, sample_weight, steps, callbacks, return_dict, **kwargs)\u001b[39m\n\u001b[32m    481\u001b[39m \u001b[38;5;28;01mfor\u001b[39;00m step, iterator \u001b[38;5;129;01min\u001b[39;00m epoch_iterator:\n\u001b[32m    482\u001b[39m     callbacks.on_test_batch_begin(step)\n\u001b[32m--> \u001b[39m\u001b[32m483\u001b[39m     logs = \u001b[38;5;28;43mself\u001b[39;49m\u001b[43m.\u001b[49m\u001b[43mtest_function\u001b[49m\u001b[43m(\u001b[49m\u001b[43miterator\u001b[49m\u001b[43m)\u001b[49m\n\u001b[32m    484\u001b[39m     callbacks.on_test_batch_end(step, logs)\n\u001b[32m    485\u001b[39m     \u001b[38;5;28;01mif\u001b[39;00m \u001b[38;5;28mself\u001b[39m.stop_evaluating:\n",
            "\u001b[36mFile \u001b[39m\u001b[32m~/Documents/UChicago MS/2025 Spring/Computer Vision with DL/.venv/lib/python3.12/site-packages/keras/src/backend/tensorflow/trainer.py:219\u001b[39m, in \u001b[36mTensorFlowTrainer._make_function.<locals>.function\u001b[39m\u001b[34m(iterator)\u001b[39m\n\u001b[32m    215\u001b[39m \u001b[38;5;28;01mdef\u001b[39;00m\u001b[38;5;250m \u001b[39m\u001b[34mfunction\u001b[39m(iterator):\n\u001b[32m    216\u001b[39m     \u001b[38;5;28;01mif\u001b[39;00m \u001b[38;5;28misinstance\u001b[39m(\n\u001b[32m    217\u001b[39m         iterator, (tf.data.Iterator, tf.distribute.DistributedIterator)\n\u001b[32m    218\u001b[39m     ):\n\u001b[32m--> \u001b[39m\u001b[32m219\u001b[39m         opt_outputs = \u001b[43mmulti_step_on_iterator\u001b[49m\u001b[43m(\u001b[49m\u001b[43miterator\u001b[49m\u001b[43m)\u001b[49m\n\u001b[32m    220\u001b[39m         \u001b[38;5;28;01mif\u001b[39;00m \u001b[38;5;129;01mnot\u001b[39;00m opt_outputs.has_value():\n\u001b[32m    221\u001b[39m             \u001b[38;5;28;01mraise\u001b[39;00m \u001b[38;5;167;01mStopIteration\u001b[39;00m\n",
            "\u001b[36mFile \u001b[39m\u001b[32m~/Documents/UChicago MS/2025 Spring/Computer Vision with DL/.venv/lib/python3.12/site-packages/tensorflow/python/util/traceback_utils.py:150\u001b[39m, in \u001b[36mfilter_traceback.<locals>.error_handler\u001b[39m\u001b[34m(*args, **kwargs)\u001b[39m\n\u001b[32m    148\u001b[39m filtered_tb = \u001b[38;5;28;01mNone\u001b[39;00m\n\u001b[32m    149\u001b[39m \u001b[38;5;28;01mtry\u001b[39;00m:\n\u001b[32m--> \u001b[39m\u001b[32m150\u001b[39m   \u001b[38;5;28;01mreturn\u001b[39;00m \u001b[43mfn\u001b[49m\u001b[43m(\u001b[49m\u001b[43m*\u001b[49m\u001b[43margs\u001b[49m\u001b[43m,\u001b[49m\u001b[43m \u001b[49m\u001b[43m*\u001b[49m\u001b[43m*\u001b[49m\u001b[43mkwargs\u001b[49m\u001b[43m)\u001b[49m\n\u001b[32m    151\u001b[39m \u001b[38;5;28;01mexcept\u001b[39;00m \u001b[38;5;167;01mException\u001b[39;00m \u001b[38;5;28;01mas\u001b[39;00m e:\n\u001b[32m    152\u001b[39m   filtered_tb = _process_traceback_frames(e.__traceback__)\n",
            "\u001b[36mFile \u001b[39m\u001b[32m~/Documents/UChicago MS/2025 Spring/Computer Vision with DL/.venv/lib/python3.12/site-packages/tensorflow/python/eager/polymorphic_function/polymorphic_function.py:833\u001b[39m, in \u001b[36mFunction.__call__\u001b[39m\u001b[34m(self, *args, **kwds)\u001b[39m\n\u001b[32m    830\u001b[39m compiler = \u001b[33m\"\u001b[39m\u001b[33mxla\u001b[39m\u001b[33m\"\u001b[39m \u001b[38;5;28;01mif\u001b[39;00m \u001b[38;5;28mself\u001b[39m._jit_compile \u001b[38;5;28;01melse\u001b[39;00m \u001b[33m\"\u001b[39m\u001b[33mnonXla\u001b[39m\u001b[33m\"\u001b[39m\n\u001b[32m    832\u001b[39m \u001b[38;5;28;01mwith\u001b[39;00m OptionalXlaContext(\u001b[38;5;28mself\u001b[39m._jit_compile):\n\u001b[32m--> \u001b[39m\u001b[32m833\u001b[39m   result = \u001b[38;5;28;43mself\u001b[39;49m\u001b[43m.\u001b[49m\u001b[43m_call\u001b[49m\u001b[43m(\u001b[49m\u001b[43m*\u001b[49m\u001b[43margs\u001b[49m\u001b[43m,\u001b[49m\u001b[43m \u001b[49m\u001b[43m*\u001b[49m\u001b[43m*\u001b[49m\u001b[43mkwds\u001b[49m\u001b[43m)\u001b[49m\n\u001b[32m    835\u001b[39m new_tracing_count = \u001b[38;5;28mself\u001b[39m.experimental_get_tracing_count()\n\u001b[32m    836\u001b[39m without_tracing = (tracing_count == new_tracing_count)\n",
            "\u001b[36mFile \u001b[39m\u001b[32m~/Documents/UChicago MS/2025 Spring/Computer Vision with DL/.venv/lib/python3.12/site-packages/tensorflow/python/eager/polymorphic_function/polymorphic_function.py:878\u001b[39m, in \u001b[36mFunction._call\u001b[39m\u001b[34m(self, *args, **kwds)\u001b[39m\n\u001b[32m    875\u001b[39m \u001b[38;5;28mself\u001b[39m._lock.release()\n\u001b[32m    876\u001b[39m \u001b[38;5;66;03m# In this case we have not created variables on the first call. So we can\u001b[39;00m\n\u001b[32m    877\u001b[39m \u001b[38;5;66;03m# run the first trace but we should fail if variables are created.\u001b[39;00m\n\u001b[32m--> \u001b[39m\u001b[32m878\u001b[39m results = \u001b[43mtracing_compilation\u001b[49m\u001b[43m.\u001b[49m\u001b[43mcall_function\u001b[49m\u001b[43m(\u001b[49m\n\u001b[32m    879\u001b[39m \u001b[43m    \u001b[49m\u001b[43margs\u001b[49m\u001b[43m,\u001b[49m\u001b[43m \u001b[49m\u001b[43mkwds\u001b[49m\u001b[43m,\u001b[49m\u001b[43m \u001b[49m\u001b[38;5;28;43mself\u001b[39;49m\u001b[43m.\u001b[49m\u001b[43m_variable_creation_config\u001b[49m\n\u001b[32m    880\u001b[39m \u001b[43m\u001b[49m\u001b[43m)\u001b[49m\n\u001b[32m    881\u001b[39m \u001b[38;5;28;01mif\u001b[39;00m \u001b[38;5;28mself\u001b[39m._created_variables:\n\u001b[32m    882\u001b[39m   \u001b[38;5;28;01mraise\u001b[39;00m \u001b[38;5;167;01mValueError\u001b[39;00m(\u001b[33m\"\u001b[39m\u001b[33mCreating variables on a non-first call to a function\u001b[39m\u001b[33m\"\u001b[39m\n\u001b[32m    883\u001b[39m                    \u001b[33m\"\u001b[39m\u001b[33m decorated with tf.function.\u001b[39m\u001b[33m\"\u001b[39m)\n",
            "\u001b[36mFile \u001b[39m\u001b[32m~/Documents/UChicago MS/2025 Spring/Computer Vision with DL/.venv/lib/python3.12/site-packages/tensorflow/python/eager/polymorphic_function/tracing_compilation.py:139\u001b[39m, in \u001b[36mcall_function\u001b[39m\u001b[34m(args, kwargs, tracing_options)\u001b[39m\n\u001b[32m    137\u001b[39m bound_args = function.function_type.bind(*args, **kwargs)\n\u001b[32m    138\u001b[39m flat_inputs = function.function_type.unpack_inputs(bound_args)\n\u001b[32m--> \u001b[39m\u001b[32m139\u001b[39m \u001b[38;5;28;01mreturn\u001b[39;00m \u001b[43mfunction\u001b[49m\u001b[43m.\u001b[49m\u001b[43m_call_flat\u001b[49m\u001b[43m(\u001b[49m\u001b[43m  \u001b[49m\u001b[38;5;66;43;03m# pylint: disable=protected-access\u001b[39;49;00m\n\u001b[32m    140\u001b[39m \u001b[43m    \u001b[49m\u001b[43mflat_inputs\u001b[49m\u001b[43m,\u001b[49m\u001b[43m \u001b[49m\u001b[43mcaptured_inputs\u001b[49m\u001b[43m=\u001b[49m\u001b[43mfunction\u001b[49m\u001b[43m.\u001b[49m\u001b[43mcaptured_inputs\u001b[49m\n\u001b[32m    141\u001b[39m \u001b[43m\u001b[49m\u001b[43m)\u001b[49m\n",
            "\u001b[36mFile \u001b[39m\u001b[32m~/Documents/UChicago MS/2025 Spring/Computer Vision with DL/.venv/lib/python3.12/site-packages/tensorflow/python/eager/polymorphic_function/concrete_function.py:1322\u001b[39m, in \u001b[36mConcreteFunction._call_flat\u001b[39m\u001b[34m(self, tensor_inputs, captured_inputs)\u001b[39m\n\u001b[32m   1318\u001b[39m possible_gradient_type = gradients_util.PossibleTapeGradientTypes(args)\n\u001b[32m   1319\u001b[39m \u001b[38;5;28;01mif\u001b[39;00m (possible_gradient_type == gradients_util.POSSIBLE_GRADIENT_TYPES_NONE\n\u001b[32m   1320\u001b[39m     \u001b[38;5;129;01mand\u001b[39;00m executing_eagerly):\n\u001b[32m   1321\u001b[39m   \u001b[38;5;66;03m# No tape is watching; skip to running the function.\u001b[39;00m\n\u001b[32m-> \u001b[39m\u001b[32m1322\u001b[39m   \u001b[38;5;28;01mreturn\u001b[39;00m \u001b[38;5;28;43mself\u001b[39;49m\u001b[43m.\u001b[49m\u001b[43m_inference_function\u001b[49m\u001b[43m.\u001b[49m\u001b[43mcall_preflattened\u001b[49m\u001b[43m(\u001b[49m\u001b[43margs\u001b[49m\u001b[43m)\u001b[49m\n\u001b[32m   1323\u001b[39m forward_backward = \u001b[38;5;28mself\u001b[39m._select_forward_and_backward_functions(\n\u001b[32m   1324\u001b[39m     args,\n\u001b[32m   1325\u001b[39m     possible_gradient_type,\n\u001b[32m   1326\u001b[39m     executing_eagerly)\n\u001b[32m   1327\u001b[39m forward_function, args_with_tangents = forward_backward.forward()\n",
            "\u001b[36mFile \u001b[39m\u001b[32m~/Documents/UChicago MS/2025 Spring/Computer Vision with DL/.venv/lib/python3.12/site-packages/tensorflow/python/eager/polymorphic_function/atomic_function.py:216\u001b[39m, in \u001b[36mAtomicFunction.call_preflattened\u001b[39m\u001b[34m(self, args)\u001b[39m\n\u001b[32m    214\u001b[39m \u001b[38;5;28;01mdef\u001b[39;00m\u001b[38;5;250m \u001b[39m\u001b[34mcall_preflattened\u001b[39m(\u001b[38;5;28mself\u001b[39m, args: Sequence[core.Tensor]) -> Any:\n\u001b[32m    215\u001b[39m \u001b[38;5;250m  \u001b[39m\u001b[33;03m\"\"\"Calls with flattened tensor inputs and returns the structured output.\"\"\"\u001b[39;00m\n\u001b[32m--> \u001b[39m\u001b[32m216\u001b[39m   flat_outputs = \u001b[38;5;28;43mself\u001b[39;49m\u001b[43m.\u001b[49m\u001b[43mcall_flat\u001b[49m\u001b[43m(\u001b[49m\u001b[43m*\u001b[49m\u001b[43margs\u001b[49m\u001b[43m)\u001b[49m\n\u001b[32m    217\u001b[39m   \u001b[38;5;28;01mreturn\u001b[39;00m \u001b[38;5;28mself\u001b[39m.function_type.pack_output(flat_outputs)\n",
            "\u001b[36mFile \u001b[39m\u001b[32m~/Documents/UChicago MS/2025 Spring/Computer Vision with DL/.venv/lib/python3.12/site-packages/tensorflow/python/eager/polymorphic_function/atomic_function.py:251\u001b[39m, in \u001b[36mAtomicFunction.call_flat\u001b[39m\u001b[34m(self, *args)\u001b[39m\n\u001b[32m    249\u001b[39m \u001b[38;5;28;01mwith\u001b[39;00m record.stop_recording():\n\u001b[32m    250\u001b[39m   \u001b[38;5;28;01mif\u001b[39;00m \u001b[38;5;28mself\u001b[39m._bound_context.executing_eagerly():\n\u001b[32m--> \u001b[39m\u001b[32m251\u001b[39m     outputs = \u001b[38;5;28;43mself\u001b[39;49m\u001b[43m.\u001b[49m\u001b[43m_bound_context\u001b[49m\u001b[43m.\u001b[49m\u001b[43mcall_function\u001b[49m\u001b[43m(\u001b[49m\n\u001b[32m    252\u001b[39m \u001b[43m        \u001b[49m\u001b[38;5;28;43mself\u001b[39;49m\u001b[43m.\u001b[49m\u001b[43mname\u001b[49m\u001b[43m,\u001b[49m\n\u001b[32m    253\u001b[39m \u001b[43m        \u001b[49m\u001b[38;5;28;43mlist\u001b[39;49m\u001b[43m(\u001b[49m\u001b[43margs\u001b[49m\u001b[43m)\u001b[49m\u001b[43m,\u001b[49m\n\u001b[32m    254\u001b[39m \u001b[43m        \u001b[49m\u001b[38;5;28;43mlen\u001b[39;49m\u001b[43m(\u001b[49m\u001b[38;5;28;43mself\u001b[39;49m\u001b[43m.\u001b[49m\u001b[43mfunction_type\u001b[49m\u001b[43m.\u001b[49m\u001b[43mflat_outputs\u001b[49m\u001b[43m)\u001b[49m\u001b[43m,\u001b[49m\n\u001b[32m    255\u001b[39m \u001b[43m    \u001b[49m\u001b[43m)\u001b[49m\n\u001b[32m    256\u001b[39m   \u001b[38;5;28;01melse\u001b[39;00m:\n\u001b[32m    257\u001b[39m     outputs = make_call_op_in_graph(\n\u001b[32m    258\u001b[39m         \u001b[38;5;28mself\u001b[39m,\n\u001b[32m    259\u001b[39m         \u001b[38;5;28mlist\u001b[39m(args),\n\u001b[32m    260\u001b[39m         \u001b[38;5;28mself\u001b[39m._bound_context.function_call_options.as_attrs(),\n\u001b[32m    261\u001b[39m     )\n",
            "\u001b[36mFile \u001b[39m\u001b[32m~/Documents/UChicago MS/2025 Spring/Computer Vision with DL/.venv/lib/python3.12/site-packages/tensorflow/python/eager/context.py:1688\u001b[39m, in \u001b[36mContext.call_function\u001b[39m\u001b[34m(self, name, tensor_inputs, num_outputs)\u001b[39m\n\u001b[32m   1686\u001b[39m cancellation_context = cancellation.context()\n\u001b[32m   1687\u001b[39m \u001b[38;5;28;01mif\u001b[39;00m cancellation_context \u001b[38;5;129;01mis\u001b[39;00m \u001b[38;5;28;01mNone\u001b[39;00m:\n\u001b[32m-> \u001b[39m\u001b[32m1688\u001b[39m   outputs = \u001b[43mexecute\u001b[49m\u001b[43m.\u001b[49m\u001b[43mexecute\u001b[49m\u001b[43m(\u001b[49m\n\u001b[32m   1689\u001b[39m \u001b[43m      \u001b[49m\u001b[43mname\u001b[49m\u001b[43m.\u001b[49m\u001b[43mdecode\u001b[49m\u001b[43m(\u001b[49m\u001b[33;43m\"\u001b[39;49m\u001b[33;43mutf-8\u001b[39;49m\u001b[33;43m\"\u001b[39;49m\u001b[43m)\u001b[49m\u001b[43m,\u001b[49m\n\u001b[32m   1690\u001b[39m \u001b[43m      \u001b[49m\u001b[43mnum_outputs\u001b[49m\u001b[43m=\u001b[49m\u001b[43mnum_outputs\u001b[49m\u001b[43m,\u001b[49m\n\u001b[32m   1691\u001b[39m \u001b[43m      \u001b[49m\u001b[43minputs\u001b[49m\u001b[43m=\u001b[49m\u001b[43mtensor_inputs\u001b[49m\u001b[43m,\u001b[49m\n\u001b[32m   1692\u001b[39m \u001b[43m      \u001b[49m\u001b[43mattrs\u001b[49m\u001b[43m=\u001b[49m\u001b[43mattrs\u001b[49m\u001b[43m,\u001b[49m\n\u001b[32m   1693\u001b[39m \u001b[43m      \u001b[49m\u001b[43mctx\u001b[49m\u001b[43m=\u001b[49m\u001b[38;5;28;43mself\u001b[39;49m\u001b[43m,\u001b[49m\n\u001b[32m   1694\u001b[39m \u001b[43m  \u001b[49m\u001b[43m)\u001b[49m\n\u001b[32m   1695\u001b[39m \u001b[38;5;28;01melse\u001b[39;00m:\n\u001b[32m   1696\u001b[39m   outputs = execute.execute_with_cancellation(\n\u001b[32m   1697\u001b[39m       name.decode(\u001b[33m\"\u001b[39m\u001b[33mutf-8\u001b[39m\u001b[33m\"\u001b[39m),\n\u001b[32m   1698\u001b[39m       num_outputs=num_outputs,\n\u001b[32m   (...)\u001b[39m\u001b[32m   1702\u001b[39m       cancellation_manager=cancellation_context,\n\u001b[32m   1703\u001b[39m   )\n",
            "\u001b[36mFile \u001b[39m\u001b[32m~/Documents/UChicago MS/2025 Spring/Computer Vision with DL/.venv/lib/python3.12/site-packages/tensorflow/python/eager/execute.py:53\u001b[39m, in \u001b[36mquick_execute\u001b[39m\u001b[34m(op_name, num_outputs, inputs, attrs, ctx, name)\u001b[39m\n\u001b[32m     51\u001b[39m \u001b[38;5;28;01mtry\u001b[39;00m:\n\u001b[32m     52\u001b[39m   ctx.ensure_initialized()\n\u001b[32m---> \u001b[39m\u001b[32m53\u001b[39m   tensors = \u001b[43mpywrap_tfe\u001b[49m\u001b[43m.\u001b[49m\u001b[43mTFE_Py_Execute\u001b[49m\u001b[43m(\u001b[49m\u001b[43mctx\u001b[49m\u001b[43m.\u001b[49m\u001b[43m_handle\u001b[49m\u001b[43m,\u001b[49m\u001b[43m \u001b[49m\u001b[43mdevice_name\u001b[49m\u001b[43m,\u001b[49m\u001b[43m \u001b[49m\u001b[43mop_name\u001b[49m\u001b[43m,\u001b[49m\n\u001b[32m     54\u001b[39m \u001b[43m                                      \u001b[49m\u001b[43minputs\u001b[49m\u001b[43m,\u001b[49m\u001b[43m \u001b[49m\u001b[43mattrs\u001b[49m\u001b[43m,\u001b[49m\u001b[43m \u001b[49m\u001b[43mnum_outputs\u001b[49m\u001b[43m)\u001b[49m\n\u001b[32m     55\u001b[39m \u001b[38;5;28;01mexcept\u001b[39;00m core._NotOkStatusException \u001b[38;5;28;01mas\u001b[39;00m e:\n\u001b[32m     56\u001b[39m   \u001b[38;5;28;01mif\u001b[39;00m name \u001b[38;5;129;01mis\u001b[39;00m \u001b[38;5;129;01mnot\u001b[39;00m \u001b[38;5;28;01mNone\u001b[39;00m:\n",
            "\u001b[31mKeyboardInterrupt\u001b[39m: "
          ]
        }
      ],
      "source": [
        "history = model.fit(x = train_ds,\n",
        "                    epochs = 50,\n",
        "                    validation_data = train_ds)"
      ]
    },
    {
      "cell_type": "markdown",
      "metadata": {
        "id": "KKUfMNVns2hu"
      },
      "source": [
        "### Visualize the results\n",
        "\n",
        "Create plots of the loss and accuracy on the training and validation sets:"
      ]
    },
    {
      "cell_type": "code",
      "execution_count": null,
      "metadata": {
        "id": "Cd5tpNrtOrs7"
      },
      "outputs": [],
      "source": [
        "def plot_history(history):\n",
        "  \"\"\"\n",
        "    Plotting training and validation learning curves.\n",
        "\n",
        "    Args:\n",
        "      history: model history with all the metric measures\n",
        "  \"\"\"\n",
        "  fig, (ax1, ax2) = plt.subplots(2)\n",
        "\n",
        "  fig.set_size_inches(18.5, 10.5)\n",
        "\n",
        "  # Plot loss\n",
        "  ax1.set_title('Loss')\n",
        "  ax1.plot(history.history['loss'], label = 'train')\n",
        "  ax1.plot(history.history['val_loss'], label = 'test')\n",
        "  ax1.set_ylabel('Loss')\n",
        "\n",
        "  # Determine upper bound of y-axis\n",
        "  max_loss = max(history.history['loss'] + history.history['val_loss'])\n",
        "\n",
        "  ax1.set_ylim([0, np.ceil(max_loss)])\n",
        "  ax1.set_xlabel('Epoch')\n",
        "  ax1.legend(['Train', 'Validation'])\n",
        "\n",
        "  # Plot accuracy\n",
        "  ax2.set_title('Accuracy')\n",
        "  ax2.plot(history.history['accuracy'],  label = 'train')\n",
        "  ax2.plot(history.history['val_accuracy'], label = 'test')\n",
        "  ax2.set_ylabel('Accuracy')\n",
        "  ax2.set_ylim([0, 1])\n",
        "  ax2.set_xlabel('Epoch')\n",
        "  ax2.legend(['Train', 'Validation'])\n",
        "\n",
        "  plt.show()\n",
        "\n",
        "plot_history(history)"
      ]
    },
    {
      "cell_type": "markdown",
      "metadata": {
        "id": "EJrGF0Sss8E0"
      },
      "source": [
        "## Evaluate the model\n",
        "\n",
        "Use Keras `Model.evaluate` to get the loss and accuracy on the test dataset.\n",
        "\n",
        "Note: The example model in this tutorial uses a subset of the UCF101 dataset to keep training time reasonable. The accuracy and loss can be improved with further hyperparameter tuning or more training data."
      ]
    },
    {
      "cell_type": "code",
      "execution_count": null,
      "metadata": {
        "id": "Hev0hMCxOtfy"
      },
      "outputs": [],
      "source": [
        "model.evaluate(test_ds, return_dict=True)"
      ]
    },
    {
      "cell_type": "markdown",
      "metadata": {
        "id": "-F73GxD1-yc8"
      },
      "source": [
        "To visualize model performance further, use a [confusion matrix](https://www.tensorflow.org/api_docs/python/tf/math/confusion_matrix). The confusion matrix allows you to assess the performance of the classification model beyond accuracy. In order to build the confusion matrix for this multi-class classification problem, get the actual values in the test set and the predicted values."
      ]
    },
    {
      "cell_type": "code",
      "execution_count": null,
      "metadata": {
        "id": "Yw-6rG5V-0L-"
      },
      "outputs": [],
      "source": [
        "def get_actual_predicted_labels(dataset):\n",
        "  \"\"\"\n",
        "    Create a list of actual ground truth values and the predictions from the model.\n",
        "\n",
        "    Args:\n",
        "      dataset: An iterable data structure, such as a TensorFlow Dataset, with features and labels.\n",
        "\n",
        "    Return:\n",
        "      Ground truth and predicted values for a particular dataset.\n",
        "  \"\"\"\n",
        "  actual = [labels for _, labels in dataset.unbatch()]\n",
        "  predicted = model.predict(dataset)\n",
        "\n",
        "  actual = tf.stack(actual, axis=0)\n",
        "  predicted = tf.concat(predicted, axis=0)\n",
        "  predicted = tf.argmax(predicted, axis=1)\n",
        "\n",
        "  return actual, predicted"
      ]
    },
    {
      "cell_type": "code",
      "execution_count": null,
      "metadata": {
        "id": "aln6qWW_-2dk"
      },
      "outputs": [],
      "source": [
        "def plot_confusion_matrix(actual, predicted, labels, ds_type):\n",
        "  cm = tf.math.confusion_matrix(actual, predicted)\n",
        "  ax = sns.heatmap(cm, annot=True, fmt='g')\n",
        "  sns.set(rc={'figure.figsize':(12, 12)})\n",
        "  sns.set(font_scale=1.4)\n",
        "  ax.set_title('Confusion matrix of action recognition for ' + ds_type)\n",
        "  ax.set_xlabel('Predicted Action')\n",
        "  ax.set_ylabel('Actual Action')\n",
        "  plt.xticks(rotation=90)\n",
        "  plt.yticks(rotation=0)\n",
        "  ax.xaxis.set_ticklabels(labels)\n",
        "  ax.yaxis.set_ticklabels(labels)"
      ]
    },
    {
      "cell_type": "code",
      "execution_count": null,
      "metadata": {
        "id": "tfQ3VAGd-4Az"
      },
      "outputs": [],
      "source": [
        "fg = FrameGenerator(subset_paths['train'], n_frames, training=True)\n",
        "labels = list(fg.class_ids_for_name.keys())"
      ]
    },
    {
      "cell_type": "code",
      "execution_count": null,
      "metadata": {
        "id": "1ucGpbiA-5qi"
      },
      "outputs": [],
      "source": [
        "actual, predicted = get_actual_predicted_labels(train_ds)\n",
        "plot_confusion_matrix(actual, predicted, labels, 'training')"
      ]
    },
    {
      "cell_type": "code",
      "execution_count": null,
      "metadata": {
        "id": "Mfr7AT5T-7ZD"
      },
      "outputs": [],
      "source": [
        "actual, predicted = get_actual_predicted_labels(test_ds)\n",
        "plot_confusion_matrix(actual, predicted, labels, 'test')"
      ]
    },
    {
      "cell_type": "markdown",
      "metadata": {
        "id": "FefzeIZz-9aI"
      },
      "source": [
        "The precision and recall values for each class can also be calculated using a confusion matrix."
      ]
    },
    {
      "cell_type": "code",
      "execution_count": null,
      "metadata": {
        "id": "dq95-56Z-_E2"
      },
      "outputs": [],
      "source": [
        "def calculate_classification_metrics(y_actual, y_pred, labels):\n",
        "  \"\"\"\n",
        "    Calculate the precision and recall of a classification model using the ground truth and\n",
        "    predicted values.\n",
        "\n",
        "    Args:\n",
        "      y_actual: Ground truth labels.\n",
        "      y_pred: Predicted labels.\n",
        "      labels: List of classification labels.\n",
        "\n",
        "    Return:\n",
        "      Precision and recall measures.\n",
        "  \"\"\"\n",
        "  cm = tf.math.confusion_matrix(y_actual, y_pred)\n",
        "  tp = np.diag(cm) # Diagonal represents true positives\n",
        "  precision = dict()\n",
        "  recall = dict()\n",
        "  for i in range(len(labels)):\n",
        "    col = cm[:, i]\n",
        "    fp = np.sum(col) - tp[i] # Sum of column minus true positive is false negative\n",
        "\n",
        "    row = cm[i, :]\n",
        "    fn = np.sum(row) - tp[i] # Sum of row minus true positive, is false negative\n",
        "\n",
        "    precision[labels[i]] = tp[i] / (tp[i] + fp) # Precision\n",
        "\n",
        "    recall[labels[i]] = tp[i] / (tp[i] + fn) # Recall\n",
        "\n",
        "  return precision, recall"
      ]
    },
    {
      "cell_type": "code",
      "execution_count": null,
      "metadata": {
        "id": "4jSEonYQ_BZt"
      },
      "outputs": [],
      "source": [
        "precision, recall = calculate_classification_metrics(actual, predicted, labels) # Test dataset"
      ]
    },
    {
      "cell_type": "code",
      "execution_count": null,
      "metadata": {
        "id": "hXvTW1Df_DV8"
      },
      "outputs": [],
      "source": [
        "precision"
      ]
    },
    {
      "cell_type": "code",
      "execution_count": null,
      "metadata": {
        "id": "be1yrQl5_EYF"
      },
      "outputs": [],
      "source": [
        "recall"
      ]
    },
    {
      "cell_type": "markdown",
      "metadata": {
        "id": "d4WsP4Z2HZ6L"
      },
      "source": [
        "## Next steps\n",
        "\n",
        "To learn more about working with video data in TensorFlow, check out the following tutorials:\n",
        "\n",
        "* [Load video data](https://www.tensorflow.org/tutorials/load_data/video)\n",
        "* [MoViNet for streaming action recognition](https://www.tensorflow.org/hub/tutorials/movinet)\n",
        "* [Transfer learning for video classification with MoViNet](https://www.tensorflow.org/tutorials/video/transfer_learning_with_movinet)"
      ]
    }
  ],
  "metadata": {
    "accelerator": "GPU",
    "colab": {
      "name": "video_classification.ipynb",
      "provenance": [],
      "toc_visible": true
    },
    "kernelspec": {
      "display_name": ".venv",
      "language": "python",
      "name": "python3"
    },
    "language_info": {
      "codemirror_mode": {
        "name": "ipython",
        "version": 3
      },
      "file_extension": ".py",
      "mimetype": "text/x-python",
      "name": "python",
      "nbconvert_exporter": "python",
      "pygments_lexer": "ipython3",
      "version": "3.12.0"
    }
  },
  "nbformat": 4,
  "nbformat_minor": 0
}
